{
 "cells": [
  {
   "cell_type": "markdown",
   "metadata": {
    "id": "LVa95QlIoNpG"
   },
   "source": [
    "# **Handling Data in Python**"
   ]
  },
  {
   "cell_type": "markdown",
   "metadata": {
    "id": "spltaPDroNpJ"
   },
   "source": [
    "> **Credit note:** Part of this lab was adapted from the adaptation by [Volodymyr Kuleshov](http://web.stanford.edu/~kuleshov/) and [Isaac Caswell](https://symsys.stanford.edu/viewing/symsysaffiliate/21335) for Stanford University's `CS228`, which was originally from Stanford University's `CS231n` Python tutorial by Justin Johnson (http://cs231n.github.io/python-numpy-tutorial/).\n",
    "\n",
    "> **Adopted from teaching material of TDS2101 (Tri 2020**)"
   ]
  },
  {
   "cell_type": "markdown",
   "metadata": {
    "id": "ITqJAzwCoNpN"
   },
   "source": [
    "## Introduction\n",
    "\n",
    "Last week, we looked at some fundamentals for Python programming, including **list**, **tuples** and **dictionaries** -- three essential data types that form useful structures that data can be represented by. We did not cover arrays (NB: lists are _not_ arrays), for arrays in Python is are handled by a fast library called **Numpy**. We will later look at tabular data (basically, data in the form of tables) and play with **Pandas**, another library which existed for the purpose of handling and manipulating tabular data efficiently."
   ]
  },
  {
   "cell_type": "markdown",
   "metadata": {
    "id": "mtiWb7m8oNpP"
   },
   "source": [
    "## Numpy"
   ]
  },
  {
   "cell_type": "markdown",
   "metadata": {
    "id": "JY6vgH7GoNpQ"
   },
   "source": [
    "Numpy is the core library for scientific computing in Python. It provides a high-performance multidimensional array object, and tools for working with these arrays. If you are already familiar with MATLAB, you might find this [tutorial](http://wiki.scipy.org/NumPy_for_Matlab_Users) useful to get started with Numpy. If you are familiar with C++/Java, working with these arrays can be a big sigh of relief :-) "
   ]
  },
  {
   "cell_type": "markdown",
   "metadata": {
    "id": "qnEfgfduoNpS"
   },
   "source": [
    "To use Numpy, we first need to import the `numpy` package:"
   ]
  },
  {
   "cell_type": "code",
   "execution_count": 1,
   "metadata": {
    "id": "mwxVindloNpV"
   },
   "outputs": [],
   "source": [
    "import numpy as np"
   ]
  },
  {
   "cell_type": "markdown",
   "metadata": {
    "id": "nVgLET2_oNpl"
   },
   "source": [
    "What we are doing here with **as** is to give an \"alias\" to the numpy class that we are importing for use. From now on, we can just use _np_ to call functions instead of its full name _numpy_.\n",
    "\n",
    "You may check for its version..."
   ]
  },
  {
   "cell_type": "code",
   "execution_count": 2,
   "metadata": {
    "colab": {
     "base_uri": "https://localhost:8080/",
     "height": 35
    },
    "executionInfo": {
     "elapsed": 1043,
     "status": "ok",
     "timestamp": 1606961922594,
     "user": {
      "displayName": "John See",
      "photoUrl": "https://lh3.googleusercontent.com/a-/AOh14GiT4VyFFZRUvkpbrIX_L0tIFUuWgOHNse2TN30A=s64",
      "userId": "10345508966486365390"
     },
     "user_tz": -480
    },
    "id": "AxU3tr1DoNpo",
    "outputId": "c8147868-b4bb-4a8d-8766-53c2d37ccae5"
   },
   "outputs": [
    {
     "data": {
      "text/plain": [
       "'1.22.1'"
      ]
     },
     "execution_count": 2,
     "metadata": {},
     "output_type": "execute_result"
    }
   ],
   "source": [
    "np.__version__       # double underscore on both sides"
   ]
  },
  {
   "cell_type": "code",
   "execution_count": 3,
   "metadata": {},
   "outputs": [
    {
     "data": {
      "text/plain": [
       "'1.4.0'"
      ]
     },
     "execution_count": 3,
     "metadata": {},
     "output_type": "execute_result"
    }
   ],
   "source": [
    "import pandas as pd\n",
    "pd.__version__"
   ]
  },
  {
   "cell_type": "markdown",
   "metadata": {
    "id": "IfmgB7acoNpx"
   },
   "source": [
    "### Arrays"
   ]
  },
  {
   "cell_type": "markdown",
   "metadata": {
    "id": "DfIs2NVpoNpy"
   },
   "source": [
    "A numpy array is a grid of values, all of the same type, and is indexed by a tuple of nonnegative integers. The number of dimensions is the rank of the array; the shape of an array is a tuple of integers giving the size of the array along each dimension."
   ]
  },
  {
   "cell_type": "markdown",
   "metadata": {
    "id": "I38WcZ7foNpz"
   },
   "source": [
    "We can initialize numpy arrays from nested Python lists, and access elements using square brackets:"
   ]
  },
  {
   "cell_type": "code",
   "execution_count": 4,
   "metadata": {
    "colab": {
     "base_uri": "https://localhost:8080/"
    },
    "executionInfo": {
     "elapsed": 1083,
     "status": "ok",
     "timestamp": 1606961927922,
     "user": {
      "displayName": "John See",
      "photoUrl": "https://lh3.googleusercontent.com/a-/AOh14GiT4VyFFZRUvkpbrIX_L0tIFUuWgOHNse2TN30A=s64",
      "userId": "10345508966486365390"
     },
     "user_tz": -480
    },
    "id": "zjsaShCKoNp1",
    "outputId": "8a02f6cb-4a96-480a-d7d3-253445533e81"
   },
   "outputs": [
    {
     "name": "stdout",
     "output_type": "stream",
     "text": [
      "<class 'numpy.ndarray'> (3,) 1 2 3\n",
      "[5 2 3]\n"
     ]
    }
   ],
   "source": [
    "a = np.array([1, 2, 3])  # Create a rank 1 array\n",
    "print (type(a), a.shape, a[0], a[1], a[2])        # observe what is printed out\n",
    "a[0] = 5                 # Change an element of the array\n",
    "print(a)                # ..oh this is easier..               "
   ]
  },
  {
   "cell_type": "code",
   "execution_count": 5,
   "metadata": {
    "colab": {
     "base_uri": "https://localhost:8080/"
    },
    "executionInfo": {
     "elapsed": 1098,
     "status": "ok",
     "timestamp": 1606961932824,
     "user": {
      "displayName": "John See",
      "photoUrl": "https://lh3.googleusercontent.com/a-/AOh14GiT4VyFFZRUvkpbrIX_L0tIFUuWgOHNse2TN30A=s64",
      "userId": "10345508966486365390"
     },
     "user_tz": -480
    },
    "id": "dt7otMm7oNp9",
    "outputId": "bebf79eb-ed78-44fa-883c-8236efc7e99f"
   },
   "outputs": [
    {
     "name": "stdout",
     "output_type": "stream",
     "text": [
      "[[1 2 3]\n",
      " [4 5 6]]\n"
     ]
    }
   ],
   "source": [
    "b = np.array([[1,2,3],[4,5,6]])   # Create a rank 2 array\n",
    "print(b)"
   ]
  },
  {
   "cell_type": "code",
   "execution_count": 6,
   "metadata": {
    "colab": {
     "base_uri": "https://localhost:8080/"
    },
    "executionInfo": {
     "elapsed": 904,
     "status": "ok",
     "timestamp": 1606961935515,
     "user": {
      "displayName": "John See",
      "photoUrl": "https://lh3.googleusercontent.com/a-/AOh14GiT4VyFFZRUvkpbrIX_L0tIFUuWgOHNse2TN30A=s64",
      "userId": "10345508966486365390"
     },
     "user_tz": -480
    },
    "id": "8f3AwTpMoNqC",
    "outputId": "1c6db486-91d5-4cb1-fbf3-7a2c8276f063"
   },
   "outputs": [
    {
     "name": "stdout",
     "output_type": "stream",
     "text": [
      "(2, 3)\n",
      "1 2 4\n"
     ]
    }
   ],
   "source": [
    "print(b.shape) #shape -> (rows,columns)           \n",
    "print(b[0, 0], b[0, 1], b[1, 0])"
   ]
  },
  {
   "cell_type": "markdown",
   "metadata": {
    "id": "TmCWbGacoNqK"
   },
   "source": [
    "Numpy also provides many functions to create specific format of arrays:"
   ]
  },
  {
   "cell_type": "code",
   "execution_count": 7,
   "metadata": {
    "colab": {
     "base_uri": "https://localhost:8080/"
    },
    "executionInfo": {
     "elapsed": 922,
     "status": "ok",
     "timestamp": 1606961974220,
     "user": {
      "displayName": "John See",
      "photoUrl": "https://lh3.googleusercontent.com/a-/AOh14GiT4VyFFZRUvkpbrIX_L0tIFUuWgOHNse2TN30A=s64",
      "userId": "10345508966486365390"
     },
     "user_tz": -480
    },
    "id": "6h9fZTceoNqK",
    "outputId": "f65a6417-6963-42dd-a95b-43f7057efc40"
   },
   "outputs": [
    {
     "name": "stdout",
     "output_type": "stream",
     "text": [
      "[[0. 0.]\n",
      " [0. 0.]]\n"
     ]
    }
   ],
   "source": [
    "a = np.zeros((2,2))  # Create an array of all zeros. Note the floating point .\n",
    "print(a)"
   ]
  },
  {
   "cell_type": "code",
   "execution_count": 8,
   "metadata": {
    "colab": {
     "base_uri": "https://localhost:8080/"
    },
    "executionInfo": {
     "elapsed": 952,
     "status": "ok",
     "timestamp": 1606961976141,
     "user": {
      "displayName": "John See",
      "photoUrl": "https://lh3.googleusercontent.com/a-/AOh14GiT4VyFFZRUvkpbrIX_L0tIFUuWgOHNse2TN30A=s64",
      "userId": "10345508966486365390"
     },
     "user_tz": -480
    },
    "id": "PsSP6B_roNqR",
    "outputId": "3b63186c-e706-4699-87db-1b18ec96fc3d"
   },
   "outputs": [
    {
     "name": "stdout",
     "output_type": "stream",
     "text": [
      "[[1. 1.]]\n"
     ]
    }
   ],
   "source": [
    "b = np.ones((1,2))   # Create an array of all ones\n",
    "print(b)"
   ]
  },
  {
   "cell_type": "code",
   "execution_count": 9,
   "metadata": {
    "colab": {
     "base_uri": "https://localhost:8080/"
    },
    "executionInfo": {
     "elapsed": 966,
     "status": "ok",
     "timestamp": 1606961978930,
     "user": {
      "displayName": "John See",
      "photoUrl": "https://lh3.googleusercontent.com/a-/AOh14GiT4VyFFZRUvkpbrIX_L0tIFUuWgOHNse2TN30A=s64",
      "userId": "10345508966486365390"
     },
     "user_tz": -480
    },
    "id": "BdPVWNtwoNqY",
    "outputId": "5fd4283d-f55d-4589-e0a0-1c864ec41c27"
   },
   "outputs": [
    {
     "name": "stdout",
     "output_type": "stream",
     "text": [
      "[[7 7]\n",
      " [7 7]]\n"
     ]
    }
   ],
   "source": [
    "c = np.full((2,2), 7) # Create a constant array\n",
    "print(c) "
   ]
  },
  {
   "cell_type": "code",
   "execution_count": 10,
   "metadata": {
    "colab": {
     "base_uri": "https://localhost:8080/"
    },
    "executionInfo": {
     "elapsed": 944,
     "status": "ok",
     "timestamp": 1606961981175,
     "user": {
      "displayName": "John See",
      "photoUrl": "https://lh3.googleusercontent.com/a-/AOh14GiT4VyFFZRUvkpbrIX_L0tIFUuWgOHNse2TN30A=s64",
      "userId": "10345508966486365390"
     },
     "user_tz": -480
    },
    "id": "0D6ibsVNoNqe",
    "outputId": "d0de5761-fa21-4b01-b04f-47519af8a826"
   },
   "outputs": [
    {
     "name": "stdout",
     "output_type": "stream",
     "text": [
      "[[1. 0.]\n",
      " [0. 1.]]\n"
     ]
    }
   ],
   "source": [
    "d = np.eye(2)        # Create a 2x2 identity matrix. eye literally means 'I'\n",
    "print(d)"
   ]
  },
  {
   "cell_type": "code",
   "execution_count": 11,
   "metadata": {
    "colab": {
     "base_uri": "https://localhost:8080/"
    },
    "executionInfo": {
     "elapsed": 846,
     "status": "ok",
     "timestamp": 1606961998746,
     "user": {
      "displayName": "John See",
      "photoUrl": "https://lh3.googleusercontent.com/a-/AOh14GiT4VyFFZRUvkpbrIX_L0tIFUuWgOHNse2TN30A=s64",
      "userId": "10345508966486365390"
     },
     "user_tz": -480
    },
    "id": "bjEmE_F4oNqk",
    "outputId": "9d1ba6db-3bd3-4ab4-c9af-fc832dbdfd77"
   },
   "outputs": [
    {
     "name": "stdout",
     "output_type": "stream",
     "text": [
      "[[0.45026078 0.72385366]\n",
      " [0.12353639 0.00853516]]\n"
     ]
    }
   ],
   "source": [
    "e = np.random.random((2,2)) # Create an array filled with random values\n",
    "print(e)"
   ]
  },
  {
   "cell_type": "markdown",
   "metadata": {
    "id": "Nww33oEroNqq"
   },
   "source": [
    "### Array indexing"
   ]
  },
  {
   "cell_type": "markdown",
   "metadata": {
    "id": "jFFsvsN4oNqr"
   },
   "source": [
    "Numpy offers several ways to index into arrays."
   ]
  },
  {
   "cell_type": "markdown",
   "metadata": {
    "id": "iobHw-AfoNqs"
   },
   "source": [
    "Slicing: Similar to Python lists, numpy arrays can be sliced. Since arrays may be multidimensional, you must specify a slice for each dimension of the array:"
   ]
  },
  {
   "cell_type": "code",
   "execution_count": 12,
   "metadata": {
    "colab": {
     "base_uri": "https://localhost:8080/"
    },
    "executionInfo": {
     "elapsed": 914,
     "status": "ok",
     "timestamp": 1606962004685,
     "user": {
      "displayName": "John See",
      "photoUrl": "https://lh3.googleusercontent.com/a-/AOh14GiT4VyFFZRUvkpbrIX_L0tIFUuWgOHNse2TN30A=s64",
      "userId": "10345508966486365390"
     },
     "user_tz": -480
    },
    "id": "TSN1nNCboNqt",
    "outputId": "73846ae8-682e-4b62-de28-637310ac0d41"
   },
   "outputs": [
    {
     "name": "stdout",
     "output_type": "stream",
     "text": [
      "[[ 1  2  3  4]\n",
      " [ 5  6  7  8]\n",
      " [ 9 10 11 12]]\n",
      "---> 10\n",
      "[[2 3]\n",
      " [6 7]]\n"
     ]
    }
   ],
   "source": [
    "# Create the following rank 2 array with shape (3, 4)\n",
    "# [[ 1  2  3  4]\n",
    "#  [ 5  6  7  8]\n",
    "#  [ 9 10 11 12]]\n",
    "a = np.array([[1,2,3,4], [5,6,7,8], [9,10,11,12]])\n",
    "print(a)\n",
    "\n",
    "print('--->',a[2,1])\n",
    "# Use slicing to pull out the subarray consisting of the first 2 rows\n",
    "# and columns 1 and 2; b is the following array of shape (2, 2):\n",
    "# [[2 3]\n",
    "#  [6 7]]\n",
    "b = a[:2, 1:3]\n",
    "print(b)"
   ]
  },
  {
   "cell_type": "markdown",
   "metadata": {
    "id": "YEztW0TWoNqy"
   },
   "source": [
    "Important note: A slice of an array is a \"view\" into the same data, so modifying it will modify the original array."
   ]
  },
  {
   "cell_type": "code",
   "execution_count": 13,
   "metadata": {
    "colab": {
     "base_uri": "https://localhost:8080/"
    },
    "executionInfo": {
     "elapsed": 915,
     "status": "ok",
     "timestamp": 1606963034455,
     "user": {
      "displayName": "John See",
      "photoUrl": "https://lh3.googleusercontent.com/a-/AOh14GiT4VyFFZRUvkpbrIX_L0tIFUuWgOHNse2TN30A=s64",
      "userId": "10345508966486365390"
     },
     "user_tz": -480
    },
    "id": "ru9XjXsSoNqy",
    "outputId": "816e1cff-d3b9-441b-891e-e61d6b75a417"
   },
   "outputs": [
    {
     "name": "stdout",
     "output_type": "stream",
     "text": [
      "2\n",
      "77\n",
      "[[ 1 77  3  4]\n",
      " [ 5  6  7  8]\n",
      " [ 9 10 11 12]]\n"
     ]
    }
   ],
   "source": [
    "print(a[0, 1])  \n",
    "b[0, 0] = 77    # b[0, 0] is the same piece of data as a[0, 1]\n",
    "print(a[0, 1]) \n",
    "print(a)"
   ]
  },
  {
   "cell_type": "markdown",
   "metadata": {
    "id": "t3oPe4dooNq4"
   },
   "source": [
    "You can also mix integer indexing with slice indexing. However, doing so will yield an array of lower rank than the original array. Note that this is quite different from the way that MATLAB handles array slicing:"
   ]
  },
  {
   "cell_type": "code",
   "execution_count": 14,
   "metadata": {
    "colab": {
     "base_uri": "https://localhost:8080/"
    },
    "executionInfo": {
     "elapsed": 923,
     "status": "ok",
     "timestamp": 1606963044824,
     "user": {
      "displayName": "John See",
      "photoUrl": "https://lh3.googleusercontent.com/a-/AOh14GiT4VyFFZRUvkpbrIX_L0tIFUuWgOHNse2TN30A=s64",
      "userId": "10345508966486365390"
     },
     "user_tz": -480
    },
    "id": "ELLvblw2oNq4",
    "outputId": "b3c4266a-7bc7-4bb4-8c40-f640b3b34f3f"
   },
   "outputs": [
    {
     "name": "stdout",
     "output_type": "stream",
     "text": [
      "[[ 1  2  3  4]\n",
      " [ 5  6  7  8]\n",
      " [ 9 10 11 12]]\n"
     ]
    }
   ],
   "source": [
    "# Create the following rank 2 array with shape (3, 4)\n",
    "a = np.array([[1,2,3,4], [5,6,7,8], [9,10,11,12]])\n",
    "print(a)"
   ]
  },
  {
   "cell_type": "markdown",
   "metadata": {
    "id": "EdCdrJ8KoNq9"
   },
   "source": [
    "Two ways of accessing the data in the middle row of the array.\n",
    "Mixing integer indexing with slices yields an array of lower _rank_,\n",
    "while using only slices yields an array of the same _rank_ as the\n",
    "original array (Note that \"rank\" here is slightly different from the matrix rank you learn in linear algebra. Read: https://www.pythoninformer.com/python-libraries/numpy/anatomy-of-array/):"
   ]
  },
  {
   "cell_type": "code",
   "execution_count": 15,
   "metadata": {
    "colab": {
     "base_uri": "https://localhost:8080/"
    },
    "executionInfo": {
     "elapsed": 914,
     "status": "ok",
     "timestamp": 1606963392495,
     "user": {
      "displayName": "John See",
      "photoUrl": "https://lh3.googleusercontent.com/a-/AOh14GiT4VyFFZRUvkpbrIX_L0tIFUuWgOHNse2TN30A=s64",
      "userId": "10345508966486365390"
     },
     "user_tz": -480
    },
    "id": "859q2pShoNrA",
    "outputId": "e9ab6d92-9c47-40ac-d1f4-bee769c53a4d"
   },
   "outputs": [
    {
     "name": "stdout",
     "output_type": "stream",
     "text": [
      "[5 6 7 8] (4,)\n",
      "[[5 6 7 8]] (1, 4)\n",
      "[[5 6 7 8]] (1, 4)\n"
     ]
    }
   ],
   "source": [
    "row_r1 = a[1, :]    # Rank 1 view of the second row of a  \n",
    "row_r2 = a[1:2, :]  # Rank 2 view of the second row of a\n",
    "row_r3 = a[[1], :]  # Rank 2 view of the second row of a\n",
    "print (row_r1, row_r1.shape) \n",
    "print (row_r2, row_r2.shape)\n",
    "print (row_r3, row_r3.shape)"
   ]
  },
  {
   "cell_type": "code",
   "execution_count": 16,
   "metadata": {
    "colab": {
     "base_uri": "https://localhost:8080/"
    },
    "executionInfo": {
     "elapsed": 1182,
     "status": "ok",
     "timestamp": 1606963760521,
     "user": {
      "displayName": "John See",
      "photoUrl": "https://lh3.googleusercontent.com/a-/AOh14GiT4VyFFZRUvkpbrIX_L0tIFUuWgOHNse2TN30A=s64",
      "userId": "10345508966486365390"
     },
     "user_tz": -480
    },
    "id": "wH-3tFdroNrH",
    "outputId": "55a773eb-7448-4eb5-84fa-40bf3efa6c12"
   },
   "outputs": [
    {
     "name": "stdout",
     "output_type": "stream",
     "text": [
      "[ 2  6 10] (3,)\n",
      "\n",
      "[[ 2]\n",
      " [ 6]\n",
      " [10]] (3, 1)\n"
     ]
    }
   ],
   "source": [
    "# We can make the same distinction when accessing columns of an array:\n",
    "col_r1 = a[:, 1]\n",
    "col_r2 = a[:, 1:2]\n",
    "print (col_r1, col_r1.shape)\n",
    "print ()\n",
    "print (col_r2, col_r2.shape)"
   ]
  },
  {
   "cell_type": "markdown",
   "metadata": {
    "id": "F-OJpOXsoNrR"
   },
   "source": [
    "#### **Integer array indexing**\n",
    "When you index into numpy arrays using slicing, the resulting array view will always be a subarray of the original array. In contrast, integer array indexing allows you to construct arbitrary arrays using the data from another array. Here is an example:"
   ]
  },
  {
   "cell_type": "code",
   "execution_count": 17,
   "metadata": {
    "colab": {
     "base_uri": "https://localhost:8080/"
    },
    "executionInfo": {
     "elapsed": 712,
     "status": "ok",
     "timestamp": 1606963761812,
     "user": {
      "displayName": "John See",
      "photoUrl": "https://lh3.googleusercontent.com/a-/AOh14GiT4VyFFZRUvkpbrIX_L0tIFUuWgOHNse2TN30A=s64",
      "userId": "10345508966486365390"
     },
     "user_tz": -480
    },
    "id": "3HhmFhpwoNrS",
    "outputId": "874e7601-e672-45ea-cb49-c191355ca49e"
   },
   "outputs": [
    {
     "name": "stdout",
     "output_type": "stream",
     "text": [
      "[1 4 5]\n",
      "(3, 2)\n",
      "\n",
      "[1 4 5]\n"
     ]
    }
   ],
   "source": [
    "a = np.array([[1,2], [3, 4], [5, 6]])\n",
    "\n",
    "# An example of integer array indexing.\n",
    "# The returned array will have shape (3,) and \n",
    "print (a[[0, 1, 2], [0, 1, 0]])       # ... fancy!\n",
    "print (a.shape)\n",
    "print()\n",
    "\n",
    "# The above example of integer array indexing is equivalent to this:\n",
    "print (np.array([a[0, 0], a[1, 1], a[2, 0]]))"
   ]
  },
  {
   "cell_type": "code",
   "execution_count": 18,
   "metadata": {
    "colab": {
     "base_uri": "https://localhost:8080/"
    },
    "executionInfo": {
     "elapsed": 892,
     "status": "ok",
     "timestamp": 1606963764453,
     "user": {
      "displayName": "John See",
      "photoUrl": "https://lh3.googleusercontent.com/a-/AOh14GiT4VyFFZRUvkpbrIX_L0tIFUuWgOHNse2TN30A=s64",
      "userId": "10345508966486365390"
     },
     "user_tz": -480
    },
    "id": "5GKvM8ZQoNrY",
    "outputId": "21a33a9a-246d-46a0-8298-d1f0238d3a5f"
   },
   "outputs": [
    {
     "name": "stdout",
     "output_type": "stream",
     "text": [
      "[2 2]\n",
      "[2 2]\n"
     ]
    }
   ],
   "source": [
    "# When using integer array indexing, you can reuse the same\n",
    "# element from the source array:\n",
    "print (a[[0, 0], [1, 1]])\n",
    "\n",
    "# Equivalent to the previous integer array indexing example\n",
    "print (np.array([a[0, 1], a[0, 1]]))"
   ]
  },
  {
   "cell_type": "markdown",
   "metadata": {
    "id": "M9IlGBt5oNrd"
   },
   "source": [
    "One useful trick with integer array indexing is selecting or mutating one element from each row of a matrix:"
   ]
  },
  {
   "cell_type": "code",
   "execution_count": 19,
   "metadata": {
    "colab": {
     "base_uri": "https://localhost:8080/"
    },
    "executionInfo": {
     "elapsed": 989,
     "status": "ok",
     "timestamp": 1606963770236,
     "user": {
      "displayName": "John See",
      "photoUrl": "https://lh3.googleusercontent.com/a-/AOh14GiT4VyFFZRUvkpbrIX_L0tIFUuWgOHNse2TN30A=s64",
      "userId": "10345508966486365390"
     },
     "user_tz": -480
    },
    "id": "RL3jbhLroNrg",
    "outputId": "543c53d0-edfd-4e41-9962-5c7e7cce9afb"
   },
   "outputs": [
    {
     "name": "stdout",
     "output_type": "stream",
     "text": [
      "[[ 1  2  3]\n",
      " [ 4  5  6]\n",
      " [ 7  8  9]\n",
      " [10 11 12]]\n"
     ]
    }
   ],
   "source": [
    "# Create a new array from which we will select elements\n",
    "a = np.array([[1,2,3], [4,5,6], [7,8,9], [10, 11, 12]])\n",
    "print (a)"
   ]
  },
  {
   "cell_type": "code",
   "execution_count": 20,
   "metadata": {
    "colab": {
     "base_uri": "https://localhost:8080/"
    },
    "executionInfo": {
     "elapsed": 850,
     "status": "ok",
     "timestamp": 1606963926287,
     "user": {
      "displayName": "John See",
      "photoUrl": "https://lh3.googleusercontent.com/a-/AOh14GiT4VyFFZRUvkpbrIX_L0tIFUuWgOHNse2TN30A=s64",
      "userId": "10345508966486365390"
     },
     "user_tz": -480
    },
    "id": "j301gCTPoNrm",
    "outputId": "08b48971-7324-453c-f0fb-337a7b334a8a"
   },
   "outputs": [
    {
     "name": "stdout",
     "output_type": "stream",
     "text": [
      "[ 1  6  7 11]\n"
     ]
    }
   ],
   "source": [
    "# Create an array of indices\n",
    "b = np.array([0, 2, 0, 1])\n",
    "\n",
    "# Select one element from each row of a using the indices in b\n",
    "print (a[np.arange(4), b])       # prints \"[ 1  6  7 11]\""
   ]
  },
  {
   "cell_type": "code",
   "execution_count": 21,
   "metadata": {
    "id": "gtUjMACnoNrt"
   },
   "outputs": [
    {
     "name": "stdout",
     "output_type": "stream",
     "text": [
      "[[11  2  3]\n",
      " [ 4  5 16]\n",
      " [17  8  9]\n",
      " [10 21 12]]\n"
     ]
    }
   ],
   "source": [
    "# Mutate one element from each row of a using the indices in b\n",
    "a[np.arange(4), b] += 10\n",
    "print (a)"
   ]
  },
  {
   "cell_type": "markdown",
   "metadata": {
    "id": "gEJIdheToNr4"
   },
   "source": [
    "#### **Boolean array indexing**\n",
    "Boolean array indexing lets you pick out arbitrary elements of an array. Frequently this type of indexing is used to select the elements of an array that satisfy some condition. Here is an example:"
   ]
  },
  {
   "cell_type": "code",
   "execution_count": 22,
   "metadata": {
    "colab": {
     "base_uri": "https://localhost:8080/"
    },
    "executionInfo": {
     "elapsed": 869,
     "status": "ok",
     "timestamp": 1606963980574,
     "user": {
      "displayName": "John See",
      "photoUrl": "https://lh3.googleusercontent.com/a-/AOh14GiT4VyFFZRUvkpbrIX_L0tIFUuWgOHNse2TN30A=s64",
      "userId": "10345508966486365390"
     },
     "user_tz": -480
    },
    "id": "bb91X8tToNr5",
    "outputId": "7494887f-f818-47c5-c33e-93e2c88270f2"
   },
   "outputs": [
    {
     "name": "stdout",
     "output_type": "stream",
     "text": [
      "[[False False]\n",
      " [ True  True]\n",
      " [ True  True]]\n"
     ]
    }
   ],
   "source": [
    "import numpy as np\n",
    "\n",
    "a = np.array([[1,2], [3, 4], [5, 6]])\n",
    "\n",
    "bool_idx = (a > 2)  # Find the elements of a that are bigger than 2;\n",
    "                    # this returns a numpy array of Booleans of the same\n",
    "                    # shape as a, where each slot of bool_idx tells\n",
    "                    # whether that element of a is > 2.\n",
    "\n",
    "print (bool_idx)"
   ]
  },
  {
   "cell_type": "code",
   "execution_count": 23,
   "metadata": {
    "colab": {
     "base_uri": "https://localhost:8080/"
    },
    "executionInfo": {
     "elapsed": 982,
     "status": "ok",
     "timestamp": 1606963983403,
     "user": {
      "displayName": "John See",
      "photoUrl": "https://lh3.googleusercontent.com/a-/AOh14GiT4VyFFZRUvkpbrIX_L0tIFUuWgOHNse2TN30A=s64",
      "userId": "10345508966486365390"
     },
     "user_tz": -480
    },
    "id": "rYV-auYloNr8",
    "outputId": "ca404f0e-7e5f-46e0-dfb7-483acd462e27"
   },
   "outputs": [
    {
     "name": "stdout",
     "output_type": "stream",
     "text": [
      "[3 4 5 6]\n",
      "[3 4 5 6]\n"
     ]
    }
   ],
   "source": [
    "# We use boolean array indexing to construct a rank 1 array\n",
    "# consisting of the elements of a corresponding to the True values\n",
    "# of bool_idx\n",
    "print (a[bool_idx])\n",
    "\n",
    "# We can do all of the above in a single concise statement:\n",
    "print (a[a > 2])"
   ]
  },
  {
   "cell_type": "markdown",
   "metadata": {
    "id": "KViGQIz7oNr-"
   },
   "source": [
    "There are many other useful functions in Numpy such as `mean`, `min`, `max` which can help us find useful information from data. Explore here: https://docs.scipy.org/doc/numpy/reference/routines.statistics.html"
   ]
  },
  {
   "cell_type": "markdown",
   "metadata": {
    "id": "eJ0yz7TboNr_"
   },
   "source": [
    "## Basic File Access\n",
    "\n",
    "You can also explicitly read from and write to files directly in your code. Python makes working with files pretty simple. Let's try firstly with a text file by obtaining a *file object* using open. Then, proceed to read the contents of the file."
   ]
  },
  {
   "cell_type": "markdown",
   "metadata": {
    "id": "ipawhtPMvKeF"
   },
   "source": [
    "> Because you are on **Colab**, you need to upload files into the Colab session in order to use it here. The interface is easy to use: Click on the folder icon at the left side (third icon vertically), then click on the upload icon (first icon horizontally), then choose the file \"hello.txt\". If you are using **Jupyter Notebook**, you just need to ensure the file is in the same directory as the notebook file."
   ]
  },
  {
   "cell_type": "code",
   "execution_count": 25,
   "metadata": {
    "colab": {
     "base_uri": "https://localhost:8080/"
    },
    "executionInfo": {
     "elapsed": 1895,
     "status": "ok",
     "timestamp": 1606964324249,
     "user": {
      "displayName": "John See",
      "photoUrl": "https://lh3.googleusercontent.com/a-/AOh14GiT4VyFFZRUvkpbrIX_L0tIFUuWgOHNse2TN30A=s64",
      "userId": "10345508966486365390"
     },
     "user_tz": -480
    },
    "id": "w9JHIcjFoNr_",
    "outputId": "ad73142a-b870-4e1b-f8be-c734be2ee347",
    "scrolled": true
   },
   "outputs": [
    {
     "name": "stdout",
     "output_type": "stream",
     "text": [
      "\n",
      "\n",
      "\n",
      "[]\n"
     ]
    }
   ],
   "source": [
    "#To open a text file, use: \n",
    "fh = open(\"hello.txt\", \"r\") \n",
    "\n",
    "#To read a text file, use: \n",
    "fh = open(\"hello.txt\",\"r\") \n",
    "print(fh.read()) \n",
    "print()\n",
    "fh.close() \n",
    "\n",
    "#To read one line at a time, use: \n",
    "fh = open(\"hello.txt\", \"r\") \n",
    "print(fh.readline()) \n",
    "fh.close() \n",
    "\n",
    "#To read a list of lines use: \n",
    "fh = open(\"hello.txt\", \"r\") \n",
    "print(fh.readlines()) \n",
    "fh.close()"
   ]
  },
  {
   "cell_type": "markdown",
   "metadata": {
    "id": "zihP42cMoNsE"
   },
   "source": [
    "We can also attempt to write some content to the file:"
   ]
  },
  {
   "cell_type": "code",
   "execution_count": 26,
   "metadata": {
    "colab": {
     "base_uri": "https://localhost:8080/"
    },
    "executionInfo": {
     "elapsed": 3342,
     "status": "ok",
     "timestamp": 1606964426118,
     "user": {
      "displayName": "John See",
      "photoUrl": "https://lh3.googleusercontent.com/a-/AOh14GiT4VyFFZRUvkpbrIX_L0tIFUuWgOHNse2TN30A=s64",
      "userId": "10345508966486365390"
     },
     "user_tz": -480
    },
    "id": "S1CwEhuDoNsF",
    "outputId": "fa501761-e926-444e-dbe7-19cd25dda75f"
   },
   "outputs": [
    {
     "name": "stdout",
     "output_type": "stream",
     "text": [
      "a line of text\n",
      "another line of text\n",
      "a third line\n",
      "Hello World again\n"
     ]
    }
   ],
   "source": [
    "#To write to a file, use: \n",
    "fh = open(\"hello2.txt\",\"w\") \n",
    "fh.write(\"Hello World\") \n",
    "fh.close() \n",
    "\n",
    "#To write to a file, use: \n",
    "fh = open(\"hello2.txt\", \"w\") \n",
    "lines_of_text = [\"a line of text\", \"another line of text\", \"a third line\"] \n",
    "lot = [line + '\\n' for line in lines_of_text]       # this is necessary to ensure we go to next line. It is not auto!\n",
    "fh.writelines(lot) \n",
    "fh.close() \n",
    "\n",
    "#To append to file, use: \n",
    "fh = open(\"hello2.txt\", \"a\") \n",
    "fh.write(\"Hello World again\") \n",
    "fh.close \n",
    "\n",
    "fh = open(\"hello2.txt\", \"r\") \n",
    "print(fh.read())"
   ]
  },
  {
   "cell_type": "markdown",
   "metadata": {
    "id": "dsIaxtXnwjkF"
   },
   "source": [
    "> If you don't see the file in the side Files pane, you may need to right-click on it and select Refresh to refresh the directory list. Then, you should see the \"hello2.txt\" file listed."
   ]
  },
  {
   "cell_type": "markdown",
   "metadata": {
    "id": "L390kkjWoNsJ"
   },
   "source": [
    "Another commonly used data file is a comma-separated value, or **CSV** file. CSV files contain lines (or rows) that are comma separated (literally separated by commas) into individual pieces of data. \n",
    "\n",
    "![](http://www.manifold.net/doc/mfd9/images/eg_formats_csv01_01.png)\n",
    "\n",
    "Of course, the position of data should be consistent across the lines -- the data before the first comma (for all lines) should carry the same information, and so is the data before the second comma, and so on.\n",
    "\n",
    "You can also open CSV files in spreadsheet editors such as MS Excel, and view them in the form of columns."
   ]
  },
  {
   "cell_type": "code",
   "execution_count": 27,
   "metadata": {
    "id": "RtFDqdyjoNsK"
   },
   "outputs": [],
   "source": [
    "import csv"
   ]
  },
  {
   "cell_type": "markdown",
   "metadata": {
    "id": "NFfA_P-2oNsQ"
   },
   "source": [
    "The following code opens a CSV file and reads the whole bunch of the data. (**Note**: Remember to upload the file to Colab session if you are using Colab!) \n",
    "\n",
    "Then a loop goes through each list in the csv_reader object and prints it. Observe the output. Compare with the same data when opened in a spreadsheet editor."
   ]
  },
  {
   "cell_type": "code",
   "execution_count": 29,
   "metadata": {
    "colab": {
     "background_save": true
    },
    "id": "fDRIqPuWoNsR",
    "outputId": "7e9a4e5a-14b0-4270-d5cf-f56e1b0c04c9",
    "scrolled": false
   },
   "outputs": [
    {
     "name": "stdout",
     "output_type": "stream",
     "text": [
      "['id', 'name', '', 'address', 'address2', 'state_id', 'postcode', 'city', 'tel', 'fax', 'website', 'email', 'image', 'latitude', 'longitude', 'likes', 'rating', 'status']\n",
      "['1', 'Klinik 1 Malaysia Alma Jaya', ' Alma Jaya', 'No. 38, Tingkat Bawah , Lorong Alma Jaya II, Taman Alma Jaya Bukit Mertajam', 'Seberang Perai Tengah, Pulau Pinang', '9', '14000', 'Bukit Mertajam', '454521033', '', '', '', '', '0', '0', '0', '0', 'NEW']\n",
      "['2', 'Klinik 1 Malaysia Aulong', ' Aulong', 'N0 51 &53, Jalan Medan Bersatu, Taman Medan Bersatu,Taiping', 'Larut Matang, Perak', '7', '34000', 'Taiping', '05-8068867', '', '', '', '', '0', '0', '0', '0', 'NEW']\n",
      "['3', 'Klinik 1 Malaysia Bandar Lela', ' Bandar Lela', 'Lot 7A &7B, Tingkat Bawah, Blok B Mile 1, Jalan Leila Sandakan', 'Sandakan, Sabah', '12', '90700', 'Bandar Lela', '08-6132046', '', '', '', '', '0', '0', '0', '0', 'NEW']\n",
      "['4', 'Klinik 1 Malaysia Bandar Puteri Jaya', ' Bandar Puteri Jaya', 'No.41, Tingkat Bawah, Jalan Puteri Jaya 1/1, Bandar Puteri Jaya, Sungai Petani', 'Kuala Muda, Kedah', '2', '8000', 'Sungai Petani', '04-4243662', '', '', '', '', '0', '0', '0', '0', 'NEW']\n",
      "['5', 'Klinik 1 Malaysia Bandar seri Iskandar', ' Bandar seri Iskandar', 'N0.32 Blod D, Bangunan Rumah Kedai, Bandar Seri Isandar', 'Perak Tengah, Perak', '7', '32600', 'Bandar Seri Iskandar', '05-3714260', '05-3714260', '', '', '', '0', '0', '0', '0', 'NEW']\n",
      "['6', 'Klinik 1 Malaysia Bandar Sri Alam', ' Bandar Sri Alam', 'Blok A, Rumah Pangsa Sri Alam, Jalan Pangsa 64, Bandar Sri Alam, Johor Bahru', 'Johor Bahru, Johor', '1', '81750', 'Johor Bahru', '07-2523001', '', '', '', '', '0', '0', '0', '0', 'NEW']\n",
      "['7', 'Klinik 1 Malaysia Bandar Sri Indah', ' Bandar Sri Indah', 'Lot 334, Tingkat Bawah, Bandar Sri Indah Batu 10 Jalan Apas, Tawau', 'Tawau, Sabah', '12', '91000', 'Bandar Sri Indah', '08-7541710', '', '', '', '', '0', '0', '0', '0', 'NEW']\n",
      "['8', 'Klinik 1 Malaysia Batu Berendam', ' Batu Berendam', 'No.39, Jalan M1, Batu Berendam', 'Melaka Tengah, Melaka', '4', '75350', 'Melaka', '06-3170012', '', '', '', '', '0', '0', '0', '0', 'NEW']\n",
      "['9', 'Klinik 1 Malaysia Seremban Jaya', ' Seremban Jaya', 'No.2294, Jalan SJ 10/1 , Taman Seremban Jaya, Seremban', 'Seberang Perai Selatan, Pulau Pinang', '5', '70450', 'Seremban', '06-6771710', '06-6771710', '', '', '', '0', '0', '0', '0', 'NEW']\n",
      "['10', 'Klinik 1 Malaysia Seri Pengkalan', ' Seri Pengkalan', 'KM 4615, Jalan Samarinda 2, Taman Samarinda, Pengkalan, Alor Gajah', 'Jeli, Kelantan', '4', '78000', 'Alor Gajah', '06-5560184', '', '', '', '', '0', '0', '0', '0', 'NEW']\n",
      "['11', 'Klinik 1 Malaysia Sri Stulang', ' Sri Stulang', 'Tingkat Bawah, Blok G, Rumah Pangsa Sri Stulang 1, Bakar Batu Permas  Jaya, Johor Bahru', 'Kinta, Perak', '1', '81250', 'Johor Bahru', '07-2166001', '', '', '', '', '0', '0', '0', '0', 'NEW']\n",
      "['12', 'Klinik 1 Malaysia Batu Kawan', ' Batu Kawan', 'No.19 Lorong Cempaka 1, Taman Cempaka, Batu Kawan Simpang Empat, Seberang Perai Selatan', 'Kemaman, Terengganu', '9', '14100', 'Seberang Perai Selatan', '04-5880071', '', '', '', '', '0', '0', '0', '0', 'NEW']\n",
      "['13', 'Klinik 1 Malaysia Batu Melintang', ' Batu Melintang', 'Kg Batu, Jeli', 'Hulu Selangor, Selangor', '3', '17250', 'Jeli', '09-9447622', '99440275', '', '', '', '0', '0', '0', '0', 'NEW']\n",
      "['14', 'Klinik 1 Malaysia Bercham', ' Bercham', 'No.6A-1 & 10, Persiaran Medan Bercham 7, Pusat Bandar Bercham Timur, Ipoh Perak', 'Melaka Tengah, Melaka', '7', '31400', 'Ipoh', '05-3600039', '05-3600039', '', '', '', '0', '0', '0', '0', 'NEW']\n",
      "['15', 'Klinik 1 Malaysia Binjai', ' Binjai', '1190, Mukim Binjai, Kemaman', 'Marang, Terengganu', '13', '24000', 'Kemaman', '09-8586081', '', '', '', '', '0', '0', '0', '0', 'NEW']\n",
      "['16', 'Klinik 1 Malaysia Bukit Beruntung', ' Bukit Beruntung', 'C-G-01, Apartment Kenanga, Taman Bunga Raya, Bukit Beruntung, Hulu Selangor', 'Hulu Selangor, Selangor', '10', '48000', 'Bukit Beruntung', '03-6021283', '', '', '', '', '0', '0', '0', '0', 'NEW']\n",
      "['17', 'Klinik 1 Malaysia Bukit Katil', ' Bukit Katil', 'No.17 Jalan IKS, Bukit Katil', 'Penampang, Sabah', '4', '75450', 'Melaka', '06-2311278', '', '', '', '', '0', '0', '0', '0', 'NEW']\n",
      "['18', 'Klinik 1 Malaysia Bukit Payong', ' Bukit Payong', '8216, Tingkat Bawah, Bangunan Kedai Permit , Bukit Payong, Marang', 'Kuala Selangor, Selangor', '13', '21400', 'Marang', '09-6192193', '', '', '', '', '0', '0', '0', '0', 'NEW']\n",
      "['19', 'Klinik 1 Malaysia Bukit Sentosa', ' Bukit Sentosa', 'No.13 Jalan Seroja 1B, Bukit Sentosa. 48000 Hulu Selangor', 'WP Kuala Lumpur, Kuala Lumpur', '10', '48000', 'Hulu Selangor', '03-6021146', '', '', '', '', '0', '0', '0', '0', 'NEW']\n",
      "['20', 'Klinik 1 Malaysia Bundusan Square', ' Bundusan Square', 'Lot 67, Tingkat bawah, Blok H, Bundusan Square, Penampang', 'WP Kuala Lumpur, Kuala Lumpur', '12', '88300', 'Penampang', '08-731225/226', '08-731255', '', '', '', '0', '0', '0', '0', 'NEW']\n",
      "['21', 'Klinik 1 Malaysia Cakerapurnama', ' Cakerapurnama', 'No.105, Jalan Cakerapurnama, 12/2 Seksyen 12, Bandar Baru Puncak Alam, 45010 Kuala Selangor', 'Sibu, Sarawak', '10', '45010', 'Kuala Selangor', '03-3393311', '03-32895044(pkd)', '', '', '', '0', '0', '0', '0', 'NEW']\n",
      "['22', 'Klinik 1 Malaysia Desa Rejang', ' Desa Rejang', 'Blok B-0-1, PPR Desa Rejang, Setapak', 'Bachok, Kelantan', '14', '52100', 'Kuala Lumpur', '03-4142989', '03-41429891', '', '', '', '0', '0', '0', '0', 'NEW']\n",
      "['23', 'Klinik 1 Malaysia Kg Padang Jaya', ' Kg Padang Jaya', 'Tingkat Bawah, B-32 Jalan Sungai Lembing, Kg Padang', 'Timur Laut, Pulau Pinang', '6', '25200', 'Kuantan', '09-5735542', '09-5679029', '', '', '', '0', '0', '0', '0', 'NEW']\n",
      "['24', 'Klinik 1 Malaysia Kota Bharu', ' Kota Bharu', 'Lot 348 (Bawah), Jalan Sri Cemerlang, Kota Bharu', 'Kangar, Perlis', '3', '15350', 'Kota Bharu', '09-7414834', '', '', '', '', '0', '0', '0', '0', 'NEW']\n",
      "['25', 'Klinik 1 Malaysia Bandar seri Iskandar', ' Bandar seri Iskandar', 'N0.32 Blod D, Bangunan Rumah Kedai, Bandar Seri Isandar', 'Kuantan, Pahang', '7', '32600', 'Bandar Seri Iskandar', '05-3714260', '05-3714260', '', '', '', '0', '0', '0', '0', 'NEW']\n",
      "['26', 'Klinik 1 Malaysia Intan Baiduri', ' Intan Baiduri', 'B-0-5, Blok B, Kepong Utara, Mukim Batu ,Kepong', 'Kota Bharu, Kelantan', '14', '52100', 'Kuala Lumpur', '3612037991', '03-61203799', '', '', '', '0', '0', '0', '0', 'NEW']\n",
      "['27', 'Klinik 1 Malaysia Jalan Teku', ' Jalan Teku', 'Lot 302, Blok 7 Teku Road, Sibu', 'Kulim, Kedah', '11', '96000', 'Sibu', '08-3154943', '', '', '', '', '0', '0', '0', '0', 'NEW']\n",
      "['28', 'Klinik 1 Malaysia Jelawat', ' Jelawat', 'Lot34, Bandar Jelawat Bachok', 'Petaling Jaya, Selangor', '3', '16070', 'Bachok', '09-7787010', '97787012', '', '', '', '0', '0', '0', '0', 'NEW']\n",
      "['29', 'Klinik 1 Malaysia Jelutong', ' Jelutong', '116, Tingkat Bawah, Jalan Jelutong', 'Kuching, Sarawak', '9', '11500', 'Georgetown', '04-2834070', '04-2819500', '', '', '', '0', '0', '0', '0', 'NEW']\n",
      "['30', 'Klinik 1 Malaysia Kangar', ' Kangar', 'No.6 Tingkat Bawah, Jalan Lintasan Kangar, Taman Pertiwi, Kangar', 'Pasir Mas, Kelantan', '8', '1000', 'Kangar', '04-9762634', '49762621', '', '', '', '0', '0', '0', '0', 'NEW']\n",
      "['31', 'Klinik 1 Malaysia Kg Padang Jaya', ' Kg Padang Jaya', 'Tingkat Bawah, B-32 Jalan Sungai Lembing, Kg Padang', 'WP Kuala Lumpur, Kuala Lumpur', '6', '25200', 'Kuantan', '09-5735542', '09-5679029', '', '', '', '0', '0', '0', '0', 'NEW']\n",
      "['32', 'Klinik 1 Malaysia Kota Bharu', ' Kota Bharu', 'Lot 348 (Bawah), Jalan Sri Cemerlang, Kota Bharu', 'Petaling Jaya, Selangor', '3', '15350', 'Kota Bharu', '09-7414834', '', '', '', '', '0', '0', '0', '0', 'NEW']\n",
      "['33', 'Klinik 1 Malaysia Kota Kenari', ' Kota Kenari', 'No.208, Rumah Kedai, Jalan Kota Kenari3,Kota Kenari, Kulim', 'Seremban, Negeri Sembilan', '2', '9000', 'Kulim', '04-4945345', '', '', '', '', '0', '0', '0', '0', 'NEW']\n",
      "['34', 'Klinik 1 Malaysia Lembah Subang', ' Lembah Subang', 'No.112 &113, Blok A Jalan PJU 1A/42, Taman Putra Damai, Lembah Subang Petaling Jaya', 'Alor Gajah, Melaka', '10', '47301', 'Kelana Jaya', '03-7803553', '', '', '', '', '0', '0', '0', '0', 'NEW']\n",
      "['35', 'Klinik 1 Malaysia Matang Jaya', ' Matang Jaya', 'Lot 9746, Seksyen 65 KTLD, Taman Lee Ling, Jalan Matang, Kuching', 'Johor Bahru, Johor', '11', '93050', 'Kuching', '08-6496447', '02-6496449', '', '', '', '0', '0', '0', '0', 'NEW']\n",
      "['36', 'Klinik 1 Malaysia Pengkalan Batu', ' Pengkalan Batu', 'Lot 633B, Kg. Pengkalan Batu, Jalan Pasir Pekan, Pasir Mas', 'Kota Kinabalu, Sabah', '3', '17000', 'Pasir Mas', '09-7922211', '', '', '', '', '0', '0', '0', '0', 'NEW']\n",
      "['37', 'Klinik 1 Malaysia Perkasa', ' Perkasa', 'B-0-1, Blok B, PPR Perkasa, Jalan Nakhoda Yusof, Kampung Pandan', 'Barat Daya, Pulau Pinang', '14', '55100', 'Kuala Lumpur', '03-9205524', '03-9205524', '', '', '', '0', '0', '0', '0', 'NEW']\n",
      "['38', 'Klinik 1 Malaysia PJS 6', ' PJS 6', 'No.2A, Jalan 6A, Kg  Lindungan 46000 Petaling Jaya', 'Bintulu, Sarawak', '10', '46000', 'Petaling Jaya', '03-7781900', '03-7781910', '', '', '', '0', '0', '0', '0', 'NEW']\n",
      "['39', 'Klinik 1 Malaysia Seremban Jaya', ' Seremban Jaya', 'No.2294, Jalan SJ 10/1 , Taman Seremban Jaya, Seremban', 'Gombak, Selangor', '5', '70450', 'Seremban', '06-6771710', '06-6771710', '', '', '', '0', '0', '0', '0', 'NEW']\n",
      "['40', 'Klinik 1 Malaysia Seri Pengkalan', ' Seri Pengkalan', 'KM 4615, Jalan Samarinda 2, Taman Samarinda, Pengkalan, Alor Gajah', 'Kuantan, Pahang', '4', '78000', 'Alor Gajah', '06-5560184', '', '', '', '', '0', '0', '0', '0', 'NEW']\n",
      "['41', 'Klinik 1 Malaysia Sri Stulang', ' Sri Stulang', 'Tingkat Bawah, Blok G, Rumah Pangsa Sri Stulang 1, Bakar Batu Permas  Jaya, Johor Bahru', 'Kualaijaya, Johor', '1', '81250', 'Johor Bahru', '07-2166001', '', '', '', '', '0', '0', '0', '0', 'NEW']\n",
      "['42', 'Klinik 1 Malaysia Kg Padang Jaya', ' Kg Padang Jaya', 'Tingkat Bawah, B-32 Jalan Sungai Lembing, Kg Padang', 'Johor Bahru, Johor', '6', '25200', 'Kuantan', '09-5735542', '09-5679029', '', '', '', '0', '0', '0', '0', 'NEW']\n",
      "['43', 'Klinik 1 Malaysia Sulaman Sentral', ' Sulaman Sentral', 'Lot 37, Tingkat Bawah Blok E, Fasa 2, Sulaiman Sentral, Kota Kinabalu', 'WP Kuala Lumpur, Kuala Lumpur', '12', '88450', 'Kota Kinabalu', '08-4731128/127', '08-4731297', '', '', '', '0', '0', '0', '0', 'NEW']\n",
      "['44', 'Klinik 1 Malaysia Sungai Ara', ' Sungai Ara', '2A-1, Tingkat Kenari 5, Taman Desa Ria, Sungai Ara, Bayan Lepas, Barat Daya', 'Muar, Johor', '9', '11900', 'Bayan Lepas', '04-6463531', '', '', '', '', '0', '0', '0', '0', 'NEW']\n",
      "['45', 'Klinik 1 Malaysia Sungai Plan', ' Sungai Plan', 'S/L 517, Sungai Plan Tanjung Kidurong, Bintulu', 'Seremban, Negeri Sembilan', '11', '97000', 'Bintulu', '08-2544818', '08-2544819', '', '', '', '0', '0', '0', '0', 'NEW']\n",
      "['46', 'Klinik 1 Malaysia Taman Gombak Permai', ' Taman Gombak Permai', 'No 1G, Jalan GP 2A, Taman Gombak Permai, 68100 Batu Cave', 'Seremban, Negeri Sembilan', '10', '68100', 'Batu Cave', '03-6185616', '', '', '', '', '0', '0', '0', '0', 'NEW']\n",
      "['47', 'Klinik 1 Malaysia Taman Kempadang Makmur', ' Taman Kempadang Makmur', 'Taman Kempadang Makmur, Kempadang', 'Kluang, Johor', '6', '26060', 'Kuantan', '09-5513831', '09-5679092', '', '', '', '0', '0', '0', '0', 'NEW']\n",
      "['48', 'Klinik 1 Malaysia Taman Manis', ' Taman Manis', 'No. 5, Jalan Manis 17, Taman Manis Kelapa Sawit, Kulai Jaya', 'Miri, Sarawak', '1', '81030', 'Kulai', '07-6525001', '', '', '', '', '0', '0', '0', '0', 'NEW']\n",
      "['49', 'Klinik 1 Malaysia Taman Megah Ria', ' Taman Megah Ria', 'No. 15 & 15A, Jalan Bayan 37/2, Taman Megah Ria, Masai Johor', 'Seberang Perai Utara, Pulau Pinang', '1', '81750', 'Johor Bahru', '07-3866101', '', '', '', '', '0', '0', '0', '0', 'NEW']\n",
      "['50', 'Klinik 1 Malaysia Taman Melati', ' Taman Melati', 'Dewan Serbaguna, Pusat Konuniti Gombak, Taman Melati', 'Hilir Perak, Perak', '14', '53100', 'Kuala Lumpur', '03-6185427', '03-61854278', '', '', 'klinik1m_tamanmelati.jpg', '0', '0', '0', '0', 'NEW']\n",
      "['51', 'Klinik 1 Malaysia Taman Pagoh Jaya', ' Taman Pagoh Jaya', 'No.5, Jalan Jaya 1/3, Taman Pagoh Jaya, Pahoh, Muar', 'Temerloh, Pahang', '1', '84600', 'Muar', '06-9737001', '', '', '', '', '0', '0', '0', '0', 'NEW']\n",
      "['52', 'Klinik 1 Malaysia Taman Rasah Jaya', ' Taman Rasah Jaya', 'No.3779, Jalan Rasah Jaya 6-11, Taman Rasah Jaya, Seremban', 'Kuala Terengganu, Terengganu', '5', '70300', 'Seremban', '06-6310699', '', '', '', '', '0', '0', '0', '0', 'NEW']\n",
      "['53', 'Klinik 1 Malaysia Taman Semarak 2', ' Taman Semarak 2', 'No. 5742, Jalan TS 2/1E, Taman Semarak 2, Nilai', 'WP Kuala Lumpur, Kuala Lumpur', '5', '71800', 'Nilai', '06-7977751', '', '', '', '', '0', '0', '0', '0', 'NEW']\n",
      "['54', 'Klinik 1 Malaysia Taman Seri Lambak', ' Taman Seri Lambak', 'Balai Aktiviti JKKMB, Taman Seri Lambak, Kluang Johor', '', '1', '86000', 'Kluang', '778977010', '', '', '', '', '0', '0', '0', '0', 'NEW']\n",
      "['55', 'Klinik 1 Malaysia Taman Tunku', ' Taman Tunku', 'Lot 9261 (2350 Heibour Hood) Shopping Centre Taman Tunku, Miri', '', '11', '97000', 'Miri', '08-611546', '', '', '', '', '0', '0', '0', '0', 'NEW']\n",
      "['56', 'Klinik 1 Malaysia Teluk Air Tawar', ' Teluk Air Tawar', 'No.6, Lorong Teluk Air Tawar 14, Taman Air Tawar Indah, Teluk Air Tawar, Butterworth', '', '9', '13050', 'Butterworth', '04-3511080', '', '', '', '', '0', '0', '0', '0', 'NEW']\n",
      "['57', 'Klinik 1 Malaysia Teluk Intan', ' Teluk Intan', 'No.1 Taman Medan Maharaja, Jalan Kampung Banjar, Teluk Intan', '', '7', '36000', 'Teluk Intan', '05-6224110', '05-6212401', '', '', '', '0', '0', '0', '0', 'NEW']\n",
      "['58', 'Klinik 1 Malaysia Temerloh', ' Temerloh', 'N0.12 Tingkat Bawah, Jalan Pak Sako 4, Bandar Seri Semantan, Temeloh', '', '6', '28000', 'Temerloh', '09-2969630', '09-2969630', '', '', '', '0', '0', '0', '0', 'NEW']\n",
      "['59', 'Klinik 1 Malaysia Wakaf Baru', ' Wakaf Baru', 'Lot PT30712, Wakaf Baru, Mukim Kuala Nerus, Kuala Terengganu', '', '13', '21300', 'Kuala Terengganu', '09-6667861', '', '', '', '', '0', '0', '0', '0', 'NEW']\n",
      "['60', 'Klinik 1Malaysia Kerinchi', 'Kerinchi', 'B-0-1, Blok B Kuarters DBKL, Jalan Pantai Permai 1', '', '14', '59200', 'Kuala Lumpur', '03-2240940', '03-2240940', '', '', '', '0', '0', '0', '0', 'NEW']\n"
     ]
    }
   ],
   "source": [
    "with open('clinic1M.csv') as csv_file:\n",
    "    csv_reader = list(csv.reader(csv_file, delimiter=','))\n",
    "    # ...puts each line of data from csv into a list\n",
    "    for row in csv_reader:     \n",
    "        print(row)"
   ]
  },
  {
   "cell_type": "markdown",
   "metadata": {
    "id": "tnvt4L7XoNsW"
   },
   "source": [
    "**Q1**: Write some code:\n",
    "<ol type=\"a\">\n",
    "<li>to extract all the names of the clinics from the data into another new list. (You can use list comprehension!)</li> \n",
    "<li>to count the total number of clinics</li>\n",
    "</ol>"
   ]
  },
  {
   "cell_type": "code",
   "execution_count": 30,
   "metadata": {
    "colab": {
     "base_uri": "https://localhost:8080/"
    },
    "executionInfo": {
     "elapsed": 702,
     "status": "ok",
     "timestamp": 1606965796207,
     "user": {
      "displayName": "John See",
      "photoUrl": "https://lh3.googleusercontent.com/a-/AOh14GiT4VyFFZRUvkpbrIX_L0tIFUuWgOHNse2TN30A=s64",
      "userId": "10345508966486365390"
     },
     "user_tz": -480
    },
    "id": "Km285jSgoNsX",
    "outputId": "5985b130-5128-4a32-b0fb-204a1fdd5c73"
   },
   "outputs": [
    {
     "name": "stdout",
     "output_type": "stream",
     "text": [
      "['Klinik 1 Malaysia Alma Jaya', 'Klinik 1 Malaysia Aulong', 'Klinik 1 Malaysia Bandar Lela', 'Klinik 1 Malaysia Bandar Puteri Jaya', 'Klinik 1 Malaysia Bandar seri Iskandar', 'Klinik 1 Malaysia Bandar Sri Alam', 'Klinik 1 Malaysia Bandar Sri Indah', 'Klinik 1 Malaysia Batu Berendam', 'Klinik 1 Malaysia Seremban Jaya', 'Klinik 1 Malaysia Seri Pengkalan', 'Klinik 1 Malaysia Sri Stulang', 'Klinik 1 Malaysia Batu Kawan', 'Klinik 1 Malaysia Batu Melintang', 'Klinik 1 Malaysia Bercham', 'Klinik 1 Malaysia Binjai', 'Klinik 1 Malaysia Bukit Beruntung', 'Klinik 1 Malaysia Bukit Katil', 'Klinik 1 Malaysia Bukit Payong', 'Klinik 1 Malaysia Bukit Sentosa', 'Klinik 1 Malaysia Bundusan Square', 'Klinik 1 Malaysia Cakerapurnama', 'Klinik 1 Malaysia Desa Rejang', 'Klinik 1 Malaysia Kg Padang Jaya', 'Klinik 1 Malaysia Kota Bharu', 'Klinik 1 Malaysia Bandar seri Iskandar', 'Klinik 1 Malaysia Intan Baiduri', 'Klinik 1 Malaysia Jalan Teku', 'Klinik 1 Malaysia Jelawat', 'Klinik 1 Malaysia Jelutong', 'Klinik 1 Malaysia Kangar', 'Klinik 1 Malaysia Kg Padang Jaya', 'Klinik 1 Malaysia Kota Bharu', 'Klinik 1 Malaysia Kota Kenari', 'Klinik 1 Malaysia Lembah Subang', 'Klinik 1 Malaysia Matang Jaya', 'Klinik 1 Malaysia Pengkalan Batu', 'Klinik 1 Malaysia Perkasa', 'Klinik 1 Malaysia PJS 6', 'Klinik 1 Malaysia Seremban Jaya', 'Klinik 1 Malaysia Seri Pengkalan', 'Klinik 1 Malaysia Sri Stulang', 'Klinik 1 Malaysia Kg Padang Jaya', 'Klinik 1 Malaysia Sulaman Sentral', 'Klinik 1 Malaysia Sungai Ara', 'Klinik 1 Malaysia Sungai Plan', 'Klinik 1 Malaysia Taman Gombak Permai', 'Klinik 1 Malaysia Taman Kempadang Makmur', 'Klinik 1 Malaysia Taman Manis', 'Klinik 1 Malaysia Taman Megah Ria', 'Klinik 1 Malaysia Taman Melati', 'Klinik 1 Malaysia Taman Pagoh Jaya', 'Klinik 1 Malaysia Taman Rasah Jaya', 'Klinik 1 Malaysia Taman Semarak 2', 'Klinik 1 Malaysia Taman Seri Lambak', 'Klinik 1 Malaysia Taman Tunku', 'Klinik 1 Malaysia Teluk Air Tawar', 'Klinik 1 Malaysia Teluk Intan', 'Klinik 1 Malaysia Temerloh', 'Klinik 1 Malaysia Wakaf Baru', 'Klinik 1Malaysia Kerinchi']\n",
      "Total number of 1M clinics:  60\n"
     ]
    }
   ],
   "source": [
    "with open('clinic1M.csv') as csv_file:\n",
    "    csv_reader = list(csv.reader(csv_file, delimiter=','))\n",
    "    # fill in your code\n",
    "    clinic_names = [col[1] for col in csv_reader][1:]    # using list comprehension\n",
    "    \n",
    "    # for loop way\n",
    "    clinic_names = []   # empty list\n",
    "    for i in csv_reader[1:]:\n",
    "       clinic_names.append(i[1])\n",
    "\n",
    "print(clinic_names)\n",
    "print(\"Total number of 1M clinics: \", len(clinic_names)) # count total number of clinics"
   ]
  },
  {
   "cell_type": "markdown",
   "metadata": {
    "id": "GLxDEe_4oNsb"
   },
   "source": [
    "Once you are done with the question above, let's try to write the extracted clinic names data to a new CSV file called \"`clinic_list.csv`\". The following code does just that. Check the contents of the CSV file to ensure the data is intact."
   ]
  },
  {
   "cell_type": "code",
   "execution_count": 31,
   "metadata": {
    "executionInfo": {
     "elapsed": 916,
     "status": "ok",
     "timestamp": 1606965911250,
     "user": {
      "displayName": "John See",
      "photoUrl": "https://lh3.googleusercontent.com/a-/AOh14GiT4VyFFZRUvkpbrIX_L0tIFUuWgOHNse2TN30A=s64",
      "userId": "10345508966486365390"
     },
     "user_tz": -480
    },
    "id": "3qQiQgCWoNsc"
   },
   "outputs": [],
   "source": [
    "with open('clinic_list.csv', mode='w', newline='') as clinic_list:\n",
    "    clinic_writer = csv.writer(clinic_list, delimiter=',', quotechar='\"', quoting=csv.QUOTE_MINIMAL)\n",
    "    for n in clinic_names:\n",
    "        clinic_writer.writerow([n])"
   ]
  },
  {
   "cell_type": "markdown",
   "metadata": {
    "id": "10WiO0VO2a1k"
   },
   "source": [
    "\"clinic_list.csv\" should be created in your Colab session. To download it to your own commputer, right-click on the file and choose Download. Open the file in your computer and examine its contents."
   ]
  },
  {
   "cell_type": "markdown",
   "metadata": {
    "id": "ZBQPCli1oNsg"
   },
   "source": [
    "For more information, look up the documentation: https://docs.python.org/3/library/csv.html"
   ]
  },
  {
   "cell_type": "markdown",
   "metadata": {
    "id": "Lud17sytoNsh"
   },
   "source": [
    "## Pandas\n",
    "\n",
    "Pandas is a powerful library written for Python for data manipulation and analysis. Its name is derived from the term \"panel data\", an econometrics term for data sets that include observations over multiple time periods for the same individuals.\n",
    "\n",
    "**Note**: Pandas need Numpy to be installed. "
   ]
  },
  {
   "cell_type": "code",
   "execution_count": 32,
   "metadata": {
    "executionInfo": {
     "elapsed": 883,
     "status": "ok",
     "timestamp": 1606966008830,
     "user": {
      "displayName": "John See",
      "photoUrl": "https://lh3.googleusercontent.com/a-/AOh14GiT4VyFFZRUvkpbrIX_L0tIFUuWgOHNse2TN30A=s64",
      "userId": "10345508966486365390"
     },
     "user_tz": -480
    },
    "id": "Q-cQezJQoNsj"
   },
   "outputs": [],
   "source": [
    "import pandas as pd"
   ]
  },
  {
   "cell_type": "markdown",
   "metadata": {
    "id": "XR_k9vMCoNso"
   },
   "source": [
    "_Series_ and _DataFrame_ are two important structures in Pandas that you will use frequently and interchangeably. \n",
    "\n",
    "#### Series\n",
    "\n",
    "A Series is a one-dimensional object similar to an array, list, or column in a table. It will assign a labeled index to each item in the Series. By default, each item will receive an index label from 0 to N, where N is the length of the Series minus one."
   ]
  },
  {
   "cell_type": "code",
   "execution_count": 33,
   "metadata": {
    "colab": {
     "base_uri": "https://localhost:8080/"
    },
    "executionInfo": {
     "elapsed": 874,
     "status": "ok",
     "timestamp": 1606966082784,
     "user": {
      "displayName": "John See",
      "photoUrl": "https://lh3.googleusercontent.com/a-/AOh14GiT4VyFFZRUvkpbrIX_L0tIFUuWgOHNse2TN30A=s64",
      "userId": "10345508966486365390"
     },
     "user_tz": -480
    },
    "id": "h-jOou9EoNsp",
    "outputId": "eef6f4f5-34bf-4134-f17d-45ed3c7716b9"
   },
   "outputs": [
    {
     "name": "stdout",
     "output_type": "stream",
     "text": [
      "0                7\n",
      "1       Heisenberg\n",
      "2             3.14\n",
      "3      -1789710578\n",
      "4    Happy Eating!\n",
      "dtype: object\n"
     ]
    }
   ],
   "source": [
    "s = pd.Series([7, 'Heisenberg', 3.14, -1789710578, 'Happy Eating!']) \n",
    "print(s)"
   ]
  },
  {
   "cell_type": "markdown",
   "metadata": {
    "id": "0ZO16w9goNsv"
   },
   "source": [
    "The numbers that you see in the first \"column\" (actually it's not a column of the data), are actually the indices of the data rows. The other column is the actual data column.\n",
    "\n",
    "Alternatively, you can specify an index of your choice when creating the Series, but it isn't very intuitive."
   ]
  },
  {
   "cell_type": "code",
   "execution_count": 34,
   "metadata": {
    "colab": {
     "base_uri": "https://localhost:8080/"
    },
    "executionInfo": {
     "elapsed": 942,
     "status": "ok",
     "timestamp": 1606966153909,
     "user": {
      "displayName": "John See",
      "photoUrl": "https://lh3.googleusercontent.com/a-/AOh14GiT4VyFFZRUvkpbrIX_L0tIFUuWgOHNse2TN30A=s64",
      "userId": "10345508966486365390"
     },
     "user_tz": -480
    },
    "id": "qahbgHMEoNsv",
    "outputId": "f9f62528-7c91-47f1-fb63-23b8b3080756"
   },
   "outputs": [
    {
     "name": "stdout",
     "output_type": "stream",
     "text": [
      "A                7\n",
      "Z       Heisenberg\n",
      "C             3.14\n",
      "Y      -1789710578\n",
      "E    Happy Eating!\n",
      "dtype: object\n"
     ]
    }
   ],
   "source": [
    "s = pd.Series([7, 'Heisenberg', 3.14, -1789710578, 'Happy Eating!'], index=['A', 'Z', 'C', 'Y', 'E']) \n",
    "print(s)"
   ]
  },
  {
   "cell_type": "markdown",
   "metadata": {
    "id": "uKvlu_ByoNs0"
   },
   "source": [
    "You can use `iloc` and `loc` to access data. `iloc` takes an integer index, which may not be very intuitive. `loc` returns the data based on the index."
   ]
  },
  {
   "cell_type": "code",
   "execution_count": 35,
   "metadata": {
    "colab": {
     "base_uri": "https://localhost:8080/",
     "height": 35
    },
    "executionInfo": {
     "elapsed": 928,
     "status": "ok",
     "timestamp": 1606966179188,
     "user": {
      "displayName": "John See",
      "photoUrl": "https://lh3.googleusercontent.com/a-/AOh14GiT4VyFFZRUvkpbrIX_L0tIFUuWgOHNse2TN30A=s64",
      "userId": "10345508966486365390"
     },
     "user_tz": -480
    },
    "id": "BYPzNPvuoNs1",
    "outputId": "e26d589e-e653-40a8-ef72-6bd6ee2ec5ff"
   },
   "outputs": [
    {
     "data": {
      "text/plain": [
       "'Happy Eating!'"
      ]
     },
     "execution_count": 35,
     "metadata": {},
     "output_type": "execute_result"
    }
   ],
   "source": [
    "s.iloc[4]"
   ]
  },
  {
   "cell_type": "code",
   "execution_count": 36,
   "metadata": {
    "colab": {
     "base_uri": "https://localhost:8080/",
     "height": 35
    },
    "executionInfo": {
     "elapsed": 853,
     "status": "ok",
     "timestamp": 1606966183712,
     "user": {
      "displayName": "John See",
      "photoUrl": "https://lh3.googleusercontent.com/a-/AOh14GiT4VyFFZRUvkpbrIX_L0tIFUuWgOHNse2TN30A=s64",
      "userId": "10345508966486365390"
     },
     "user_tz": -480
    },
    "id": "XhlWdDH2oNs6",
    "outputId": "227d66a4-df65-4f00-954f-d1adb71058a4"
   },
   "outputs": [
    {
     "data": {
      "text/plain": [
       "'Happy Eating!'"
      ]
     },
     "execution_count": 36,
     "metadata": {},
     "output_type": "execute_result"
    }
   ],
   "source": [
    "s.loc['E']"
   ]
  },
  {
   "cell_type": "markdown",
   "metadata": {
    "id": "oh44UegdoNtB"
   },
   "source": [
    "The Series constructor can convert a dictonary as well, using the keys of the dictionary as its index. How convenient! Pandas actually uses this dictionary representation in its structure, as you will begin to notice slowly."
   ]
  },
  {
   "cell_type": "code",
   "execution_count": 37,
   "metadata": {
    "colab": {
     "base_uri": "https://localhost:8080/"
    },
    "executionInfo": {
     "elapsed": 1027,
     "status": "ok",
     "timestamp": 1606966278002,
     "user": {
      "displayName": "John See",
      "photoUrl": "https://lh3.googleusercontent.com/a-/AOh14GiT4VyFFZRUvkpbrIX_L0tIFUuWgOHNse2TN30A=s64",
      "userId": "10345508966486365390"
     },
     "user_tz": -480
    },
    "id": "FwdzLZfFoNtC",
    "outputId": "3e506520-28a4-4522-8cbe-74ecf9c4678f"
   },
   "outputs": [
    {
     "name": "stdout",
     "output_type": "stream",
     "text": [
      "Chicago          1000.0\n",
      "New York         1300.0\n",
      "Portland          900.0\n",
      "San Francisco    1100.0\n",
      "Austin            450.0\n",
      "Boston              NaN\n",
      "dtype: float64\n"
     ]
    }
   ],
   "source": [
    "d = {'Chicago': 1000, 'New York': 1300, 'Portland': 900, 'San Francisco': 1100, 'Austin': 450, 'Boston': None} \n",
    "cities = pd.Series(d) \n",
    "print(cities)"
   ]
  },
  {
   "cell_type": "markdown",
   "metadata": {
    "id": "NYc_pRehoNtJ"
   },
   "source": [
    "Note: Assigning value \"None\" will show up as \"NaN\" (or Not a Number). Think \"Null\" in other languages you are familiar with.\n",
    "\n",
    "You can use the index (or a bunch of indices) to select specific items from the Series."
   ]
  },
  {
   "cell_type": "code",
   "execution_count": 38,
   "metadata": {
    "id": "2wqAJqb2oNtK"
   },
   "outputs": [
    {
     "data": {
      "text/plain": [
       "Chicago          1000.0\n",
       "Portland          900.0\n",
       "San Francisco    1100.0\n",
       "dtype: float64"
      ]
     },
     "execution_count": 38,
     "metadata": {},
     "output_type": "execute_result"
    }
   ],
   "source": [
    "cities[['Chicago', 'Portland', 'San Francisco']]"
   ]
  },
  {
   "cell_type": "markdown",
   "metadata": {
    "id": "RyTBwESfoNtR"
   },
   "source": [
    "Think dictionaries...use a key to get the value"
   ]
  },
  {
   "cell_type": "code",
   "execution_count": 39,
   "metadata": {
    "id": "dmO0-nQgoNtS"
   },
   "outputs": [
    {
     "data": {
      "text/plain": [
       "1000.0"
      ]
     },
     "execution_count": 39,
     "metadata": {},
     "output_type": "execute_result"
    }
   ],
   "source": [
    "cities['Chicago']"
   ]
  },
  {
   "cell_type": "markdown",
   "metadata": {
    "id": "nbpjbe3qoNtX"
   },
   "source": [
    "cities < 1000 returns a Series of True/False values, which we then pass to our Series cities, returning the corresponding True items. \n",
    "\n",
    "**Recall**: We came across this form of *boolean indexing* earlier when dealing with Numpy. Looks like this also works in Pandas."
   ]
  },
  {
   "cell_type": "code",
   "execution_count": 40,
   "metadata": {
    "id": "j-IPj_OvoNtX"
   },
   "outputs": [
    {
     "name": "stdout",
     "output_type": "stream",
     "text": [
      "Chicago          False\n",
      "New York         False\n",
      "Portland          True\n",
      "San Francisco    False\n",
      "Austin            True\n",
      "Boston           False\n",
      "dtype: bool\n",
      "\n",
      "Portland    900.0\n",
      "Austin      450.0\n",
      "dtype: float64\n"
     ]
    }
   ],
   "source": [
    "less_than_1000 = cities < 1000 \n",
    "print(less_than_1000) \n",
    "print() \n",
    "print(cities[less_than_1000])"
   ]
  },
  {
   "cell_type": "code",
   "execution_count": 41,
   "metadata": {
    "id": "a6hKAQvSoNtb"
   },
   "outputs": [
    {
     "name": "stdout",
     "output_type": "stream",
     "text": [
      "False\n",
      "True\n"
     ]
    }
   ],
   "source": [
    "print('Seattle' in cities) \n",
    "print('San Francisco' in cities)"
   ]
  },
  {
   "cell_type": "markdown",
   "metadata": {
    "id": "kQtjNS7noNte"
   },
   "source": [
    "All these are quick ways of filtering through the data to retrieve or search for something. If you want to find cities that are less than 1000, you may use boolean indexing. If you want to find if a specific city exists, you can also use a boolean condition with \"in\" operator."
   ]
  },
  {
   "cell_type": "markdown",
   "metadata": {
    "id": "6C0FnCMvoNtf"
   },
   "source": [
    "Mathematical operations can be done using scalars and functions."
   ]
  },
  {
   "cell_type": "code",
   "execution_count": 42,
   "metadata": {
    "id": "P5Xo-SHAoNtf"
   },
   "outputs": [
    {
     "data": {
      "text/plain": [
       "Chicago          1000000.0\n",
       "New York         1690000.0\n",
       "Portland          810000.0\n",
       "San Francisco    1210000.0\n",
       "Austin            202500.0\n",
       "Boston                 NaN\n",
       "dtype: float64"
      ]
     },
     "execution_count": 42,
     "metadata": {},
     "output_type": "execute_result"
    }
   ],
   "source": [
    "# square city values \n",
    "np.square(cities)"
   ]
  },
  {
   "cell_type": "markdown",
   "metadata": {
    "id": "uJWD77H5oNtj"
   },
   "source": [
    "You can add two Series together, which returns a union of the two Series with the addition occurring on the shared index values. Values on either Series that did not have a shared index will produce a NULL/NaN (not a number)."
   ]
  },
  {
   "cell_type": "code",
   "execution_count": 43,
   "metadata": {
    "id": "ejgVZDhwoNtn"
   },
   "outputs": [
    {
     "name": "stdout",
     "output_type": "stream",
     "text": [
      "Chicago     1000.0\n",
      "New York    1300.0\n",
      "Portland     900.0\n",
      "dtype: float64\n",
      "\n",
      "Austin       450.0\n",
      "New York    1300.0\n",
      "dtype: float64\n",
      "\n",
      "Austin         NaN\n",
      "Chicago        NaN\n",
      "New York    2600.0\n",
      "Portland       NaN\n",
      "dtype: float64\n"
     ]
    }
   ],
   "source": [
    "print(cities[['Chicago', 'New York', 'Portland']])\n",
    "print() \n",
    "print(cities[['Austin', 'New York']]) \n",
    "print() \n",
    "print(cities[['Chicago', 'New York', 'Portland']] + cities[['Austin', 'New York']])"
   ]
  },
  {
   "cell_type": "markdown",
   "metadata": {
    "id": "8IdVxPnyoNtr"
   },
   "source": [
    "NULL checking can be performed with `isnull` and `notnull`."
   ]
  },
  {
   "cell_type": "code",
   "execution_count": 44,
   "metadata": {
    "id": "NcmqcYmLoNtr"
   },
   "outputs": [
    {
     "name": "stdout",
     "output_type": "stream",
     "text": [
      "Chicago          False\n",
      "New York         False\n",
      "Portland         False\n",
      "San Francisco    False\n",
      "Austin           False\n",
      "Boston            True\n",
      "dtype: bool\n",
      "\n",
      "Boston   NaN\n",
      "dtype: float64\n"
     ]
    }
   ],
   "source": [
    "print(cities.isnull()) \n",
    "print() \n",
    "print(cities[cities.isnull()])"
   ]
  },
  {
   "cell_type": "markdown",
   "metadata": {
    "id": "hC5cqdVAoNtw"
   },
   "source": [
    "#### DataFrame\n",
    "\n",
    "A DataFrame is similar to Excel workbook $–$ you have column names referring to *columns* and you have *rows*, which can be accessed with use of row numbers. The essential difference being that column names and row numbers are known as column index and row index, in the case of dataframes.\n",
    "\n",
    "Pandas actually makes things even more convenient. Reading a CSV is as simple as calling the `read_csv` function."
   ]
  },
  {
   "cell_type": "code",
   "execution_count": 45,
   "metadata": {
    "id": "zRxiybExoNty"
   },
   "outputs": [
    {
     "data": {
      "text/html": [
       "<div>\n",
       "<style scoped>\n",
       "    .dataframe tbody tr th:only-of-type {\n",
       "        vertical-align: middle;\n",
       "    }\n",
       "\n",
       "    .dataframe tbody tr th {\n",
       "        vertical-align: top;\n",
       "    }\n",
       "\n",
       "    .dataframe thead th {\n",
       "        text-align: right;\n",
       "    }\n",
       "</style>\n",
       "<table border=\"1\" class=\"dataframe\">\n",
       "  <thead>\n",
       "    <tr style=\"text-align: right;\">\n",
       "      <th></th>\n",
       "      <th>id</th>\n",
       "      <th>name</th>\n",
       "      <th>Unnamed: 2</th>\n",
       "      <th>address</th>\n",
       "      <th>address2</th>\n",
       "      <th>state_id</th>\n",
       "      <th>postcode</th>\n",
       "      <th>city</th>\n",
       "      <th>tel</th>\n",
       "      <th>fax</th>\n",
       "      <th>website</th>\n",
       "      <th>email</th>\n",
       "      <th>image</th>\n",
       "      <th>latitude</th>\n",
       "      <th>longitude</th>\n",
       "      <th>likes</th>\n",
       "      <th>rating</th>\n",
       "      <th>status</th>\n",
       "    </tr>\n",
       "  </thead>\n",
       "  <tbody>\n",
       "    <tr>\n",
       "      <th>0</th>\n",
       "      <td>1</td>\n",
       "      <td>Klinik 1 Malaysia Alma Jaya</td>\n",
       "      <td>Alma Jaya</td>\n",
       "      <td>No. 38, Tingkat Bawah , Lorong Alma Jaya II, T...</td>\n",
       "      <td>Seberang Perai Tengah, Pulau Pinang</td>\n",
       "      <td>9</td>\n",
       "      <td>14000</td>\n",
       "      <td>Bukit Mertajam</td>\n",
       "      <td>454521033</td>\n",
       "      <td>NaN</td>\n",
       "      <td>NaN</td>\n",
       "      <td>NaN</td>\n",
       "      <td>NaN</td>\n",
       "      <td>0</td>\n",
       "      <td>0</td>\n",
       "      <td>0</td>\n",
       "      <td>0</td>\n",
       "      <td>NEW</td>\n",
       "    </tr>\n",
       "    <tr>\n",
       "      <th>1</th>\n",
       "      <td>2</td>\n",
       "      <td>Klinik 1 Malaysia Aulong</td>\n",
       "      <td>Aulong</td>\n",
       "      <td>N0 51 &amp;53, Jalan Medan Bersatu, Taman Medan Be...</td>\n",
       "      <td>Larut Matang, Perak</td>\n",
       "      <td>7</td>\n",
       "      <td>34000</td>\n",
       "      <td>Taiping</td>\n",
       "      <td>05-8068867</td>\n",
       "      <td>NaN</td>\n",
       "      <td>NaN</td>\n",
       "      <td>NaN</td>\n",
       "      <td>NaN</td>\n",
       "      <td>0</td>\n",
       "      <td>0</td>\n",
       "      <td>0</td>\n",
       "      <td>0</td>\n",
       "      <td>NEW</td>\n",
       "    </tr>\n",
       "    <tr>\n",
       "      <th>2</th>\n",
       "      <td>3</td>\n",
       "      <td>Klinik 1 Malaysia Bandar Lela</td>\n",
       "      <td>Bandar Lela</td>\n",
       "      <td>Lot 7A &amp;7B, Tingkat Bawah, Blok B Mile 1, Jala...</td>\n",
       "      <td>Sandakan, Sabah</td>\n",
       "      <td>12</td>\n",
       "      <td>90700</td>\n",
       "      <td>Bandar Lela</td>\n",
       "      <td>08-6132046</td>\n",
       "      <td>NaN</td>\n",
       "      <td>NaN</td>\n",
       "      <td>NaN</td>\n",
       "      <td>NaN</td>\n",
       "      <td>0</td>\n",
       "      <td>0</td>\n",
       "      <td>0</td>\n",
       "      <td>0</td>\n",
       "      <td>NEW</td>\n",
       "    </tr>\n",
       "    <tr>\n",
       "      <th>3</th>\n",
       "      <td>4</td>\n",
       "      <td>Klinik 1 Malaysia Bandar Puteri Jaya</td>\n",
       "      <td>Bandar Puteri Jaya</td>\n",
       "      <td>No.41, Tingkat Bawah, Jalan Puteri Jaya 1/1, B...</td>\n",
       "      <td>Kuala Muda, Kedah</td>\n",
       "      <td>2</td>\n",
       "      <td>8000</td>\n",
       "      <td>Sungai Petani</td>\n",
       "      <td>04-4243662</td>\n",
       "      <td>NaN</td>\n",
       "      <td>NaN</td>\n",
       "      <td>NaN</td>\n",
       "      <td>NaN</td>\n",
       "      <td>0</td>\n",
       "      <td>0</td>\n",
       "      <td>0</td>\n",
       "      <td>0</td>\n",
       "      <td>NEW</td>\n",
       "    </tr>\n",
       "    <tr>\n",
       "      <th>4</th>\n",
       "      <td>5</td>\n",
       "      <td>Klinik 1 Malaysia Bandar seri Iskandar</td>\n",
       "      <td>Bandar seri Iskandar</td>\n",
       "      <td>N0.32 Blod D, Bangunan Rumah Kedai, Bandar Ser...</td>\n",
       "      <td>Perak Tengah, Perak</td>\n",
       "      <td>7</td>\n",
       "      <td>32600</td>\n",
       "      <td>Bandar Seri Iskandar</td>\n",
       "      <td>05-3714260</td>\n",
       "      <td>05-3714260</td>\n",
       "      <td>NaN</td>\n",
       "      <td>NaN</td>\n",
       "      <td>NaN</td>\n",
       "      <td>0</td>\n",
       "      <td>0</td>\n",
       "      <td>0</td>\n",
       "      <td>0</td>\n",
       "      <td>NEW</td>\n",
       "    </tr>\n",
       "    <tr>\n",
       "      <th>5</th>\n",
       "      <td>6</td>\n",
       "      <td>Klinik 1 Malaysia Bandar Sri Alam</td>\n",
       "      <td>Bandar Sri Alam</td>\n",
       "      <td>Blok A, Rumah Pangsa Sri Alam, Jalan Pangsa 64...</td>\n",
       "      <td>Johor Bahru, Johor</td>\n",
       "      <td>1</td>\n",
       "      <td>81750</td>\n",
       "      <td>Johor Bahru</td>\n",
       "      <td>07-2523001</td>\n",
       "      <td>NaN</td>\n",
       "      <td>NaN</td>\n",
       "      <td>NaN</td>\n",
       "      <td>NaN</td>\n",
       "      <td>0</td>\n",
       "      <td>0</td>\n",
       "      <td>0</td>\n",
       "      <td>0</td>\n",
       "      <td>NEW</td>\n",
       "    </tr>\n",
       "    <tr>\n",
       "      <th>6</th>\n",
       "      <td>7</td>\n",
       "      <td>Klinik 1 Malaysia Bandar Sri Indah</td>\n",
       "      <td>Bandar Sri Indah</td>\n",
       "      <td>Lot 334, Tingkat Bawah, Bandar Sri Indah Batu ...</td>\n",
       "      <td>Tawau, Sabah</td>\n",
       "      <td>12</td>\n",
       "      <td>91000</td>\n",
       "      <td>Bandar Sri Indah</td>\n",
       "      <td>08-7541710</td>\n",
       "      <td>NaN</td>\n",
       "      <td>NaN</td>\n",
       "      <td>NaN</td>\n",
       "      <td>NaN</td>\n",
       "      <td>0</td>\n",
       "      <td>0</td>\n",
       "      <td>0</td>\n",
       "      <td>0</td>\n",
       "      <td>NEW</td>\n",
       "    </tr>\n",
       "    <tr>\n",
       "      <th>7</th>\n",
       "      <td>8</td>\n",
       "      <td>Klinik 1 Malaysia Batu Berendam</td>\n",
       "      <td>Batu Berendam</td>\n",
       "      <td>No.39, Jalan M1, Batu Berendam</td>\n",
       "      <td>Melaka Tengah, Melaka</td>\n",
       "      <td>4</td>\n",
       "      <td>75350</td>\n",
       "      <td>Melaka</td>\n",
       "      <td>06-3170012</td>\n",
       "      <td>NaN</td>\n",
       "      <td>NaN</td>\n",
       "      <td>NaN</td>\n",
       "      <td>NaN</td>\n",
       "      <td>0</td>\n",
       "      <td>0</td>\n",
       "      <td>0</td>\n",
       "      <td>0</td>\n",
       "      <td>NEW</td>\n",
       "    </tr>\n",
       "    <tr>\n",
       "      <th>8</th>\n",
       "      <td>9</td>\n",
       "      <td>Klinik 1 Malaysia Seremban Jaya</td>\n",
       "      <td>Seremban Jaya</td>\n",
       "      <td>No.2294, Jalan SJ 10/1 , Taman Seremban Jaya, ...</td>\n",
       "      <td>Seberang Perai Selatan, Pulau Pinang</td>\n",
       "      <td>5</td>\n",
       "      <td>70450</td>\n",
       "      <td>Seremban</td>\n",
       "      <td>06-6771710</td>\n",
       "      <td>06-6771710</td>\n",
       "      <td>NaN</td>\n",
       "      <td>NaN</td>\n",
       "      <td>NaN</td>\n",
       "      <td>0</td>\n",
       "      <td>0</td>\n",
       "      <td>0</td>\n",
       "      <td>0</td>\n",
       "      <td>NEW</td>\n",
       "    </tr>\n",
       "    <tr>\n",
       "      <th>9</th>\n",
       "      <td>10</td>\n",
       "      <td>Klinik 1 Malaysia Seri Pengkalan</td>\n",
       "      <td>Seri Pengkalan</td>\n",
       "      <td>KM 4615, Jalan Samarinda 2, Taman Samarinda, P...</td>\n",
       "      <td>Jeli, Kelantan</td>\n",
       "      <td>4</td>\n",
       "      <td>78000</td>\n",
       "      <td>Alor Gajah</td>\n",
       "      <td>06-5560184</td>\n",
       "      <td>NaN</td>\n",
       "      <td>NaN</td>\n",
       "      <td>NaN</td>\n",
       "      <td>NaN</td>\n",
       "      <td>0</td>\n",
       "      <td>0</td>\n",
       "      <td>0</td>\n",
       "      <td>0</td>\n",
       "      <td>NEW</td>\n",
       "    </tr>\n",
       "    <tr>\n",
       "      <th>10</th>\n",
       "      <td>11</td>\n",
       "      <td>Klinik 1 Malaysia Sri Stulang</td>\n",
       "      <td>Sri Stulang</td>\n",
       "      <td>Tingkat Bawah, Blok G, Rumah Pangsa Sri Stulan...</td>\n",
       "      <td>Kinta, Perak</td>\n",
       "      <td>1</td>\n",
       "      <td>81250</td>\n",
       "      <td>Johor Bahru</td>\n",
       "      <td>07-2166001</td>\n",
       "      <td>NaN</td>\n",
       "      <td>NaN</td>\n",
       "      <td>NaN</td>\n",
       "      <td>NaN</td>\n",
       "      <td>0</td>\n",
       "      <td>0</td>\n",
       "      <td>0</td>\n",
       "      <td>0</td>\n",
       "      <td>NEW</td>\n",
       "    </tr>\n",
       "    <tr>\n",
       "      <th>11</th>\n",
       "      <td>12</td>\n",
       "      <td>Klinik 1 Malaysia Batu Kawan</td>\n",
       "      <td>Batu Kawan</td>\n",
       "      <td>No.19 Lorong Cempaka 1, Taman Cempaka, Batu Ka...</td>\n",
       "      <td>Kemaman, Terengganu</td>\n",
       "      <td>9</td>\n",
       "      <td>14100</td>\n",
       "      <td>Seberang Perai Selatan</td>\n",
       "      <td>04-5880071</td>\n",
       "      <td>NaN</td>\n",
       "      <td>NaN</td>\n",
       "      <td>NaN</td>\n",
       "      <td>NaN</td>\n",
       "      <td>0</td>\n",
       "      <td>0</td>\n",
       "      <td>0</td>\n",
       "      <td>0</td>\n",
       "      <td>NEW</td>\n",
       "    </tr>\n",
       "    <tr>\n",
       "      <th>12</th>\n",
       "      <td>13</td>\n",
       "      <td>Klinik 1 Malaysia Batu Melintang</td>\n",
       "      <td>Batu Melintang</td>\n",
       "      <td>Kg Batu, Jeli</td>\n",
       "      <td>Hulu Selangor, Selangor</td>\n",
       "      <td>3</td>\n",
       "      <td>17250</td>\n",
       "      <td>Jeli</td>\n",
       "      <td>09-9447622</td>\n",
       "      <td>99440275</td>\n",
       "      <td>NaN</td>\n",
       "      <td>NaN</td>\n",
       "      <td>NaN</td>\n",
       "      <td>0</td>\n",
       "      <td>0</td>\n",
       "      <td>0</td>\n",
       "      <td>0</td>\n",
       "      <td>NEW</td>\n",
       "    </tr>\n",
       "    <tr>\n",
       "      <th>13</th>\n",
       "      <td>14</td>\n",
       "      <td>Klinik 1 Malaysia Bercham</td>\n",
       "      <td>Bercham</td>\n",
       "      <td>No.6A-1 &amp; 10, Persiaran Medan Bercham 7, Pusat...</td>\n",
       "      <td>Melaka Tengah, Melaka</td>\n",
       "      <td>7</td>\n",
       "      <td>31400</td>\n",
       "      <td>Ipoh</td>\n",
       "      <td>05-3600039</td>\n",
       "      <td>05-3600039</td>\n",
       "      <td>NaN</td>\n",
       "      <td>NaN</td>\n",
       "      <td>NaN</td>\n",
       "      <td>0</td>\n",
       "      <td>0</td>\n",
       "      <td>0</td>\n",
       "      <td>0</td>\n",
       "      <td>NEW</td>\n",
       "    </tr>\n",
       "    <tr>\n",
       "      <th>14</th>\n",
       "      <td>15</td>\n",
       "      <td>Klinik 1 Malaysia Binjai</td>\n",
       "      <td>Binjai</td>\n",
       "      <td>1190, Mukim Binjai, Kemaman</td>\n",
       "      <td>Marang, Terengganu</td>\n",
       "      <td>13</td>\n",
       "      <td>24000</td>\n",
       "      <td>Kemaman</td>\n",
       "      <td>09-8586081</td>\n",
       "      <td>NaN</td>\n",
       "      <td>NaN</td>\n",
       "      <td>NaN</td>\n",
       "      <td>NaN</td>\n",
       "      <td>0</td>\n",
       "      <td>0</td>\n",
       "      <td>0</td>\n",
       "      <td>0</td>\n",
       "      <td>NEW</td>\n",
       "    </tr>\n",
       "    <tr>\n",
       "      <th>15</th>\n",
       "      <td>16</td>\n",
       "      <td>Klinik 1 Malaysia Bukit Beruntung</td>\n",
       "      <td>Bukit Beruntung</td>\n",
       "      <td>C-G-01, Apartment Kenanga, Taman Bunga Raya, B...</td>\n",
       "      <td>Hulu Selangor, Selangor</td>\n",
       "      <td>10</td>\n",
       "      <td>48000</td>\n",
       "      <td>Bukit Beruntung</td>\n",
       "      <td>03-6021283</td>\n",
       "      <td>NaN</td>\n",
       "      <td>NaN</td>\n",
       "      <td>NaN</td>\n",
       "      <td>NaN</td>\n",
       "      <td>0</td>\n",
       "      <td>0</td>\n",
       "      <td>0</td>\n",
       "      <td>0</td>\n",
       "      <td>NEW</td>\n",
       "    </tr>\n",
       "    <tr>\n",
       "      <th>16</th>\n",
       "      <td>17</td>\n",
       "      <td>Klinik 1 Malaysia Bukit Katil</td>\n",
       "      <td>Bukit Katil</td>\n",
       "      <td>No.17 Jalan IKS, Bukit Katil</td>\n",
       "      <td>Penampang, Sabah</td>\n",
       "      <td>4</td>\n",
       "      <td>75450</td>\n",
       "      <td>Melaka</td>\n",
       "      <td>06-2311278</td>\n",
       "      <td>NaN</td>\n",
       "      <td>NaN</td>\n",
       "      <td>NaN</td>\n",
       "      <td>NaN</td>\n",
       "      <td>0</td>\n",
       "      <td>0</td>\n",
       "      <td>0</td>\n",
       "      <td>0</td>\n",
       "      <td>NEW</td>\n",
       "    </tr>\n",
       "    <tr>\n",
       "      <th>17</th>\n",
       "      <td>18</td>\n",
       "      <td>Klinik 1 Malaysia Bukit Payong</td>\n",
       "      <td>Bukit Payong</td>\n",
       "      <td>8216, Tingkat Bawah, Bangunan Kedai Permit , B...</td>\n",
       "      <td>Kuala Selangor, Selangor</td>\n",
       "      <td>13</td>\n",
       "      <td>21400</td>\n",
       "      <td>Marang</td>\n",
       "      <td>09-6192193</td>\n",
       "      <td>NaN</td>\n",
       "      <td>NaN</td>\n",
       "      <td>NaN</td>\n",
       "      <td>NaN</td>\n",
       "      <td>0</td>\n",
       "      <td>0</td>\n",
       "      <td>0</td>\n",
       "      <td>0</td>\n",
       "      <td>NEW</td>\n",
       "    </tr>\n",
       "    <tr>\n",
       "      <th>18</th>\n",
       "      <td>19</td>\n",
       "      <td>Klinik 1 Malaysia Bukit Sentosa</td>\n",
       "      <td>Bukit Sentosa</td>\n",
       "      <td>No.13 Jalan Seroja 1B, Bukit Sentosa. 48000 Hu...</td>\n",
       "      <td>WP Kuala Lumpur, Kuala Lumpur</td>\n",
       "      <td>10</td>\n",
       "      <td>48000</td>\n",
       "      <td>Hulu Selangor</td>\n",
       "      <td>03-6021146</td>\n",
       "      <td>NaN</td>\n",
       "      <td>NaN</td>\n",
       "      <td>NaN</td>\n",
       "      <td>NaN</td>\n",
       "      <td>0</td>\n",
       "      <td>0</td>\n",
       "      <td>0</td>\n",
       "      <td>0</td>\n",
       "      <td>NEW</td>\n",
       "    </tr>\n",
       "    <tr>\n",
       "      <th>19</th>\n",
       "      <td>20</td>\n",
       "      <td>Klinik 1 Malaysia Bundusan Square</td>\n",
       "      <td>Bundusan Square</td>\n",
       "      <td>Lot 67, Tingkat bawah, Blok H, Bundusan Square...</td>\n",
       "      <td>WP Kuala Lumpur, Kuala Lumpur</td>\n",
       "      <td>12</td>\n",
       "      <td>88300</td>\n",
       "      <td>Penampang</td>\n",
       "      <td>08-731225/226</td>\n",
       "      <td>08-731255</td>\n",
       "      <td>NaN</td>\n",
       "      <td>NaN</td>\n",
       "      <td>NaN</td>\n",
       "      <td>0</td>\n",
       "      <td>0</td>\n",
       "      <td>0</td>\n",
       "      <td>0</td>\n",
       "      <td>NEW</td>\n",
       "    </tr>\n",
       "    <tr>\n",
       "      <th>20</th>\n",
       "      <td>21</td>\n",
       "      <td>Klinik 1 Malaysia Cakerapurnama</td>\n",
       "      <td>Cakerapurnama</td>\n",
       "      <td>No.105, Jalan Cakerapurnama, 12/2 Seksyen 12, ...</td>\n",
       "      <td>Sibu, Sarawak</td>\n",
       "      <td>10</td>\n",
       "      <td>45010</td>\n",
       "      <td>Kuala Selangor</td>\n",
       "      <td>03-3393311</td>\n",
       "      <td>03-32895044(pkd)</td>\n",
       "      <td>NaN</td>\n",
       "      <td>NaN</td>\n",
       "      <td>NaN</td>\n",
       "      <td>0</td>\n",
       "      <td>0</td>\n",
       "      <td>0</td>\n",
       "      <td>0</td>\n",
       "      <td>NEW</td>\n",
       "    </tr>\n",
       "    <tr>\n",
       "      <th>21</th>\n",
       "      <td>22</td>\n",
       "      <td>Klinik 1 Malaysia Desa Rejang</td>\n",
       "      <td>Desa Rejang</td>\n",
       "      <td>Blok B-0-1, PPR Desa Rejang, Setapak</td>\n",
       "      <td>Bachok, Kelantan</td>\n",
       "      <td>14</td>\n",
       "      <td>52100</td>\n",
       "      <td>Kuala Lumpur</td>\n",
       "      <td>03-4142989</td>\n",
       "      <td>03-41429891</td>\n",
       "      <td>NaN</td>\n",
       "      <td>NaN</td>\n",
       "      <td>NaN</td>\n",
       "      <td>0</td>\n",
       "      <td>0</td>\n",
       "      <td>0</td>\n",
       "      <td>0</td>\n",
       "      <td>NEW</td>\n",
       "    </tr>\n",
       "    <tr>\n",
       "      <th>22</th>\n",
       "      <td>23</td>\n",
       "      <td>Klinik 1 Malaysia Kg Padang Jaya</td>\n",
       "      <td>Kg Padang Jaya</td>\n",
       "      <td>Tingkat Bawah, B-32 Jalan Sungai Lembing, Kg P...</td>\n",
       "      <td>Timur Laut, Pulau Pinang</td>\n",
       "      <td>6</td>\n",
       "      <td>25200</td>\n",
       "      <td>Kuantan</td>\n",
       "      <td>09-5735542</td>\n",
       "      <td>09-5679029</td>\n",
       "      <td>NaN</td>\n",
       "      <td>NaN</td>\n",
       "      <td>NaN</td>\n",
       "      <td>0</td>\n",
       "      <td>0</td>\n",
       "      <td>0</td>\n",
       "      <td>0</td>\n",
       "      <td>NEW</td>\n",
       "    </tr>\n",
       "    <tr>\n",
       "      <th>23</th>\n",
       "      <td>24</td>\n",
       "      <td>Klinik 1 Malaysia Kota Bharu</td>\n",
       "      <td>Kota Bharu</td>\n",
       "      <td>Lot 348 (Bawah), Jalan Sri Cemerlang, Kota Bharu</td>\n",
       "      <td>Kangar, Perlis</td>\n",
       "      <td>3</td>\n",
       "      <td>15350</td>\n",
       "      <td>Kota Bharu</td>\n",
       "      <td>09-7414834</td>\n",
       "      <td>NaN</td>\n",
       "      <td>NaN</td>\n",
       "      <td>NaN</td>\n",
       "      <td>NaN</td>\n",
       "      <td>0</td>\n",
       "      <td>0</td>\n",
       "      <td>0</td>\n",
       "      <td>0</td>\n",
       "      <td>NEW</td>\n",
       "    </tr>\n",
       "    <tr>\n",
       "      <th>24</th>\n",
       "      <td>25</td>\n",
       "      <td>Klinik 1 Malaysia Bandar seri Iskandar</td>\n",
       "      <td>Bandar seri Iskandar</td>\n",
       "      <td>N0.32 Blod D, Bangunan Rumah Kedai, Bandar Ser...</td>\n",
       "      <td>Kuantan, Pahang</td>\n",
       "      <td>7</td>\n",
       "      <td>32600</td>\n",
       "      <td>Bandar Seri Iskandar</td>\n",
       "      <td>05-3714260</td>\n",
       "      <td>05-3714260</td>\n",
       "      <td>NaN</td>\n",
       "      <td>NaN</td>\n",
       "      <td>NaN</td>\n",
       "      <td>0</td>\n",
       "      <td>0</td>\n",
       "      <td>0</td>\n",
       "      <td>0</td>\n",
       "      <td>NEW</td>\n",
       "    </tr>\n",
       "    <tr>\n",
       "      <th>25</th>\n",
       "      <td>26</td>\n",
       "      <td>Klinik 1 Malaysia Intan Baiduri</td>\n",
       "      <td>Intan Baiduri</td>\n",
       "      <td>B-0-5, Blok B, Kepong Utara, Mukim Batu ,Kepong</td>\n",
       "      <td>Kota Bharu, Kelantan</td>\n",
       "      <td>14</td>\n",
       "      <td>52100</td>\n",
       "      <td>Kuala Lumpur</td>\n",
       "      <td>3612037991</td>\n",
       "      <td>03-61203799</td>\n",
       "      <td>NaN</td>\n",
       "      <td>NaN</td>\n",
       "      <td>NaN</td>\n",
       "      <td>0</td>\n",
       "      <td>0</td>\n",
       "      <td>0</td>\n",
       "      <td>0</td>\n",
       "      <td>NEW</td>\n",
       "    </tr>\n",
       "    <tr>\n",
       "      <th>26</th>\n",
       "      <td>27</td>\n",
       "      <td>Klinik 1 Malaysia Jalan Teku</td>\n",
       "      <td>Jalan Teku</td>\n",
       "      <td>Lot 302, Blok 7 Teku Road, Sibu</td>\n",
       "      <td>Kulim, Kedah</td>\n",
       "      <td>11</td>\n",
       "      <td>96000</td>\n",
       "      <td>Sibu</td>\n",
       "      <td>08-3154943</td>\n",
       "      <td>NaN</td>\n",
       "      <td>NaN</td>\n",
       "      <td>NaN</td>\n",
       "      <td>NaN</td>\n",
       "      <td>0</td>\n",
       "      <td>0</td>\n",
       "      <td>0</td>\n",
       "      <td>0</td>\n",
       "      <td>NEW</td>\n",
       "    </tr>\n",
       "    <tr>\n",
       "      <th>27</th>\n",
       "      <td>28</td>\n",
       "      <td>Klinik 1 Malaysia Jelawat</td>\n",
       "      <td>Jelawat</td>\n",
       "      <td>Lot34, Bandar Jelawat Bachok</td>\n",
       "      <td>Petaling Jaya, Selangor</td>\n",
       "      <td>3</td>\n",
       "      <td>16070</td>\n",
       "      <td>Bachok</td>\n",
       "      <td>09-7787010</td>\n",
       "      <td>97787012</td>\n",
       "      <td>NaN</td>\n",
       "      <td>NaN</td>\n",
       "      <td>NaN</td>\n",
       "      <td>0</td>\n",
       "      <td>0</td>\n",
       "      <td>0</td>\n",
       "      <td>0</td>\n",
       "      <td>NEW</td>\n",
       "    </tr>\n",
       "    <tr>\n",
       "      <th>28</th>\n",
       "      <td>29</td>\n",
       "      <td>Klinik 1 Malaysia Jelutong</td>\n",
       "      <td>Jelutong</td>\n",
       "      <td>116, Tingkat Bawah, Jalan Jelutong</td>\n",
       "      <td>Kuching, Sarawak</td>\n",
       "      <td>9</td>\n",
       "      <td>11500</td>\n",
       "      <td>Georgetown</td>\n",
       "      <td>04-2834070</td>\n",
       "      <td>04-2819500</td>\n",
       "      <td>NaN</td>\n",
       "      <td>NaN</td>\n",
       "      <td>NaN</td>\n",
       "      <td>0</td>\n",
       "      <td>0</td>\n",
       "      <td>0</td>\n",
       "      <td>0</td>\n",
       "      <td>NEW</td>\n",
       "    </tr>\n",
       "    <tr>\n",
       "      <th>29</th>\n",
       "      <td>30</td>\n",
       "      <td>Klinik 1 Malaysia Kangar</td>\n",
       "      <td>Kangar</td>\n",
       "      <td>No.6 Tingkat Bawah, Jalan Lintasan Kangar, Tam...</td>\n",
       "      <td>Pasir Mas, Kelantan</td>\n",
       "      <td>8</td>\n",
       "      <td>1000</td>\n",
       "      <td>Kangar</td>\n",
       "      <td>04-9762634</td>\n",
       "      <td>49762621</td>\n",
       "      <td>NaN</td>\n",
       "      <td>NaN</td>\n",
       "      <td>NaN</td>\n",
       "      <td>0</td>\n",
       "      <td>0</td>\n",
       "      <td>0</td>\n",
       "      <td>0</td>\n",
       "      <td>NEW</td>\n",
       "    </tr>\n",
       "    <tr>\n",
       "      <th>30</th>\n",
       "      <td>31</td>\n",
       "      <td>Klinik 1 Malaysia Kg Padang Jaya</td>\n",
       "      <td>Kg Padang Jaya</td>\n",
       "      <td>Tingkat Bawah, B-32 Jalan Sungai Lembing, Kg P...</td>\n",
       "      <td>WP Kuala Lumpur, Kuala Lumpur</td>\n",
       "      <td>6</td>\n",
       "      <td>25200</td>\n",
       "      <td>Kuantan</td>\n",
       "      <td>09-5735542</td>\n",
       "      <td>09-5679029</td>\n",
       "      <td>NaN</td>\n",
       "      <td>NaN</td>\n",
       "      <td>NaN</td>\n",
       "      <td>0</td>\n",
       "      <td>0</td>\n",
       "      <td>0</td>\n",
       "      <td>0</td>\n",
       "      <td>NEW</td>\n",
       "    </tr>\n",
       "    <tr>\n",
       "      <th>31</th>\n",
       "      <td>32</td>\n",
       "      <td>Klinik 1 Malaysia Kota Bharu</td>\n",
       "      <td>Kota Bharu</td>\n",
       "      <td>Lot 348 (Bawah), Jalan Sri Cemerlang, Kota Bharu</td>\n",
       "      <td>Petaling Jaya, Selangor</td>\n",
       "      <td>3</td>\n",
       "      <td>15350</td>\n",
       "      <td>Kota Bharu</td>\n",
       "      <td>09-7414834</td>\n",
       "      <td>NaN</td>\n",
       "      <td>NaN</td>\n",
       "      <td>NaN</td>\n",
       "      <td>NaN</td>\n",
       "      <td>0</td>\n",
       "      <td>0</td>\n",
       "      <td>0</td>\n",
       "      <td>0</td>\n",
       "      <td>NEW</td>\n",
       "    </tr>\n",
       "    <tr>\n",
       "      <th>32</th>\n",
       "      <td>33</td>\n",
       "      <td>Klinik 1 Malaysia Kota Kenari</td>\n",
       "      <td>Kota Kenari</td>\n",
       "      <td>No.208, Rumah Kedai, Jalan Kota Kenari3,Kota K...</td>\n",
       "      <td>Seremban, Negeri Sembilan</td>\n",
       "      <td>2</td>\n",
       "      <td>9000</td>\n",
       "      <td>Kulim</td>\n",
       "      <td>04-4945345</td>\n",
       "      <td>NaN</td>\n",
       "      <td>NaN</td>\n",
       "      <td>NaN</td>\n",
       "      <td>NaN</td>\n",
       "      <td>0</td>\n",
       "      <td>0</td>\n",
       "      <td>0</td>\n",
       "      <td>0</td>\n",
       "      <td>NEW</td>\n",
       "    </tr>\n",
       "    <tr>\n",
       "      <th>33</th>\n",
       "      <td>34</td>\n",
       "      <td>Klinik 1 Malaysia Lembah Subang</td>\n",
       "      <td>Lembah Subang</td>\n",
       "      <td>No.112 &amp;113, Blok A Jalan PJU 1A/42, Taman Put...</td>\n",
       "      <td>Alor Gajah, Melaka</td>\n",
       "      <td>10</td>\n",
       "      <td>47301</td>\n",
       "      <td>Kelana Jaya</td>\n",
       "      <td>03-7803553</td>\n",
       "      <td>NaN</td>\n",
       "      <td>NaN</td>\n",
       "      <td>NaN</td>\n",
       "      <td>NaN</td>\n",
       "      <td>0</td>\n",
       "      <td>0</td>\n",
       "      <td>0</td>\n",
       "      <td>0</td>\n",
       "      <td>NEW</td>\n",
       "    </tr>\n",
       "    <tr>\n",
       "      <th>34</th>\n",
       "      <td>35</td>\n",
       "      <td>Klinik 1 Malaysia Matang Jaya</td>\n",
       "      <td>Matang Jaya</td>\n",
       "      <td>Lot 9746, Seksyen 65 KTLD, Taman Lee Ling, Jal...</td>\n",
       "      <td>Johor Bahru, Johor</td>\n",
       "      <td>11</td>\n",
       "      <td>93050</td>\n",
       "      <td>Kuching</td>\n",
       "      <td>08-6496447</td>\n",
       "      <td>02-6496449</td>\n",
       "      <td>NaN</td>\n",
       "      <td>NaN</td>\n",
       "      <td>NaN</td>\n",
       "      <td>0</td>\n",
       "      <td>0</td>\n",
       "      <td>0</td>\n",
       "      <td>0</td>\n",
       "      <td>NEW</td>\n",
       "    </tr>\n",
       "    <tr>\n",
       "      <th>35</th>\n",
       "      <td>36</td>\n",
       "      <td>Klinik 1 Malaysia Pengkalan Batu</td>\n",
       "      <td>Pengkalan Batu</td>\n",
       "      <td>Lot 633B, Kg. Pengkalan Batu, Jalan Pasir Peka...</td>\n",
       "      <td>Kota Kinabalu, Sabah</td>\n",
       "      <td>3</td>\n",
       "      <td>17000</td>\n",
       "      <td>Pasir Mas</td>\n",
       "      <td>09-7922211</td>\n",
       "      <td>NaN</td>\n",
       "      <td>NaN</td>\n",
       "      <td>NaN</td>\n",
       "      <td>NaN</td>\n",
       "      <td>0</td>\n",
       "      <td>0</td>\n",
       "      <td>0</td>\n",
       "      <td>0</td>\n",
       "      <td>NEW</td>\n",
       "    </tr>\n",
       "    <tr>\n",
       "      <th>36</th>\n",
       "      <td>37</td>\n",
       "      <td>Klinik 1 Malaysia Perkasa</td>\n",
       "      <td>Perkasa</td>\n",
       "      <td>B-0-1, Blok B, PPR Perkasa, Jalan Nakhoda Yuso...</td>\n",
       "      <td>Barat Daya, Pulau Pinang</td>\n",
       "      <td>14</td>\n",
       "      <td>55100</td>\n",
       "      <td>Kuala Lumpur</td>\n",
       "      <td>03-9205524</td>\n",
       "      <td>03-9205524</td>\n",
       "      <td>NaN</td>\n",
       "      <td>NaN</td>\n",
       "      <td>NaN</td>\n",
       "      <td>0</td>\n",
       "      <td>0</td>\n",
       "      <td>0</td>\n",
       "      <td>0</td>\n",
       "      <td>NEW</td>\n",
       "    </tr>\n",
       "    <tr>\n",
       "      <th>37</th>\n",
       "      <td>38</td>\n",
       "      <td>Klinik 1 Malaysia PJS 6</td>\n",
       "      <td>PJS 6</td>\n",
       "      <td>No.2A, Jalan 6A, Kg  Lindungan 46000 Petaling ...</td>\n",
       "      <td>Bintulu, Sarawak</td>\n",
       "      <td>10</td>\n",
       "      <td>46000</td>\n",
       "      <td>Petaling Jaya</td>\n",
       "      <td>03-7781900</td>\n",
       "      <td>03-7781910</td>\n",
       "      <td>NaN</td>\n",
       "      <td>NaN</td>\n",
       "      <td>NaN</td>\n",
       "      <td>0</td>\n",
       "      <td>0</td>\n",
       "      <td>0</td>\n",
       "      <td>0</td>\n",
       "      <td>NEW</td>\n",
       "    </tr>\n",
       "    <tr>\n",
       "      <th>38</th>\n",
       "      <td>39</td>\n",
       "      <td>Klinik 1 Malaysia Seremban Jaya</td>\n",
       "      <td>Seremban Jaya</td>\n",
       "      <td>No.2294, Jalan SJ 10/1 , Taman Seremban Jaya, ...</td>\n",
       "      <td>Gombak, Selangor</td>\n",
       "      <td>5</td>\n",
       "      <td>70450</td>\n",
       "      <td>Seremban</td>\n",
       "      <td>06-6771710</td>\n",
       "      <td>06-6771710</td>\n",
       "      <td>NaN</td>\n",
       "      <td>NaN</td>\n",
       "      <td>NaN</td>\n",
       "      <td>0</td>\n",
       "      <td>0</td>\n",
       "      <td>0</td>\n",
       "      <td>0</td>\n",
       "      <td>NEW</td>\n",
       "    </tr>\n",
       "    <tr>\n",
       "      <th>39</th>\n",
       "      <td>40</td>\n",
       "      <td>Klinik 1 Malaysia Seri Pengkalan</td>\n",
       "      <td>Seri Pengkalan</td>\n",
       "      <td>KM 4615, Jalan Samarinda 2, Taman Samarinda, P...</td>\n",
       "      <td>Kuantan, Pahang</td>\n",
       "      <td>4</td>\n",
       "      <td>78000</td>\n",
       "      <td>Alor Gajah</td>\n",
       "      <td>06-5560184</td>\n",
       "      <td>NaN</td>\n",
       "      <td>NaN</td>\n",
       "      <td>NaN</td>\n",
       "      <td>NaN</td>\n",
       "      <td>0</td>\n",
       "      <td>0</td>\n",
       "      <td>0</td>\n",
       "      <td>0</td>\n",
       "      <td>NEW</td>\n",
       "    </tr>\n",
       "    <tr>\n",
       "      <th>40</th>\n",
       "      <td>41</td>\n",
       "      <td>Klinik 1 Malaysia Sri Stulang</td>\n",
       "      <td>Sri Stulang</td>\n",
       "      <td>Tingkat Bawah, Blok G, Rumah Pangsa Sri Stulan...</td>\n",
       "      <td>Kualaijaya, Johor</td>\n",
       "      <td>1</td>\n",
       "      <td>81250</td>\n",
       "      <td>Johor Bahru</td>\n",
       "      <td>07-2166001</td>\n",
       "      <td>NaN</td>\n",
       "      <td>NaN</td>\n",
       "      <td>NaN</td>\n",
       "      <td>NaN</td>\n",
       "      <td>0</td>\n",
       "      <td>0</td>\n",
       "      <td>0</td>\n",
       "      <td>0</td>\n",
       "      <td>NEW</td>\n",
       "    </tr>\n",
       "    <tr>\n",
       "      <th>41</th>\n",
       "      <td>42</td>\n",
       "      <td>Klinik 1 Malaysia Kg Padang Jaya</td>\n",
       "      <td>Kg Padang Jaya</td>\n",
       "      <td>Tingkat Bawah, B-32 Jalan Sungai Lembing, Kg P...</td>\n",
       "      <td>Johor Bahru, Johor</td>\n",
       "      <td>6</td>\n",
       "      <td>25200</td>\n",
       "      <td>Kuantan</td>\n",
       "      <td>09-5735542</td>\n",
       "      <td>09-5679029</td>\n",
       "      <td>NaN</td>\n",
       "      <td>NaN</td>\n",
       "      <td>NaN</td>\n",
       "      <td>0</td>\n",
       "      <td>0</td>\n",
       "      <td>0</td>\n",
       "      <td>0</td>\n",
       "      <td>NEW</td>\n",
       "    </tr>\n",
       "    <tr>\n",
       "      <th>42</th>\n",
       "      <td>43</td>\n",
       "      <td>Klinik 1 Malaysia Sulaman Sentral</td>\n",
       "      <td>Sulaman Sentral</td>\n",
       "      <td>Lot 37, Tingkat Bawah Blok E, Fasa 2, Sulaiman...</td>\n",
       "      <td>WP Kuala Lumpur, Kuala Lumpur</td>\n",
       "      <td>12</td>\n",
       "      <td>88450</td>\n",
       "      <td>Kota Kinabalu</td>\n",
       "      <td>08-4731128/127</td>\n",
       "      <td>08-4731297</td>\n",
       "      <td>NaN</td>\n",
       "      <td>NaN</td>\n",
       "      <td>NaN</td>\n",
       "      <td>0</td>\n",
       "      <td>0</td>\n",
       "      <td>0</td>\n",
       "      <td>0</td>\n",
       "      <td>NEW</td>\n",
       "    </tr>\n",
       "    <tr>\n",
       "      <th>43</th>\n",
       "      <td>44</td>\n",
       "      <td>Klinik 1 Malaysia Sungai Ara</td>\n",
       "      <td>Sungai Ara</td>\n",
       "      <td>2A-1, Tingkat Kenari 5, Taman Desa Ria, Sungai...</td>\n",
       "      <td>Muar, Johor</td>\n",
       "      <td>9</td>\n",
       "      <td>11900</td>\n",
       "      <td>Bayan Lepas</td>\n",
       "      <td>04-6463531</td>\n",
       "      <td>NaN</td>\n",
       "      <td>NaN</td>\n",
       "      <td>NaN</td>\n",
       "      <td>NaN</td>\n",
       "      <td>0</td>\n",
       "      <td>0</td>\n",
       "      <td>0</td>\n",
       "      <td>0</td>\n",
       "      <td>NEW</td>\n",
       "    </tr>\n",
       "    <tr>\n",
       "      <th>44</th>\n",
       "      <td>45</td>\n",
       "      <td>Klinik 1 Malaysia Sungai Plan</td>\n",
       "      <td>Sungai Plan</td>\n",
       "      <td>S/L 517, Sungai Plan Tanjung Kidurong, Bintulu</td>\n",
       "      <td>Seremban, Negeri Sembilan</td>\n",
       "      <td>11</td>\n",
       "      <td>97000</td>\n",
       "      <td>Bintulu</td>\n",
       "      <td>08-2544818</td>\n",
       "      <td>08-2544819</td>\n",
       "      <td>NaN</td>\n",
       "      <td>NaN</td>\n",
       "      <td>NaN</td>\n",
       "      <td>0</td>\n",
       "      <td>0</td>\n",
       "      <td>0</td>\n",
       "      <td>0</td>\n",
       "      <td>NEW</td>\n",
       "    </tr>\n",
       "    <tr>\n",
       "      <th>45</th>\n",
       "      <td>46</td>\n",
       "      <td>Klinik 1 Malaysia Taman Gombak Permai</td>\n",
       "      <td>Taman Gombak Permai</td>\n",
       "      <td>No 1G, Jalan GP 2A, Taman Gombak Permai, 68100...</td>\n",
       "      <td>Seremban, Negeri Sembilan</td>\n",
       "      <td>10</td>\n",
       "      <td>68100</td>\n",
       "      <td>Batu Cave</td>\n",
       "      <td>03-6185616</td>\n",
       "      <td>NaN</td>\n",
       "      <td>NaN</td>\n",
       "      <td>NaN</td>\n",
       "      <td>NaN</td>\n",
       "      <td>0</td>\n",
       "      <td>0</td>\n",
       "      <td>0</td>\n",
       "      <td>0</td>\n",
       "      <td>NEW</td>\n",
       "    </tr>\n",
       "    <tr>\n",
       "      <th>46</th>\n",
       "      <td>47</td>\n",
       "      <td>Klinik 1 Malaysia Taman Kempadang Makmur</td>\n",
       "      <td>Taman Kempadang Makmur</td>\n",
       "      <td>Taman Kempadang Makmur, Kempadang</td>\n",
       "      <td>Kluang, Johor</td>\n",
       "      <td>6</td>\n",
       "      <td>26060</td>\n",
       "      <td>Kuantan</td>\n",
       "      <td>09-5513831</td>\n",
       "      <td>09-5679092</td>\n",
       "      <td>NaN</td>\n",
       "      <td>NaN</td>\n",
       "      <td>NaN</td>\n",
       "      <td>0</td>\n",
       "      <td>0</td>\n",
       "      <td>0</td>\n",
       "      <td>0</td>\n",
       "      <td>NEW</td>\n",
       "    </tr>\n",
       "    <tr>\n",
       "      <th>47</th>\n",
       "      <td>48</td>\n",
       "      <td>Klinik 1 Malaysia Taman Manis</td>\n",
       "      <td>Taman Manis</td>\n",
       "      <td>No. 5, Jalan Manis 17, Taman Manis Kelapa Sawi...</td>\n",
       "      <td>Miri, Sarawak</td>\n",
       "      <td>1</td>\n",
       "      <td>81030</td>\n",
       "      <td>Kulai</td>\n",
       "      <td>07-6525001</td>\n",
       "      <td>NaN</td>\n",
       "      <td>NaN</td>\n",
       "      <td>NaN</td>\n",
       "      <td>NaN</td>\n",
       "      <td>0</td>\n",
       "      <td>0</td>\n",
       "      <td>0</td>\n",
       "      <td>0</td>\n",
       "      <td>NEW</td>\n",
       "    </tr>\n",
       "    <tr>\n",
       "      <th>48</th>\n",
       "      <td>49</td>\n",
       "      <td>Klinik 1 Malaysia Taman Megah Ria</td>\n",
       "      <td>Taman Megah Ria</td>\n",
       "      <td>No. 15 &amp; 15A, Jalan Bayan 37/2, Taman Megah Ri...</td>\n",
       "      <td>Seberang Perai Utara, Pulau Pinang</td>\n",
       "      <td>1</td>\n",
       "      <td>81750</td>\n",
       "      <td>Johor Bahru</td>\n",
       "      <td>07-3866101</td>\n",
       "      <td>NaN</td>\n",
       "      <td>NaN</td>\n",
       "      <td>NaN</td>\n",
       "      <td>NaN</td>\n",
       "      <td>0</td>\n",
       "      <td>0</td>\n",
       "      <td>0</td>\n",
       "      <td>0</td>\n",
       "      <td>NEW</td>\n",
       "    </tr>\n",
       "    <tr>\n",
       "      <th>49</th>\n",
       "      <td>50</td>\n",
       "      <td>Klinik 1 Malaysia Taman Melati</td>\n",
       "      <td>Taman Melati</td>\n",
       "      <td>Dewan Serbaguna, Pusat Konuniti Gombak, Taman ...</td>\n",
       "      <td>Hilir Perak, Perak</td>\n",
       "      <td>14</td>\n",
       "      <td>53100</td>\n",
       "      <td>Kuala Lumpur</td>\n",
       "      <td>03-6185427</td>\n",
       "      <td>03-61854278</td>\n",
       "      <td>NaN</td>\n",
       "      <td>NaN</td>\n",
       "      <td>klinik1m_tamanmelati.jpg</td>\n",
       "      <td>0</td>\n",
       "      <td>0</td>\n",
       "      <td>0</td>\n",
       "      <td>0</td>\n",
       "      <td>NEW</td>\n",
       "    </tr>\n",
       "    <tr>\n",
       "      <th>50</th>\n",
       "      <td>51</td>\n",
       "      <td>Klinik 1 Malaysia Taman Pagoh Jaya</td>\n",
       "      <td>Taman Pagoh Jaya</td>\n",
       "      <td>No.5, Jalan Jaya 1/3, Taman Pagoh Jaya, Pahoh,...</td>\n",
       "      <td>Temerloh, Pahang</td>\n",
       "      <td>1</td>\n",
       "      <td>84600</td>\n",
       "      <td>Muar</td>\n",
       "      <td>06-9737001</td>\n",
       "      <td>NaN</td>\n",
       "      <td>NaN</td>\n",
       "      <td>NaN</td>\n",
       "      <td>NaN</td>\n",
       "      <td>0</td>\n",
       "      <td>0</td>\n",
       "      <td>0</td>\n",
       "      <td>0</td>\n",
       "      <td>NEW</td>\n",
       "    </tr>\n",
       "    <tr>\n",
       "      <th>51</th>\n",
       "      <td>52</td>\n",
       "      <td>Klinik 1 Malaysia Taman Rasah Jaya</td>\n",
       "      <td>Taman Rasah Jaya</td>\n",
       "      <td>No.3779, Jalan Rasah Jaya 6-11, Taman Rasah Ja...</td>\n",
       "      <td>Kuala Terengganu, Terengganu</td>\n",
       "      <td>5</td>\n",
       "      <td>70300</td>\n",
       "      <td>Seremban</td>\n",
       "      <td>06-6310699</td>\n",
       "      <td>NaN</td>\n",
       "      <td>NaN</td>\n",
       "      <td>NaN</td>\n",
       "      <td>NaN</td>\n",
       "      <td>0</td>\n",
       "      <td>0</td>\n",
       "      <td>0</td>\n",
       "      <td>0</td>\n",
       "      <td>NEW</td>\n",
       "    </tr>\n",
       "    <tr>\n",
       "      <th>52</th>\n",
       "      <td>53</td>\n",
       "      <td>Klinik 1 Malaysia Taman Semarak 2</td>\n",
       "      <td>Taman Semarak 2</td>\n",
       "      <td>No. 5742, Jalan TS 2/1E, Taman Semarak 2, Nilai</td>\n",
       "      <td>WP Kuala Lumpur, Kuala Lumpur</td>\n",
       "      <td>5</td>\n",
       "      <td>71800</td>\n",
       "      <td>Nilai</td>\n",
       "      <td>06-7977751</td>\n",
       "      <td>NaN</td>\n",
       "      <td>NaN</td>\n",
       "      <td>NaN</td>\n",
       "      <td>NaN</td>\n",
       "      <td>0</td>\n",
       "      <td>0</td>\n",
       "      <td>0</td>\n",
       "      <td>0</td>\n",
       "      <td>NEW</td>\n",
       "    </tr>\n",
       "    <tr>\n",
       "      <th>53</th>\n",
       "      <td>54</td>\n",
       "      <td>Klinik 1 Malaysia Taman Seri Lambak</td>\n",
       "      <td>Taman Seri Lambak</td>\n",
       "      <td>Balai Aktiviti JKKMB, Taman Seri Lambak, Kluan...</td>\n",
       "      <td>NaN</td>\n",
       "      <td>1</td>\n",
       "      <td>86000</td>\n",
       "      <td>Kluang</td>\n",
       "      <td>778977010</td>\n",
       "      <td>NaN</td>\n",
       "      <td>NaN</td>\n",
       "      <td>NaN</td>\n",
       "      <td>NaN</td>\n",
       "      <td>0</td>\n",
       "      <td>0</td>\n",
       "      <td>0</td>\n",
       "      <td>0</td>\n",
       "      <td>NEW</td>\n",
       "    </tr>\n",
       "    <tr>\n",
       "      <th>54</th>\n",
       "      <td>55</td>\n",
       "      <td>Klinik 1 Malaysia Taman Tunku</td>\n",
       "      <td>Taman Tunku</td>\n",
       "      <td>Lot 9261 (2350 Heibour Hood) Shopping Centre T...</td>\n",
       "      <td>NaN</td>\n",
       "      <td>11</td>\n",
       "      <td>97000</td>\n",
       "      <td>Miri</td>\n",
       "      <td>08-611546</td>\n",
       "      <td>NaN</td>\n",
       "      <td>NaN</td>\n",
       "      <td>NaN</td>\n",
       "      <td>NaN</td>\n",
       "      <td>0</td>\n",
       "      <td>0</td>\n",
       "      <td>0</td>\n",
       "      <td>0</td>\n",
       "      <td>NEW</td>\n",
       "    </tr>\n",
       "    <tr>\n",
       "      <th>55</th>\n",
       "      <td>56</td>\n",
       "      <td>Klinik 1 Malaysia Teluk Air Tawar</td>\n",
       "      <td>Teluk Air Tawar</td>\n",
       "      <td>No.6, Lorong Teluk Air Tawar 14, Taman Air Taw...</td>\n",
       "      <td>NaN</td>\n",
       "      <td>9</td>\n",
       "      <td>13050</td>\n",
       "      <td>Butterworth</td>\n",
       "      <td>04-3511080</td>\n",
       "      <td>NaN</td>\n",
       "      <td>NaN</td>\n",
       "      <td>NaN</td>\n",
       "      <td>NaN</td>\n",
       "      <td>0</td>\n",
       "      <td>0</td>\n",
       "      <td>0</td>\n",
       "      <td>0</td>\n",
       "      <td>NEW</td>\n",
       "    </tr>\n",
       "    <tr>\n",
       "      <th>56</th>\n",
       "      <td>57</td>\n",
       "      <td>Klinik 1 Malaysia Teluk Intan</td>\n",
       "      <td>Teluk Intan</td>\n",
       "      <td>No.1 Taman Medan Maharaja, Jalan Kampung Banja...</td>\n",
       "      <td>NaN</td>\n",
       "      <td>7</td>\n",
       "      <td>36000</td>\n",
       "      <td>Teluk Intan</td>\n",
       "      <td>05-6224110</td>\n",
       "      <td>05-6212401</td>\n",
       "      <td>NaN</td>\n",
       "      <td>NaN</td>\n",
       "      <td>NaN</td>\n",
       "      <td>0</td>\n",
       "      <td>0</td>\n",
       "      <td>0</td>\n",
       "      <td>0</td>\n",
       "      <td>NEW</td>\n",
       "    </tr>\n",
       "    <tr>\n",
       "      <th>57</th>\n",
       "      <td>58</td>\n",
       "      <td>Klinik 1 Malaysia Temerloh</td>\n",
       "      <td>Temerloh</td>\n",
       "      <td>N0.12 Tingkat Bawah, Jalan Pak Sako 4, Bandar ...</td>\n",
       "      <td>NaN</td>\n",
       "      <td>6</td>\n",
       "      <td>28000</td>\n",
       "      <td>Temerloh</td>\n",
       "      <td>09-2969630</td>\n",
       "      <td>09-2969630</td>\n",
       "      <td>NaN</td>\n",
       "      <td>NaN</td>\n",
       "      <td>NaN</td>\n",
       "      <td>0</td>\n",
       "      <td>0</td>\n",
       "      <td>0</td>\n",
       "      <td>0</td>\n",
       "      <td>NEW</td>\n",
       "    </tr>\n",
       "    <tr>\n",
       "      <th>58</th>\n",
       "      <td>59</td>\n",
       "      <td>Klinik 1 Malaysia Wakaf Baru</td>\n",
       "      <td>Wakaf Baru</td>\n",
       "      <td>Lot PT30712, Wakaf Baru, Mukim Kuala Nerus, Ku...</td>\n",
       "      <td>NaN</td>\n",
       "      <td>13</td>\n",
       "      <td>21300</td>\n",
       "      <td>Kuala Terengganu</td>\n",
       "      <td>09-6667861</td>\n",
       "      <td>NaN</td>\n",
       "      <td>NaN</td>\n",
       "      <td>NaN</td>\n",
       "      <td>NaN</td>\n",
       "      <td>0</td>\n",
       "      <td>0</td>\n",
       "      <td>0</td>\n",
       "      <td>0</td>\n",
       "      <td>NEW</td>\n",
       "    </tr>\n",
       "    <tr>\n",
       "      <th>59</th>\n",
       "      <td>60</td>\n",
       "      <td>Klinik 1Malaysia Kerinchi</td>\n",
       "      <td>Kerinchi</td>\n",
       "      <td>B-0-1, Blok B Kuarters DBKL, Jalan Pantai Perm...</td>\n",
       "      <td>NaN</td>\n",
       "      <td>14</td>\n",
       "      <td>59200</td>\n",
       "      <td>Kuala Lumpur</td>\n",
       "      <td>03-2240940</td>\n",
       "      <td>03-2240940</td>\n",
       "      <td>NaN</td>\n",
       "      <td>NaN</td>\n",
       "      <td>NaN</td>\n",
       "      <td>0</td>\n",
       "      <td>0</td>\n",
       "      <td>0</td>\n",
       "      <td>0</td>\n",
       "      <td>NEW</td>\n",
       "    </tr>\n",
       "  </tbody>\n",
       "</table>\n",
       "</div>"
      ],
      "text/plain": [
       "    id                                      name               Unnamed: 2  \\\n",
       "0    1               Klinik 1 Malaysia Alma Jaya                Alma Jaya   \n",
       "1    2                  Klinik 1 Malaysia Aulong                   Aulong   \n",
       "2    3             Klinik 1 Malaysia Bandar Lela              Bandar Lela   \n",
       "3    4      Klinik 1 Malaysia Bandar Puteri Jaya       Bandar Puteri Jaya   \n",
       "4    5    Klinik 1 Malaysia Bandar seri Iskandar     Bandar seri Iskandar   \n",
       "5    6         Klinik 1 Malaysia Bandar Sri Alam          Bandar Sri Alam   \n",
       "6    7        Klinik 1 Malaysia Bandar Sri Indah         Bandar Sri Indah   \n",
       "7    8           Klinik 1 Malaysia Batu Berendam            Batu Berendam   \n",
       "8    9           Klinik 1 Malaysia Seremban Jaya            Seremban Jaya   \n",
       "9   10          Klinik 1 Malaysia Seri Pengkalan           Seri Pengkalan   \n",
       "10  11             Klinik 1 Malaysia Sri Stulang              Sri Stulang   \n",
       "11  12              Klinik 1 Malaysia Batu Kawan               Batu Kawan   \n",
       "12  13          Klinik 1 Malaysia Batu Melintang           Batu Melintang   \n",
       "13  14                 Klinik 1 Malaysia Bercham                  Bercham   \n",
       "14  15                  Klinik 1 Malaysia Binjai                   Binjai   \n",
       "15  16         Klinik 1 Malaysia Bukit Beruntung          Bukit Beruntung   \n",
       "16  17             Klinik 1 Malaysia Bukit Katil              Bukit Katil   \n",
       "17  18            Klinik 1 Malaysia Bukit Payong             Bukit Payong   \n",
       "18  19           Klinik 1 Malaysia Bukit Sentosa            Bukit Sentosa   \n",
       "19  20         Klinik 1 Malaysia Bundusan Square          Bundusan Square   \n",
       "20  21           Klinik 1 Malaysia Cakerapurnama            Cakerapurnama   \n",
       "21  22             Klinik 1 Malaysia Desa Rejang              Desa Rejang   \n",
       "22  23          Klinik 1 Malaysia Kg Padang Jaya           Kg Padang Jaya   \n",
       "23  24              Klinik 1 Malaysia Kota Bharu               Kota Bharu   \n",
       "24  25    Klinik 1 Malaysia Bandar seri Iskandar     Bandar seri Iskandar   \n",
       "25  26           Klinik 1 Malaysia Intan Baiduri            Intan Baiduri   \n",
       "26  27              Klinik 1 Malaysia Jalan Teku               Jalan Teku   \n",
       "27  28                 Klinik 1 Malaysia Jelawat                  Jelawat   \n",
       "28  29                Klinik 1 Malaysia Jelutong                 Jelutong   \n",
       "29  30                  Klinik 1 Malaysia Kangar                   Kangar   \n",
       "30  31          Klinik 1 Malaysia Kg Padang Jaya           Kg Padang Jaya   \n",
       "31  32              Klinik 1 Malaysia Kota Bharu               Kota Bharu   \n",
       "32  33             Klinik 1 Malaysia Kota Kenari              Kota Kenari   \n",
       "33  34           Klinik 1 Malaysia Lembah Subang            Lembah Subang   \n",
       "34  35             Klinik 1 Malaysia Matang Jaya              Matang Jaya   \n",
       "35  36          Klinik 1 Malaysia Pengkalan Batu           Pengkalan Batu   \n",
       "36  37                 Klinik 1 Malaysia Perkasa                  Perkasa   \n",
       "37  38                   Klinik 1 Malaysia PJS 6                    PJS 6   \n",
       "38  39           Klinik 1 Malaysia Seremban Jaya            Seremban Jaya   \n",
       "39  40          Klinik 1 Malaysia Seri Pengkalan           Seri Pengkalan   \n",
       "40  41             Klinik 1 Malaysia Sri Stulang              Sri Stulang   \n",
       "41  42          Klinik 1 Malaysia Kg Padang Jaya           Kg Padang Jaya   \n",
       "42  43         Klinik 1 Malaysia Sulaman Sentral          Sulaman Sentral   \n",
       "43  44              Klinik 1 Malaysia Sungai Ara               Sungai Ara   \n",
       "44  45             Klinik 1 Malaysia Sungai Plan              Sungai Plan   \n",
       "45  46     Klinik 1 Malaysia Taman Gombak Permai      Taman Gombak Permai   \n",
       "46  47  Klinik 1 Malaysia Taman Kempadang Makmur   Taman Kempadang Makmur   \n",
       "47  48             Klinik 1 Malaysia Taman Manis              Taman Manis   \n",
       "48  49         Klinik 1 Malaysia Taman Megah Ria          Taman Megah Ria   \n",
       "49  50            Klinik 1 Malaysia Taman Melati             Taman Melati   \n",
       "50  51        Klinik 1 Malaysia Taman Pagoh Jaya         Taman Pagoh Jaya   \n",
       "51  52        Klinik 1 Malaysia Taman Rasah Jaya         Taman Rasah Jaya   \n",
       "52  53         Klinik 1 Malaysia Taman Semarak 2          Taman Semarak 2   \n",
       "53  54       Klinik 1 Malaysia Taman Seri Lambak        Taman Seri Lambak   \n",
       "54  55             Klinik 1 Malaysia Taman Tunku              Taman Tunku   \n",
       "55  56         Klinik 1 Malaysia Teluk Air Tawar          Teluk Air Tawar   \n",
       "56  57             Klinik 1 Malaysia Teluk Intan              Teluk Intan   \n",
       "57  58                Klinik 1 Malaysia Temerloh                 Temerloh   \n",
       "58  59              Klinik 1 Malaysia Wakaf Baru               Wakaf Baru   \n",
       "59  60                 Klinik 1Malaysia Kerinchi                 Kerinchi   \n",
       "\n",
       "                                              address  \\\n",
       "0   No. 38, Tingkat Bawah , Lorong Alma Jaya II, T...   \n",
       "1   N0 51 &53, Jalan Medan Bersatu, Taman Medan Be...   \n",
       "2   Lot 7A &7B, Tingkat Bawah, Blok B Mile 1, Jala...   \n",
       "3   No.41, Tingkat Bawah, Jalan Puteri Jaya 1/1, B...   \n",
       "4   N0.32 Blod D, Bangunan Rumah Kedai, Bandar Ser...   \n",
       "5   Blok A, Rumah Pangsa Sri Alam, Jalan Pangsa 64...   \n",
       "6   Lot 334, Tingkat Bawah, Bandar Sri Indah Batu ...   \n",
       "7                      No.39, Jalan M1, Batu Berendam   \n",
       "8   No.2294, Jalan SJ 10/1 , Taman Seremban Jaya, ...   \n",
       "9   KM 4615, Jalan Samarinda 2, Taman Samarinda, P...   \n",
       "10  Tingkat Bawah, Blok G, Rumah Pangsa Sri Stulan...   \n",
       "11  No.19 Lorong Cempaka 1, Taman Cempaka, Batu Ka...   \n",
       "12                                      Kg Batu, Jeli   \n",
       "13  No.6A-1 & 10, Persiaran Medan Bercham 7, Pusat...   \n",
       "14                        1190, Mukim Binjai, Kemaman   \n",
       "15  C-G-01, Apartment Kenanga, Taman Bunga Raya, B...   \n",
       "16                       No.17 Jalan IKS, Bukit Katil   \n",
       "17  8216, Tingkat Bawah, Bangunan Kedai Permit , B...   \n",
       "18  No.13 Jalan Seroja 1B, Bukit Sentosa. 48000 Hu...   \n",
       "19  Lot 67, Tingkat bawah, Blok H, Bundusan Square...   \n",
       "20  No.105, Jalan Cakerapurnama, 12/2 Seksyen 12, ...   \n",
       "21               Blok B-0-1, PPR Desa Rejang, Setapak   \n",
       "22  Tingkat Bawah, B-32 Jalan Sungai Lembing, Kg P...   \n",
       "23   Lot 348 (Bawah), Jalan Sri Cemerlang, Kota Bharu   \n",
       "24  N0.32 Blod D, Bangunan Rumah Kedai, Bandar Ser...   \n",
       "25    B-0-5, Blok B, Kepong Utara, Mukim Batu ,Kepong   \n",
       "26                    Lot 302, Blok 7 Teku Road, Sibu   \n",
       "27                       Lot34, Bandar Jelawat Bachok   \n",
       "28                 116, Tingkat Bawah, Jalan Jelutong   \n",
       "29  No.6 Tingkat Bawah, Jalan Lintasan Kangar, Tam...   \n",
       "30  Tingkat Bawah, B-32 Jalan Sungai Lembing, Kg P...   \n",
       "31   Lot 348 (Bawah), Jalan Sri Cemerlang, Kota Bharu   \n",
       "32  No.208, Rumah Kedai, Jalan Kota Kenari3,Kota K...   \n",
       "33  No.112 &113, Blok A Jalan PJU 1A/42, Taman Put...   \n",
       "34  Lot 9746, Seksyen 65 KTLD, Taman Lee Ling, Jal...   \n",
       "35  Lot 633B, Kg. Pengkalan Batu, Jalan Pasir Peka...   \n",
       "36  B-0-1, Blok B, PPR Perkasa, Jalan Nakhoda Yuso...   \n",
       "37  No.2A, Jalan 6A, Kg  Lindungan 46000 Petaling ...   \n",
       "38  No.2294, Jalan SJ 10/1 , Taman Seremban Jaya, ...   \n",
       "39  KM 4615, Jalan Samarinda 2, Taman Samarinda, P...   \n",
       "40  Tingkat Bawah, Blok G, Rumah Pangsa Sri Stulan...   \n",
       "41  Tingkat Bawah, B-32 Jalan Sungai Lembing, Kg P...   \n",
       "42  Lot 37, Tingkat Bawah Blok E, Fasa 2, Sulaiman...   \n",
       "43  2A-1, Tingkat Kenari 5, Taman Desa Ria, Sungai...   \n",
       "44     S/L 517, Sungai Plan Tanjung Kidurong, Bintulu   \n",
       "45  No 1G, Jalan GP 2A, Taman Gombak Permai, 68100...   \n",
       "46                  Taman Kempadang Makmur, Kempadang   \n",
       "47  No. 5, Jalan Manis 17, Taman Manis Kelapa Sawi...   \n",
       "48  No. 15 & 15A, Jalan Bayan 37/2, Taman Megah Ri...   \n",
       "49  Dewan Serbaguna, Pusat Konuniti Gombak, Taman ...   \n",
       "50  No.5, Jalan Jaya 1/3, Taman Pagoh Jaya, Pahoh,...   \n",
       "51  No.3779, Jalan Rasah Jaya 6-11, Taman Rasah Ja...   \n",
       "52    No. 5742, Jalan TS 2/1E, Taman Semarak 2, Nilai   \n",
       "53  Balai Aktiviti JKKMB, Taman Seri Lambak, Kluan...   \n",
       "54  Lot 9261 (2350 Heibour Hood) Shopping Centre T...   \n",
       "55  No.6, Lorong Teluk Air Tawar 14, Taman Air Taw...   \n",
       "56  No.1 Taman Medan Maharaja, Jalan Kampung Banja...   \n",
       "57  N0.12 Tingkat Bawah, Jalan Pak Sako 4, Bandar ...   \n",
       "58  Lot PT30712, Wakaf Baru, Mukim Kuala Nerus, Ku...   \n",
       "59  B-0-1, Blok B Kuarters DBKL, Jalan Pantai Perm...   \n",
       "\n",
       "                                address2  state_id  postcode  \\\n",
       "0    Seberang Perai Tengah, Pulau Pinang         9     14000   \n",
       "1                    Larut Matang, Perak         7     34000   \n",
       "2                        Sandakan, Sabah        12     90700   \n",
       "3                      Kuala Muda, Kedah         2      8000   \n",
       "4                    Perak Tengah, Perak         7     32600   \n",
       "5                     Johor Bahru, Johor         1     81750   \n",
       "6                           Tawau, Sabah        12     91000   \n",
       "7                  Melaka Tengah, Melaka         4     75350   \n",
       "8   Seberang Perai Selatan, Pulau Pinang         5     70450   \n",
       "9                         Jeli, Kelantan         4     78000   \n",
       "10                          Kinta, Perak         1     81250   \n",
       "11                   Kemaman, Terengganu         9     14100   \n",
       "12               Hulu Selangor, Selangor         3     17250   \n",
       "13                 Melaka Tengah, Melaka         7     31400   \n",
       "14                    Marang, Terengganu        13     24000   \n",
       "15               Hulu Selangor, Selangor        10     48000   \n",
       "16                      Penampang, Sabah         4     75450   \n",
       "17              Kuala Selangor, Selangor        13     21400   \n",
       "18         WP Kuala Lumpur, Kuala Lumpur        10     48000   \n",
       "19         WP Kuala Lumpur, Kuala Lumpur        12     88300   \n",
       "20                         Sibu, Sarawak        10     45010   \n",
       "21                      Bachok, Kelantan        14     52100   \n",
       "22              Timur Laut, Pulau Pinang         6     25200   \n",
       "23                        Kangar, Perlis         3     15350   \n",
       "24                       Kuantan, Pahang         7     32600   \n",
       "25                  Kota Bharu, Kelantan        14     52100   \n",
       "26                          Kulim, Kedah        11     96000   \n",
       "27               Petaling Jaya, Selangor         3     16070   \n",
       "28                      Kuching, Sarawak         9     11500   \n",
       "29                   Pasir Mas, Kelantan         8      1000   \n",
       "30         WP Kuala Lumpur, Kuala Lumpur         6     25200   \n",
       "31               Petaling Jaya, Selangor         3     15350   \n",
       "32             Seremban, Negeri Sembilan         2      9000   \n",
       "33                    Alor Gajah, Melaka        10     47301   \n",
       "34                    Johor Bahru, Johor        11     93050   \n",
       "35                  Kota Kinabalu, Sabah         3     17000   \n",
       "36              Barat Daya, Pulau Pinang        14     55100   \n",
       "37                      Bintulu, Sarawak        10     46000   \n",
       "38                      Gombak, Selangor         5     70450   \n",
       "39                       Kuantan, Pahang         4     78000   \n",
       "40                     Kualaijaya, Johor         1     81250   \n",
       "41                    Johor Bahru, Johor         6     25200   \n",
       "42         WP Kuala Lumpur, Kuala Lumpur        12     88450   \n",
       "43                           Muar, Johor         9     11900   \n",
       "44             Seremban, Negeri Sembilan        11     97000   \n",
       "45             Seremban, Negeri Sembilan        10     68100   \n",
       "46                         Kluang, Johor         6     26060   \n",
       "47                         Miri, Sarawak         1     81030   \n",
       "48    Seberang Perai Utara, Pulau Pinang         1     81750   \n",
       "49                    Hilir Perak, Perak        14     53100   \n",
       "50                      Temerloh, Pahang         1     84600   \n",
       "51          Kuala Terengganu, Terengganu         5     70300   \n",
       "52         WP Kuala Lumpur, Kuala Lumpur         5     71800   \n",
       "53                                   NaN         1     86000   \n",
       "54                                   NaN        11     97000   \n",
       "55                                   NaN         9     13050   \n",
       "56                                   NaN         7     36000   \n",
       "57                                   NaN         6     28000   \n",
       "58                                   NaN        13     21300   \n",
       "59                                   NaN        14     59200   \n",
       "\n",
       "                      city             tel               fax  website  email  \\\n",
       "0           Bukit Mertajam       454521033               NaN      NaN    NaN   \n",
       "1                  Taiping      05-8068867               NaN      NaN    NaN   \n",
       "2              Bandar Lela      08-6132046               NaN      NaN    NaN   \n",
       "3            Sungai Petani      04-4243662               NaN      NaN    NaN   \n",
       "4     Bandar Seri Iskandar      05-3714260        05-3714260      NaN    NaN   \n",
       "5              Johor Bahru      07-2523001               NaN      NaN    NaN   \n",
       "6         Bandar Sri Indah      08-7541710               NaN      NaN    NaN   \n",
       "7                   Melaka      06-3170012               NaN      NaN    NaN   \n",
       "8                 Seremban      06-6771710        06-6771710      NaN    NaN   \n",
       "9               Alor Gajah      06-5560184               NaN      NaN    NaN   \n",
       "10             Johor Bahru      07-2166001               NaN      NaN    NaN   \n",
       "11  Seberang Perai Selatan      04-5880071               NaN      NaN    NaN   \n",
       "12                    Jeli      09-9447622          99440275      NaN    NaN   \n",
       "13                    Ipoh      05-3600039        05-3600039      NaN    NaN   \n",
       "14                 Kemaman      09-8586081               NaN      NaN    NaN   \n",
       "15         Bukit Beruntung      03-6021283               NaN      NaN    NaN   \n",
       "16                  Melaka      06-2311278               NaN      NaN    NaN   \n",
       "17                  Marang      09-6192193               NaN      NaN    NaN   \n",
       "18           Hulu Selangor      03-6021146               NaN      NaN    NaN   \n",
       "19               Penampang   08-731225/226         08-731255      NaN    NaN   \n",
       "20          Kuala Selangor      03-3393311  03-32895044(pkd)      NaN    NaN   \n",
       "21            Kuala Lumpur      03-4142989       03-41429891      NaN    NaN   \n",
       "22                 Kuantan      09-5735542        09-5679029      NaN    NaN   \n",
       "23              Kota Bharu      09-7414834               NaN      NaN    NaN   \n",
       "24    Bandar Seri Iskandar      05-3714260        05-3714260      NaN    NaN   \n",
       "25            Kuala Lumpur      3612037991       03-61203799      NaN    NaN   \n",
       "26                    Sibu      08-3154943               NaN      NaN    NaN   \n",
       "27                  Bachok      09-7787010          97787012      NaN    NaN   \n",
       "28              Georgetown      04-2834070        04-2819500      NaN    NaN   \n",
       "29                  Kangar      04-9762634          49762621      NaN    NaN   \n",
       "30                 Kuantan      09-5735542        09-5679029      NaN    NaN   \n",
       "31              Kota Bharu      09-7414834               NaN      NaN    NaN   \n",
       "32                   Kulim      04-4945345               NaN      NaN    NaN   \n",
       "33             Kelana Jaya      03-7803553               NaN      NaN    NaN   \n",
       "34                 Kuching      08-6496447        02-6496449      NaN    NaN   \n",
       "35               Pasir Mas      09-7922211               NaN      NaN    NaN   \n",
       "36            Kuala Lumpur      03-9205524        03-9205524      NaN    NaN   \n",
       "37           Petaling Jaya      03-7781900        03-7781910      NaN    NaN   \n",
       "38                Seremban      06-6771710        06-6771710      NaN    NaN   \n",
       "39              Alor Gajah      06-5560184               NaN      NaN    NaN   \n",
       "40             Johor Bahru      07-2166001               NaN      NaN    NaN   \n",
       "41                 Kuantan      09-5735542        09-5679029      NaN    NaN   \n",
       "42           Kota Kinabalu  08-4731128/127        08-4731297      NaN    NaN   \n",
       "43             Bayan Lepas      04-6463531               NaN      NaN    NaN   \n",
       "44                 Bintulu      08-2544818        08-2544819      NaN    NaN   \n",
       "45               Batu Cave      03-6185616               NaN      NaN    NaN   \n",
       "46                 Kuantan      09-5513831        09-5679092      NaN    NaN   \n",
       "47                   Kulai      07-6525001               NaN      NaN    NaN   \n",
       "48             Johor Bahru      07-3866101               NaN      NaN    NaN   \n",
       "49            Kuala Lumpur      03-6185427       03-61854278      NaN    NaN   \n",
       "50                    Muar      06-9737001               NaN      NaN    NaN   \n",
       "51                Seremban      06-6310699               NaN      NaN    NaN   \n",
       "52                   Nilai      06-7977751               NaN      NaN    NaN   \n",
       "53                  Kluang       778977010               NaN      NaN    NaN   \n",
       "54                    Miri       08-611546               NaN      NaN    NaN   \n",
       "55             Butterworth      04-3511080               NaN      NaN    NaN   \n",
       "56             Teluk Intan      05-6224110        05-6212401      NaN    NaN   \n",
       "57                Temerloh      09-2969630        09-2969630      NaN    NaN   \n",
       "58        Kuala Terengganu      09-6667861               NaN      NaN    NaN   \n",
       "59            Kuala Lumpur      03-2240940        03-2240940      NaN    NaN   \n",
       "\n",
       "                       image  latitude  longitude  likes  rating status  \n",
       "0                        NaN         0          0      0       0    NEW  \n",
       "1                        NaN         0          0      0       0    NEW  \n",
       "2                        NaN         0          0      0       0    NEW  \n",
       "3                        NaN         0          0      0       0    NEW  \n",
       "4                        NaN         0          0      0       0    NEW  \n",
       "5                        NaN         0          0      0       0    NEW  \n",
       "6                        NaN         0          0      0       0    NEW  \n",
       "7                        NaN         0          0      0       0    NEW  \n",
       "8                        NaN         0          0      0       0    NEW  \n",
       "9                        NaN         0          0      0       0    NEW  \n",
       "10                       NaN         0          0      0       0    NEW  \n",
       "11                       NaN         0          0      0       0    NEW  \n",
       "12                       NaN         0          0      0       0    NEW  \n",
       "13                       NaN         0          0      0       0    NEW  \n",
       "14                       NaN         0          0      0       0    NEW  \n",
       "15                       NaN         0          0      0       0    NEW  \n",
       "16                       NaN         0          0      0       0    NEW  \n",
       "17                       NaN         0          0      0       0    NEW  \n",
       "18                       NaN         0          0      0       0    NEW  \n",
       "19                       NaN         0          0      0       0    NEW  \n",
       "20                       NaN         0          0      0       0    NEW  \n",
       "21                       NaN         0          0      0       0    NEW  \n",
       "22                       NaN         0          0      0       0    NEW  \n",
       "23                       NaN         0          0      0       0    NEW  \n",
       "24                       NaN         0          0      0       0    NEW  \n",
       "25                       NaN         0          0      0       0    NEW  \n",
       "26                       NaN         0          0      0       0    NEW  \n",
       "27                       NaN         0          0      0       0    NEW  \n",
       "28                       NaN         0          0      0       0    NEW  \n",
       "29                       NaN         0          0      0       0    NEW  \n",
       "30                       NaN         0          0      0       0    NEW  \n",
       "31                       NaN         0          0      0       0    NEW  \n",
       "32                       NaN         0          0      0       0    NEW  \n",
       "33                       NaN         0          0      0       0    NEW  \n",
       "34                       NaN         0          0      0       0    NEW  \n",
       "35                       NaN         0          0      0       0    NEW  \n",
       "36                       NaN         0          0      0       0    NEW  \n",
       "37                       NaN         0          0      0       0    NEW  \n",
       "38                       NaN         0          0      0       0    NEW  \n",
       "39                       NaN         0          0      0       0    NEW  \n",
       "40                       NaN         0          0      0       0    NEW  \n",
       "41                       NaN         0          0      0       0    NEW  \n",
       "42                       NaN         0          0      0       0    NEW  \n",
       "43                       NaN         0          0      0       0    NEW  \n",
       "44                       NaN         0          0      0       0    NEW  \n",
       "45                       NaN         0          0      0       0    NEW  \n",
       "46                       NaN         0          0      0       0    NEW  \n",
       "47                       NaN         0          0      0       0    NEW  \n",
       "48                       NaN         0          0      0       0    NEW  \n",
       "49  klinik1m_tamanmelati.jpg         0          0      0       0    NEW  \n",
       "50                       NaN         0          0      0       0    NEW  \n",
       "51                       NaN         0          0      0       0    NEW  \n",
       "52                       NaN         0          0      0       0    NEW  \n",
       "53                       NaN         0          0      0       0    NEW  \n",
       "54                       NaN         0          0      0       0    NEW  \n",
       "55                       NaN         0          0      0       0    NEW  \n",
       "56                       NaN         0          0      0       0    NEW  \n",
       "57                       NaN         0          0      0       0    NEW  \n",
       "58                       NaN         0          0      0       0    NEW  \n",
       "59                       NaN         0          0      0       0    NEW  "
      ]
     },
     "execution_count": 45,
     "metadata": {},
     "output_type": "execute_result"
    }
   ],
   "source": [
    "df = pd.read_csv('clinic1M.csv')      # or you may use any CSV file\n",
    "df"
   ]
  },
  {
   "cell_type": "markdown",
   "metadata": {
    "id": "om48tVG4oNt5"
   },
   "source": [
    "We can use the head or tail method to print the first/last N rows of our data frame. We could accomplish the same thing using the method. The `iloc` method allows us to retrieve rows and columns by position. In order to do that, we’ll need to specify the positions of the rows that we want, and the positions of the columns that we want as well."
   ]
  },
  {
   "cell_type": "code",
   "execution_count": 46,
   "metadata": {
    "colab": {
     "base_uri": "https://localhost:8080/"
    },
    "executionInfo": {
     "elapsed": 992,
     "status": "ok",
     "timestamp": 1606966316293,
     "user": {
      "displayName": "John See",
      "photoUrl": "https://lh3.googleusercontent.com/a-/AOh14GiT4VyFFZRUvkpbrIX_L0tIFUuWgOHNse2TN30A=s64",
      "userId": "10345508966486365390"
     },
     "user_tz": -480
    },
    "id": "oUxagQFooNt6",
    "outputId": "939ce66d-1257-4e3e-c00b-9641beb51e16"
   },
   "outputs": [
    {
     "name": "stdout",
     "output_type": "stream",
     "text": [
      "   id                                    name             Unnamed: 2  \\\n",
      "0   1             Klinik 1 Malaysia Alma Jaya              Alma Jaya   \n",
      "1   2                Klinik 1 Malaysia Aulong                 Aulong   \n",
      "2   3           Klinik 1 Malaysia Bandar Lela            Bandar Lela   \n",
      "3   4    Klinik 1 Malaysia Bandar Puteri Jaya     Bandar Puteri Jaya   \n",
      "4   5  Klinik 1 Malaysia Bandar seri Iskandar   Bandar seri Iskandar   \n",
      "\n",
      "                                             address  \\\n",
      "0  No. 38, Tingkat Bawah , Lorong Alma Jaya II, T...   \n",
      "1  N0 51 &53, Jalan Medan Bersatu, Taman Medan Be...   \n",
      "2  Lot 7A &7B, Tingkat Bawah, Blok B Mile 1, Jala...   \n",
      "3  No.41, Tingkat Bawah, Jalan Puteri Jaya 1/1, B...   \n",
      "4  N0.32 Blod D, Bangunan Rumah Kedai, Bandar Ser...   \n",
      "\n",
      "                              address2  state_id  postcode  \\\n",
      "0  Seberang Perai Tengah, Pulau Pinang         9     14000   \n",
      "1                  Larut Matang, Perak         7     34000   \n",
      "2                      Sandakan, Sabah        12     90700   \n",
      "3                    Kuala Muda, Kedah         2      8000   \n",
      "4                  Perak Tengah, Perak         7     32600   \n",
      "\n",
      "                   city         tel         fax  website  email image  \\\n",
      "0        Bukit Mertajam   454521033         NaN      NaN    NaN   NaN   \n",
      "1               Taiping  05-8068867         NaN      NaN    NaN   NaN   \n",
      "2           Bandar Lela  08-6132046         NaN      NaN    NaN   NaN   \n",
      "3         Sungai Petani  04-4243662         NaN      NaN    NaN   NaN   \n",
      "4  Bandar Seri Iskandar  05-3714260  05-3714260      NaN    NaN   NaN   \n",
      "\n",
      "   latitude  longitude  likes  rating status  \n",
      "0         0          0      0       0    NEW  \n",
      "1         0          0      0       0    NEW  \n",
      "2         0          0      0       0    NEW  \n",
      "3         0          0      0       0    NEW  \n",
      "4         0          0      0       0    NEW  \n"
     ]
    }
   ],
   "source": [
    "print(df.head()) #prints first N rows. Default: 5 "
   ]
  },
  {
   "cell_type": "code",
   "execution_count": 47,
   "metadata": {
    "colab": {
     "base_uri": "https://localhost:8080/"
    },
    "executionInfo": {
     "elapsed": 939,
     "status": "ok",
     "timestamp": 1606966386187,
     "user": {
      "displayName": "John See",
      "photoUrl": "https://lh3.googleusercontent.com/a-/AOh14GiT4VyFFZRUvkpbrIX_L0tIFUuWgOHNse2TN30A=s64",
      "userId": "10345508966486365390"
     },
     "user_tz": -480
    },
    "id": "GewHuLIFoNt9",
    "outputId": "58e149a9-5898-4c89-9bb7-3328ebdced77"
   },
   "outputs": [
    {
     "name": "stdout",
     "output_type": "stream",
     "text": [
      "    id                               name        Unnamed: 2  \\\n",
      "55  56  Klinik 1 Malaysia Teluk Air Tawar   Teluk Air Tawar   \n",
      "56  57      Klinik 1 Malaysia Teluk Intan       Teluk Intan   \n",
      "57  58         Klinik 1 Malaysia Temerloh          Temerloh   \n",
      "58  59       Klinik 1 Malaysia Wakaf Baru        Wakaf Baru   \n",
      "59  60          Klinik 1Malaysia Kerinchi          Kerinchi   \n",
      "\n",
      "                                              address address2  state_id  \\\n",
      "55  No.6, Lorong Teluk Air Tawar 14, Taman Air Taw...      NaN         9   \n",
      "56  No.1 Taman Medan Maharaja, Jalan Kampung Banja...      NaN         7   \n",
      "57  N0.12 Tingkat Bawah, Jalan Pak Sako 4, Bandar ...      NaN         6   \n",
      "58  Lot PT30712, Wakaf Baru, Mukim Kuala Nerus, Ku...      NaN        13   \n",
      "59  B-0-1, Blok B Kuarters DBKL, Jalan Pantai Perm...      NaN        14   \n",
      "\n",
      "    postcode              city         tel         fax  website  email image  \\\n",
      "55     13050       Butterworth  04-3511080         NaN      NaN    NaN   NaN   \n",
      "56     36000       Teluk Intan  05-6224110  05-6212401      NaN    NaN   NaN   \n",
      "57     28000          Temerloh  09-2969630  09-2969630      NaN    NaN   NaN   \n",
      "58     21300  Kuala Terengganu  09-6667861         NaN      NaN    NaN   NaN   \n",
      "59     59200      Kuala Lumpur  03-2240940  03-2240940      NaN    NaN   NaN   \n",
      "\n",
      "    latitude  longitude  likes  rating status  \n",
      "55         0          0      0       0    NEW  \n",
      "56         0          0      0       0    NEW  \n",
      "57         0          0      0       0    NEW  \n",
      "58         0          0      0       0    NEW  \n",
      "59         0          0      0       0    NEW  \n"
     ]
    }
   ],
   "source": [
    "print(df.tail()) #prints last N rows. Default: 5"
   ]
  },
  {
   "cell_type": "code",
   "execution_count": 48,
   "metadata": {
    "colab": {
     "base_uri": "https://localhost:8080/"
    },
    "executionInfo": {
     "elapsed": 951,
     "status": "ok",
     "timestamp": 1606966400241,
     "user": {
      "displayName": "John See",
      "photoUrl": "https://lh3.googleusercontent.com/a-/AOh14GiT4VyFFZRUvkpbrIX_L0tIFUuWgOHNse2TN30A=s64",
      "userId": "10345508966486365390"
     },
     "user_tz": -480
    },
    "id": "3WUUZCI3oNuC",
    "outputId": "9cdd6d82-c345-4042-b151-fb96cba8fcfc"
   },
   "outputs": [
    {
     "name": "stdout",
     "output_type": "stream",
     "text": [
      "   id                                    name             Unnamed: 2  \\\n",
      "0   1             Klinik 1 Malaysia Alma Jaya              Alma Jaya   \n",
      "1   2                Klinik 1 Malaysia Aulong                 Aulong   \n",
      "2   3           Klinik 1 Malaysia Bandar Lela            Bandar Lela   \n",
      "3   4    Klinik 1 Malaysia Bandar Puteri Jaya     Bandar Puteri Jaya   \n",
      "4   5  Klinik 1 Malaysia Bandar seri Iskandar   Bandar seri Iskandar   \n",
      "\n",
      "                                             address  \\\n",
      "0  No. 38, Tingkat Bawah , Lorong Alma Jaya II, T...   \n",
      "1  N0 51 &53, Jalan Medan Bersatu, Taman Medan Be...   \n",
      "2  Lot 7A &7B, Tingkat Bawah, Blok B Mile 1, Jala...   \n",
      "3  No.41, Tingkat Bawah, Jalan Puteri Jaya 1/1, B...   \n",
      "4  N0.32 Blod D, Bangunan Rumah Kedai, Bandar Ser...   \n",
      "\n",
      "                              address2  state_id  postcode  \\\n",
      "0  Seberang Perai Tengah, Pulau Pinang         9     14000   \n",
      "1                  Larut Matang, Perak         7     34000   \n",
      "2                      Sandakan, Sabah        12     90700   \n",
      "3                    Kuala Muda, Kedah         2      8000   \n",
      "4                  Perak Tengah, Perak         7     32600   \n",
      "\n",
      "                   city         tel         fax  website  email image  \\\n",
      "0        Bukit Mertajam   454521033         NaN      NaN    NaN   NaN   \n",
      "1               Taiping  05-8068867         NaN      NaN    NaN   NaN   \n",
      "2           Bandar Lela  08-6132046         NaN      NaN    NaN   NaN   \n",
      "3         Sungai Petani  04-4243662         NaN      NaN    NaN   NaN   \n",
      "4  Bandar Seri Iskandar  05-3714260  05-3714260      NaN    NaN   NaN   \n",
      "\n",
      "   latitude  longitude  likes  rating status  \n",
      "0         0          0      0       0    NEW  \n",
      "1         0          0      0       0    NEW  \n",
      "2         0          0      0       0    NEW  \n",
      "3         0          0      0       0    NEW  \n",
      "4         0          0      0       0    NEW  \n"
     ]
    }
   ],
   "source": [
    "print(df.iloc[0:5,:])   # SLICING: accesses first 5 rows of data, and all columns"
   ]
  },
  {
   "cell_type": "code",
   "execution_count": 49,
   "metadata": {
    "colab": {
     "base_uri": "https://localhost:8080/"
    },
    "executionInfo": {
     "elapsed": 968,
     "status": "ok",
     "timestamp": 1606966408976,
     "user": {
      "displayName": "John See",
      "photoUrl": "https://lh3.googleusercontent.com/a-/AOh14GiT4VyFFZRUvkpbrIX_L0tIFUuWgOHNse2TN30A=s64",
      "userId": "10345508966486365390"
     },
     "user_tz": -480
    },
    "id": "mQOcHPFxoNuG",
    "outputId": "bc1fd35b-02e2-4e87-c7e3-925d1f2ebfc8"
   },
   "outputs": [
    {
     "name": "stdout",
     "output_type": "stream",
     "text": [
      "                                     name             Unnamed: 2\n",
      "0             Klinik 1 Malaysia Alma Jaya              Alma Jaya\n",
      "1                Klinik 1 Malaysia Aulong                 Aulong\n",
      "2           Klinik 1 Malaysia Bandar Lela            Bandar Lela\n",
      "3    Klinik 1 Malaysia Bandar Puteri Jaya     Bandar Puteri Jaya\n",
      "4  Klinik 1 Malaysia Bandar seri Iskandar   Bandar seri Iskandar\n"
     ]
    }
   ],
   "source": [
    "print(df.iloc[0:5,1:3]) # SLICING: first 5 rows of data, and 2 selected columns"
   ]
  },
  {
   "cell_type": "markdown",
   "metadata": {
    "id": "j5qnV0HooNuL"
   },
   "source": [
    "Pandas library is huge. You can have a look here: https://pandas.pydata.org/pandas-docs/stable/reference/frame.html\n",
    "\n",
    "Some attributes (properties) are quite useful to get information of the dataframe."
   ]
  },
  {
   "cell_type": "code",
   "execution_count": 50,
   "metadata": {
    "colab": {
     "base_uri": "https://localhost:8080/"
    },
    "executionInfo": {
     "elapsed": 926,
     "status": "ok",
     "timestamp": 1606966431251,
     "user": {
      "displayName": "John See",
      "photoUrl": "https://lh3.googleusercontent.com/a-/AOh14GiT4VyFFZRUvkpbrIX_L0tIFUuWgOHNse2TN30A=s64",
      "userId": "10345508966486365390"
     },
     "user_tz": -480
    },
    "id": "Rj8GznpHoNuL",
    "outputId": "abc9ac62-b9d0-4c0e-9fbf-7248f543df5a"
   },
   "outputs": [
    {
     "data": {
      "text/plain": [
       "Index(['id', 'name', 'Unnamed: 2', 'address', 'address2', 'state_id',\n",
       "       'postcode', 'city', 'tel', 'fax', 'website', 'email', 'image',\n",
       "       'latitude', 'longitude', 'likes', 'rating', 'status'],\n",
       "      dtype='object')"
      ]
     },
     "execution_count": 50,
     "metadata": {},
     "output_type": "execute_result"
    }
   ],
   "source": [
    "df.columns"
   ]
  },
  {
   "cell_type": "code",
   "execution_count": 51,
   "metadata": {
    "colab": {
     "base_uri": "https://localhost:8080/"
    },
    "executionInfo": {
     "elapsed": 831,
     "status": "ok",
     "timestamp": 1606966446060,
     "user": {
      "displayName": "John See",
      "photoUrl": "https://lh3.googleusercontent.com/a-/AOh14GiT4VyFFZRUvkpbrIX_L0tIFUuWgOHNse2TN30A=s64",
      "userId": "10345508966486365390"
     },
     "user_tz": -480
    },
    "id": "PFp87JE4oNuT",
    "outputId": "56ceb981-faa5-44c5-cecd-5def24eac034"
   },
   "outputs": [
    {
     "data": {
      "text/plain": [
       "array([[1, 'Klinik 1 Malaysia Alma Jaya', ' Alma Jaya', ..., 0, 0, 'NEW'],\n",
       "       [2, 'Klinik 1 Malaysia Aulong', ' Aulong', ..., 0, 0, 'NEW'],\n",
       "       [3, 'Klinik 1 Malaysia Bandar Lela', ' Bandar Lela', ..., 0, 0,\n",
       "        'NEW'],\n",
       "       ...,\n",
       "       [58, 'Klinik 1 Malaysia Temerloh', ' Temerloh', ..., 0, 0, 'NEW'],\n",
       "       [59, 'Klinik 1 Malaysia Wakaf Baru', ' Wakaf Baru', ..., 0, 0,\n",
       "        'NEW'],\n",
       "       [60, 'Klinik 1Malaysia Kerinchi', 'Kerinchi', ..., 0, 0, 'NEW']],\n",
       "      dtype=object)"
      ]
     },
     "execution_count": 51,
     "metadata": {},
     "output_type": "execute_result"
    }
   ],
   "source": [
    "df.values"
   ]
  },
  {
   "cell_type": "code",
   "execution_count": 52,
   "metadata": {
    "colab": {
     "base_uri": "https://localhost:8080/"
    },
    "executionInfo": {
     "elapsed": 916,
     "status": "ok",
     "timestamp": 1606966461159,
     "user": {
      "displayName": "John See",
      "photoUrl": "https://lh3.googleusercontent.com/a-/AOh14GiT4VyFFZRUvkpbrIX_L0tIFUuWgOHNse2TN30A=s64",
      "userId": "10345508966486365390"
     },
     "user_tz": -480
    },
    "id": "EyCCZ4H0oNuY",
    "outputId": "cfb93406-53e8-4e0a-81ed-ae27451aec4a"
   },
   "outputs": [
    {
     "data": {
      "text/plain": [
       "id              int64\n",
       "name           object\n",
       "Unnamed: 2     object\n",
       "address        object\n",
       "address2       object\n",
       "state_id        int64\n",
       "postcode        int64\n",
       "city           object\n",
       "tel            object\n",
       "fax            object\n",
       "website       float64\n",
       "email         float64\n",
       "image          object\n",
       "latitude        int64\n",
       "longitude       int64\n",
       "likes           int64\n",
       "rating          int64\n",
       "status         object\n",
       "dtype: object"
      ]
     },
     "execution_count": 52,
     "metadata": {},
     "output_type": "execute_result"
    }
   ],
   "source": [
    "df.dtypes"
   ]
  },
  {
   "cell_type": "markdown",
   "metadata": {
    "id": "duvmttN5oNuc"
   },
   "source": [
    "`dtypes` property tells us the data types of each column. Notice that string data is always denoted as \"object\". That is because the string class is used  and hence it is an object instance type."
   ]
  },
  {
   "cell_type": "code",
   "execution_count": 53,
   "metadata": {
    "colab": {
     "base_uri": "https://localhost:8080/"
    },
    "executionInfo": {
     "elapsed": 992,
     "status": "ok",
     "timestamp": 1606966489892,
     "user": {
      "displayName": "John See",
      "photoUrl": "https://lh3.googleusercontent.com/a-/AOh14GiT4VyFFZRUvkpbrIX_L0tIFUuWgOHNse2TN30A=s64",
      "userId": "10345508966486365390"
     },
     "user_tz": -480
    },
    "id": "MPV8L2OIoNud",
    "outputId": "1c20b2dc-cde0-4375-f0c0-647e7d44e1e6"
   },
   "outputs": [
    {
     "data": {
      "text/plain": [
       "(60, 18)"
      ]
     },
     "execution_count": 53,
     "metadata": {},
     "output_type": "execute_result"
    }
   ],
   "source": [
    "df.shape"
   ]
  },
  {
   "cell_type": "markdown",
   "metadata": {
    "id": "z47p4DIMoNuh"
   },
   "source": [
    "Just like Numpy, `shape` gets us the dimensions of the data. Think of dataframes like a two-dimensional array, the first number is the number of rows, and the second number is the number of columns.\n",
    "\n",
    "Now, what if we want to access a particular slice of the data, but we cannot remember indices (numbers are really difficult to remember and unintuitive since it might change when data changes). Slicing an entire column out of a dataframe is simple:"
   ]
  },
  {
   "cell_type": "code",
   "execution_count": 54,
   "metadata": {
    "colab": {
     "base_uri": "https://localhost:8080/"
    },
    "executionInfo": {
     "elapsed": 944,
     "status": "ok",
     "timestamp": 1606967336307,
     "user": {
      "displayName": "John See",
      "photoUrl": "https://lh3.googleusercontent.com/a-/AOh14GiT4VyFFZRUvkpbrIX_L0tIFUuWgOHNse2TN30A=s64",
      "userId": "10345508966486365390"
     },
     "user_tz": -480
    },
    "id": "N8nBw0kdoNui",
    "outputId": "d1091dba-7dbc-49f1-a085-bcefd98a5377"
   },
   "outputs": [
    {
     "name": "stdout",
     "output_type": "stream",
     "text": [
      "0             Bukit Mertajam\n",
      "1                    Taiping\n",
      "2                Bandar Lela\n",
      "3              Sungai Petani\n",
      "4       Bandar Seri Iskandar\n",
      "5                Johor Bahru\n",
      "6           Bandar Sri Indah\n",
      "7                     Melaka\n",
      "8                   Seremban\n",
      "9                 Alor Gajah\n",
      "10               Johor Bahru\n",
      "11    Seberang Perai Selatan\n",
      "12                      Jeli\n",
      "13                      Ipoh\n",
      "14                   Kemaman\n",
      "15           Bukit Beruntung\n",
      "16                    Melaka\n",
      "17                    Marang\n",
      "18             Hulu Selangor\n",
      "19                 Penampang\n",
      "20            Kuala Selangor\n",
      "21              Kuala Lumpur\n",
      "22                   Kuantan\n",
      "23                Kota Bharu\n",
      "24      Bandar Seri Iskandar\n",
      "25              Kuala Lumpur\n",
      "26                      Sibu\n",
      "27                    Bachok\n",
      "28                Georgetown\n",
      "29                    Kangar\n",
      "30                   Kuantan\n",
      "31                Kota Bharu\n",
      "32                     Kulim\n",
      "33               Kelana Jaya\n",
      "34                   Kuching\n",
      "35                 Pasir Mas\n",
      "36              Kuala Lumpur\n",
      "37             Petaling Jaya\n",
      "38                  Seremban\n",
      "39                Alor Gajah\n",
      "40               Johor Bahru\n",
      "41                   Kuantan\n",
      "42             Kota Kinabalu\n",
      "43               Bayan Lepas\n",
      "44                   Bintulu\n",
      "45                 Batu Cave\n",
      "46                   Kuantan\n",
      "47                     Kulai\n",
      "48               Johor Bahru\n",
      "49              Kuala Lumpur\n",
      "50                      Muar\n",
      "51                  Seremban\n",
      "52                     Nilai\n",
      "53                    Kluang\n",
      "54                      Miri\n",
      "55               Butterworth\n",
      "56               Teluk Intan\n",
      "57                  Temerloh\n",
      "58          Kuala Terengganu\n",
      "59              Kuala Lumpur\n",
      "Name: city, dtype: object\n"
     ]
    },
    {
     "data": {
      "text/plain": [
       "pandas.core.series.Series"
      ]
     },
     "execution_count": 54,
     "metadata": {},
     "output_type": "execute_result"
    }
   ],
   "source": [
    "sr = df['city']\n",
    "print(sr)\n",
    "type(sr)"
   ]
  },
  {
   "cell_type": "markdown",
   "metadata": {
    "id": "vJ0_bxMtoNum"
   },
   "source": [
    "**Note**: Observe closely, that this sliced out column is actually...a Series! We can consider the column name as the key or index, to access the Series. So you can think anatomically, that a Dataframe (table) consists of many Series (columns). Here's a nice labelled diagram showing this concept:\n",
    "\n",
    "![](https://geo-python.github.io/site/_images/pandas-structures-annotated.png)"
   ]
  },
  {
   "cell_type": "code",
   "execution_count": 55,
   "metadata": {
    "colab": {
     "base_uri": "https://localhost:8080/"
    },
    "executionInfo": {
     "elapsed": 870,
     "status": "ok",
     "timestamp": 1606967332780,
     "user": {
      "displayName": "John See",
      "photoUrl": "https://lh3.googleusercontent.com/a-/AOh14GiT4VyFFZRUvkpbrIX_L0tIFUuWgOHNse2TN30A=s64",
      "userId": "10345508966486365390"
     },
     "user_tz": -480
    },
    "id": "r4DEfyY8oNun",
    "outputId": "d10f3427-824b-4637-86a0-f0d11b66bc05"
   },
   "outputs": [
    {
     "data": {
      "text/plain": [
       "60"
      ]
     },
     "execution_count": 55,
     "metadata": {},
     "output_type": "execute_result"
    }
   ],
   "source": [
    "len(df)"
   ]
  },
  {
   "cell_type": "markdown",
   "metadata": {
    "id": "JOrlqpJOoNus"
   },
   "source": [
    "Let's create a new DataFrame, with this Series `sr` in it... (very easy)"
   ]
  },
  {
   "cell_type": "code",
   "execution_count": 56,
   "metadata": {
    "id": "yqP3SaWUoNus"
   },
   "outputs": [
    {
     "data": {
      "text/html": [
       "<div>\n",
       "<style scoped>\n",
       "    .dataframe tbody tr th:only-of-type {\n",
       "        vertical-align: middle;\n",
       "    }\n",
       "\n",
       "    .dataframe tbody tr th {\n",
       "        vertical-align: top;\n",
       "    }\n",
       "\n",
       "    .dataframe thead th {\n",
       "        text-align: right;\n",
       "    }\n",
       "</style>\n",
       "<table border=\"1\" class=\"dataframe\">\n",
       "  <thead>\n",
       "    <tr style=\"text-align: right;\">\n",
       "      <th></th>\n",
       "      <th>city</th>\n",
       "    </tr>\n",
       "  </thead>\n",
       "  <tbody>\n",
       "    <tr>\n",
       "      <th>0</th>\n",
       "      <td>Bukit Mertajam</td>\n",
       "    </tr>\n",
       "    <tr>\n",
       "      <th>1</th>\n",
       "      <td>Taiping</td>\n",
       "    </tr>\n",
       "    <tr>\n",
       "      <th>2</th>\n",
       "      <td>Bandar Lela</td>\n",
       "    </tr>\n",
       "    <tr>\n",
       "      <th>3</th>\n",
       "      <td>Sungai Petani</td>\n",
       "    </tr>\n",
       "    <tr>\n",
       "      <th>4</th>\n",
       "      <td>Bandar Seri Iskandar</td>\n",
       "    </tr>\n",
       "    <tr>\n",
       "      <th>5</th>\n",
       "      <td>Johor Bahru</td>\n",
       "    </tr>\n",
       "    <tr>\n",
       "      <th>6</th>\n",
       "      <td>Bandar Sri Indah</td>\n",
       "    </tr>\n",
       "    <tr>\n",
       "      <th>7</th>\n",
       "      <td>Melaka</td>\n",
       "    </tr>\n",
       "    <tr>\n",
       "      <th>8</th>\n",
       "      <td>Seremban</td>\n",
       "    </tr>\n",
       "    <tr>\n",
       "      <th>9</th>\n",
       "      <td>Alor Gajah</td>\n",
       "    </tr>\n",
       "    <tr>\n",
       "      <th>10</th>\n",
       "      <td>Johor Bahru</td>\n",
       "    </tr>\n",
       "    <tr>\n",
       "      <th>11</th>\n",
       "      <td>Seberang Perai Selatan</td>\n",
       "    </tr>\n",
       "    <tr>\n",
       "      <th>12</th>\n",
       "      <td>Jeli</td>\n",
       "    </tr>\n",
       "    <tr>\n",
       "      <th>13</th>\n",
       "      <td>Ipoh</td>\n",
       "    </tr>\n",
       "    <tr>\n",
       "      <th>14</th>\n",
       "      <td>Kemaman</td>\n",
       "    </tr>\n",
       "    <tr>\n",
       "      <th>15</th>\n",
       "      <td>Bukit Beruntung</td>\n",
       "    </tr>\n",
       "    <tr>\n",
       "      <th>16</th>\n",
       "      <td>Melaka</td>\n",
       "    </tr>\n",
       "    <tr>\n",
       "      <th>17</th>\n",
       "      <td>Marang</td>\n",
       "    </tr>\n",
       "    <tr>\n",
       "      <th>18</th>\n",
       "      <td>Hulu Selangor</td>\n",
       "    </tr>\n",
       "    <tr>\n",
       "      <th>19</th>\n",
       "      <td>Penampang</td>\n",
       "    </tr>\n",
       "    <tr>\n",
       "      <th>20</th>\n",
       "      <td>Kuala Selangor</td>\n",
       "    </tr>\n",
       "    <tr>\n",
       "      <th>21</th>\n",
       "      <td>Kuala Lumpur</td>\n",
       "    </tr>\n",
       "    <tr>\n",
       "      <th>22</th>\n",
       "      <td>Kuantan</td>\n",
       "    </tr>\n",
       "    <tr>\n",
       "      <th>23</th>\n",
       "      <td>Kota Bharu</td>\n",
       "    </tr>\n",
       "    <tr>\n",
       "      <th>24</th>\n",
       "      <td>Bandar Seri Iskandar</td>\n",
       "    </tr>\n",
       "    <tr>\n",
       "      <th>25</th>\n",
       "      <td>Kuala Lumpur</td>\n",
       "    </tr>\n",
       "    <tr>\n",
       "      <th>26</th>\n",
       "      <td>Sibu</td>\n",
       "    </tr>\n",
       "    <tr>\n",
       "      <th>27</th>\n",
       "      <td>Bachok</td>\n",
       "    </tr>\n",
       "    <tr>\n",
       "      <th>28</th>\n",
       "      <td>Georgetown</td>\n",
       "    </tr>\n",
       "    <tr>\n",
       "      <th>29</th>\n",
       "      <td>Kangar</td>\n",
       "    </tr>\n",
       "    <tr>\n",
       "      <th>30</th>\n",
       "      <td>Kuantan</td>\n",
       "    </tr>\n",
       "    <tr>\n",
       "      <th>31</th>\n",
       "      <td>Kota Bharu</td>\n",
       "    </tr>\n",
       "    <tr>\n",
       "      <th>32</th>\n",
       "      <td>Kulim</td>\n",
       "    </tr>\n",
       "    <tr>\n",
       "      <th>33</th>\n",
       "      <td>Kelana Jaya</td>\n",
       "    </tr>\n",
       "    <tr>\n",
       "      <th>34</th>\n",
       "      <td>Kuching</td>\n",
       "    </tr>\n",
       "    <tr>\n",
       "      <th>35</th>\n",
       "      <td>Pasir Mas</td>\n",
       "    </tr>\n",
       "    <tr>\n",
       "      <th>36</th>\n",
       "      <td>Kuala Lumpur</td>\n",
       "    </tr>\n",
       "    <tr>\n",
       "      <th>37</th>\n",
       "      <td>Petaling Jaya</td>\n",
       "    </tr>\n",
       "    <tr>\n",
       "      <th>38</th>\n",
       "      <td>Seremban</td>\n",
       "    </tr>\n",
       "    <tr>\n",
       "      <th>39</th>\n",
       "      <td>Alor Gajah</td>\n",
       "    </tr>\n",
       "    <tr>\n",
       "      <th>40</th>\n",
       "      <td>Johor Bahru</td>\n",
       "    </tr>\n",
       "    <tr>\n",
       "      <th>41</th>\n",
       "      <td>Kuantan</td>\n",
       "    </tr>\n",
       "    <tr>\n",
       "      <th>42</th>\n",
       "      <td>Kota Kinabalu</td>\n",
       "    </tr>\n",
       "    <tr>\n",
       "      <th>43</th>\n",
       "      <td>Bayan Lepas</td>\n",
       "    </tr>\n",
       "    <tr>\n",
       "      <th>44</th>\n",
       "      <td>Bintulu</td>\n",
       "    </tr>\n",
       "    <tr>\n",
       "      <th>45</th>\n",
       "      <td>Batu Cave</td>\n",
       "    </tr>\n",
       "    <tr>\n",
       "      <th>46</th>\n",
       "      <td>Kuantan</td>\n",
       "    </tr>\n",
       "    <tr>\n",
       "      <th>47</th>\n",
       "      <td>Kulai</td>\n",
       "    </tr>\n",
       "    <tr>\n",
       "      <th>48</th>\n",
       "      <td>Johor Bahru</td>\n",
       "    </tr>\n",
       "    <tr>\n",
       "      <th>49</th>\n",
       "      <td>Kuala Lumpur</td>\n",
       "    </tr>\n",
       "    <tr>\n",
       "      <th>50</th>\n",
       "      <td>Muar</td>\n",
       "    </tr>\n",
       "    <tr>\n",
       "      <th>51</th>\n",
       "      <td>Seremban</td>\n",
       "    </tr>\n",
       "    <tr>\n",
       "      <th>52</th>\n",
       "      <td>Nilai</td>\n",
       "    </tr>\n",
       "    <tr>\n",
       "      <th>53</th>\n",
       "      <td>Kluang</td>\n",
       "    </tr>\n",
       "    <tr>\n",
       "      <th>54</th>\n",
       "      <td>Miri</td>\n",
       "    </tr>\n",
       "    <tr>\n",
       "      <th>55</th>\n",
       "      <td>Butterworth</td>\n",
       "    </tr>\n",
       "    <tr>\n",
       "      <th>56</th>\n",
       "      <td>Teluk Intan</td>\n",
       "    </tr>\n",
       "    <tr>\n",
       "      <th>57</th>\n",
       "      <td>Temerloh</td>\n",
       "    </tr>\n",
       "    <tr>\n",
       "      <th>58</th>\n",
       "      <td>Kuala Terengganu</td>\n",
       "    </tr>\n",
       "    <tr>\n",
       "      <th>59</th>\n",
       "      <td>Kuala Lumpur</td>\n",
       "    </tr>\n",
       "  </tbody>\n",
       "</table>\n",
       "</div>"
      ],
      "text/plain": [
       "                      city\n",
       "0           Bukit Mertajam\n",
       "1                  Taiping\n",
       "2              Bandar Lela\n",
       "3            Sungai Petani\n",
       "4     Bandar Seri Iskandar\n",
       "5              Johor Bahru\n",
       "6         Bandar Sri Indah\n",
       "7                   Melaka\n",
       "8                 Seremban\n",
       "9               Alor Gajah\n",
       "10             Johor Bahru\n",
       "11  Seberang Perai Selatan\n",
       "12                    Jeli\n",
       "13                    Ipoh\n",
       "14                 Kemaman\n",
       "15         Bukit Beruntung\n",
       "16                  Melaka\n",
       "17                  Marang\n",
       "18           Hulu Selangor\n",
       "19               Penampang\n",
       "20          Kuala Selangor\n",
       "21            Kuala Lumpur\n",
       "22                 Kuantan\n",
       "23              Kota Bharu\n",
       "24    Bandar Seri Iskandar\n",
       "25            Kuala Lumpur\n",
       "26                    Sibu\n",
       "27                  Bachok\n",
       "28              Georgetown\n",
       "29                  Kangar\n",
       "30                 Kuantan\n",
       "31              Kota Bharu\n",
       "32                   Kulim\n",
       "33             Kelana Jaya\n",
       "34                 Kuching\n",
       "35               Pasir Mas\n",
       "36            Kuala Lumpur\n",
       "37           Petaling Jaya\n",
       "38                Seremban\n",
       "39              Alor Gajah\n",
       "40             Johor Bahru\n",
       "41                 Kuantan\n",
       "42           Kota Kinabalu\n",
       "43             Bayan Lepas\n",
       "44                 Bintulu\n",
       "45               Batu Cave\n",
       "46                 Kuantan\n",
       "47                   Kulai\n",
       "48             Johor Bahru\n",
       "49            Kuala Lumpur\n",
       "50                    Muar\n",
       "51                Seremban\n",
       "52                   Nilai\n",
       "53                  Kluang\n",
       "54                    Miri\n",
       "55             Butterworth\n",
       "56             Teluk Intan\n",
       "57                Temerloh\n",
       "58        Kuala Terengganu\n",
       "59            Kuala Lumpur"
      ]
     },
     "execution_count": 56,
     "metadata": {},
     "output_type": "execute_result"
    }
   ],
   "source": [
    "fr = pd.DataFrame(sr)\n",
    "fr"
   ]
  },
  {
   "cell_type": "markdown",
   "metadata": {
    "id": "56ciX-lRoNux"
   },
   "source": [
    "Let's generate more Series data and add them to the DataFrame..."
   ]
  },
  {
   "cell_type": "code",
   "execution_count": 57,
   "metadata": {
    "executionInfo": {
     "elapsed": 898,
     "status": "ok",
     "timestamp": 1606967352625,
     "user": {
      "displayName": "John See",
      "photoUrl": "https://lh3.googleusercontent.com/a-/AOh14GiT4VyFFZRUvkpbrIX_L0tIFUuWgOHNse2TN30A=s64",
      "userId": "10345508966486365390"
     },
     "user_tz": -480
    },
    "id": "Dqgr9xKkoNux"
   },
   "outputs": [],
   "source": [
    "x = [np.random.randint(500, 1500) for p in range(0, len(fr))]\n",
    "fr['patients'] = pd.Series(x)\n",
    "fr['ratings'] = pd.Series(np.random.randn(len(fr)))"
   ]
  },
  {
   "cell_type": "code",
   "execution_count": 58,
   "metadata": {
    "colab": {
     "base_uri": "https://localhost:8080/",
     "height": 1000
    },
    "executionInfo": {
     "elapsed": 912,
     "status": "ok",
     "timestamp": 1606967355472,
     "user": {
      "displayName": "John See",
      "photoUrl": "https://lh3.googleusercontent.com/a-/AOh14GiT4VyFFZRUvkpbrIX_L0tIFUuWgOHNse2TN30A=s64",
      "userId": "10345508966486365390"
     },
     "user_tz": -480
    },
    "id": "T75RIZBAoNu0",
    "outputId": "9f9bd1b8-9617-44b5-9040-bd3a419fa3db"
   },
   "outputs": [
    {
     "data": {
      "text/html": [
       "<div>\n",
       "<style scoped>\n",
       "    .dataframe tbody tr th:only-of-type {\n",
       "        vertical-align: middle;\n",
       "    }\n",
       "\n",
       "    .dataframe tbody tr th {\n",
       "        vertical-align: top;\n",
       "    }\n",
       "\n",
       "    .dataframe thead th {\n",
       "        text-align: right;\n",
       "    }\n",
       "</style>\n",
       "<table border=\"1\" class=\"dataframe\">\n",
       "  <thead>\n",
       "    <tr style=\"text-align: right;\">\n",
       "      <th></th>\n",
       "      <th>city</th>\n",
       "      <th>patients</th>\n",
       "      <th>ratings</th>\n",
       "    </tr>\n",
       "  </thead>\n",
       "  <tbody>\n",
       "    <tr>\n",
       "      <th>0</th>\n",
       "      <td>Bukit Mertajam</td>\n",
       "      <td>624</td>\n",
       "      <td>-0.223430</td>\n",
       "    </tr>\n",
       "    <tr>\n",
       "      <th>1</th>\n",
       "      <td>Taiping</td>\n",
       "      <td>1344</td>\n",
       "      <td>-1.086681</td>\n",
       "    </tr>\n",
       "    <tr>\n",
       "      <th>2</th>\n",
       "      <td>Bandar Lela</td>\n",
       "      <td>879</td>\n",
       "      <td>1.103169</td>\n",
       "    </tr>\n",
       "    <tr>\n",
       "      <th>3</th>\n",
       "      <td>Sungai Petani</td>\n",
       "      <td>782</td>\n",
       "      <td>-0.388172</td>\n",
       "    </tr>\n",
       "    <tr>\n",
       "      <th>4</th>\n",
       "      <td>Bandar Seri Iskandar</td>\n",
       "      <td>1238</td>\n",
       "      <td>-1.142906</td>\n",
       "    </tr>\n",
       "    <tr>\n",
       "      <th>5</th>\n",
       "      <td>Johor Bahru</td>\n",
       "      <td>804</td>\n",
       "      <td>0.678344</td>\n",
       "    </tr>\n",
       "    <tr>\n",
       "      <th>6</th>\n",
       "      <td>Bandar Sri Indah</td>\n",
       "      <td>777</td>\n",
       "      <td>-1.102639</td>\n",
       "    </tr>\n",
       "    <tr>\n",
       "      <th>7</th>\n",
       "      <td>Melaka</td>\n",
       "      <td>1489</td>\n",
       "      <td>-0.735501</td>\n",
       "    </tr>\n",
       "    <tr>\n",
       "      <th>8</th>\n",
       "      <td>Seremban</td>\n",
       "      <td>1397</td>\n",
       "      <td>0.265003</td>\n",
       "    </tr>\n",
       "    <tr>\n",
       "      <th>9</th>\n",
       "      <td>Alor Gajah</td>\n",
       "      <td>1378</td>\n",
       "      <td>0.646661</td>\n",
       "    </tr>\n",
       "    <tr>\n",
       "      <th>10</th>\n",
       "      <td>Johor Bahru</td>\n",
       "      <td>1061</td>\n",
       "      <td>0.931324</td>\n",
       "    </tr>\n",
       "    <tr>\n",
       "      <th>11</th>\n",
       "      <td>Seberang Perai Selatan</td>\n",
       "      <td>833</td>\n",
       "      <td>0.021163</td>\n",
       "    </tr>\n",
       "    <tr>\n",
       "      <th>12</th>\n",
       "      <td>Jeli</td>\n",
       "      <td>960</td>\n",
       "      <td>0.322556</td>\n",
       "    </tr>\n",
       "    <tr>\n",
       "      <th>13</th>\n",
       "      <td>Ipoh</td>\n",
       "      <td>1027</td>\n",
       "      <td>1.798214</td>\n",
       "    </tr>\n",
       "    <tr>\n",
       "      <th>14</th>\n",
       "      <td>Kemaman</td>\n",
       "      <td>536</td>\n",
       "      <td>1.707814</td>\n",
       "    </tr>\n",
       "    <tr>\n",
       "      <th>15</th>\n",
       "      <td>Bukit Beruntung</td>\n",
       "      <td>725</td>\n",
       "      <td>-0.873302</td>\n",
       "    </tr>\n",
       "    <tr>\n",
       "      <th>16</th>\n",
       "      <td>Melaka</td>\n",
       "      <td>610</td>\n",
       "      <td>-0.917660</td>\n",
       "    </tr>\n",
       "    <tr>\n",
       "      <th>17</th>\n",
       "      <td>Marang</td>\n",
       "      <td>1380</td>\n",
       "      <td>1.880192</td>\n",
       "    </tr>\n",
       "    <tr>\n",
       "      <th>18</th>\n",
       "      <td>Hulu Selangor</td>\n",
       "      <td>1017</td>\n",
       "      <td>-0.263342</td>\n",
       "    </tr>\n",
       "    <tr>\n",
       "      <th>19</th>\n",
       "      <td>Penampang</td>\n",
       "      <td>560</td>\n",
       "      <td>-0.145786</td>\n",
       "    </tr>\n",
       "    <tr>\n",
       "      <th>20</th>\n",
       "      <td>Kuala Selangor</td>\n",
       "      <td>1364</td>\n",
       "      <td>0.015792</td>\n",
       "    </tr>\n",
       "    <tr>\n",
       "      <th>21</th>\n",
       "      <td>Kuala Lumpur</td>\n",
       "      <td>697</td>\n",
       "      <td>0.007286</td>\n",
       "    </tr>\n",
       "    <tr>\n",
       "      <th>22</th>\n",
       "      <td>Kuantan</td>\n",
       "      <td>1083</td>\n",
       "      <td>-1.673237</td>\n",
       "    </tr>\n",
       "    <tr>\n",
       "      <th>23</th>\n",
       "      <td>Kota Bharu</td>\n",
       "      <td>1483</td>\n",
       "      <td>0.004396</td>\n",
       "    </tr>\n",
       "    <tr>\n",
       "      <th>24</th>\n",
       "      <td>Bandar Seri Iskandar</td>\n",
       "      <td>1215</td>\n",
       "      <td>-0.000666</td>\n",
       "    </tr>\n",
       "    <tr>\n",
       "      <th>25</th>\n",
       "      <td>Kuala Lumpur</td>\n",
       "      <td>1436</td>\n",
       "      <td>-0.446416</td>\n",
       "    </tr>\n",
       "    <tr>\n",
       "      <th>26</th>\n",
       "      <td>Sibu</td>\n",
       "      <td>1220</td>\n",
       "      <td>1.775607</td>\n",
       "    </tr>\n",
       "    <tr>\n",
       "      <th>27</th>\n",
       "      <td>Bachok</td>\n",
       "      <td>841</td>\n",
       "      <td>-1.049130</td>\n",
       "    </tr>\n",
       "    <tr>\n",
       "      <th>28</th>\n",
       "      <td>Georgetown</td>\n",
       "      <td>705</td>\n",
       "      <td>1.401280</td>\n",
       "    </tr>\n",
       "    <tr>\n",
       "      <th>29</th>\n",
       "      <td>Kangar</td>\n",
       "      <td>1319</td>\n",
       "      <td>0.751836</td>\n",
       "    </tr>\n",
       "    <tr>\n",
       "      <th>30</th>\n",
       "      <td>Kuantan</td>\n",
       "      <td>1399</td>\n",
       "      <td>-0.331850</td>\n",
       "    </tr>\n",
       "    <tr>\n",
       "      <th>31</th>\n",
       "      <td>Kota Bharu</td>\n",
       "      <td>614</td>\n",
       "      <td>0.766839</td>\n",
       "    </tr>\n",
       "    <tr>\n",
       "      <th>32</th>\n",
       "      <td>Kulim</td>\n",
       "      <td>1025</td>\n",
       "      <td>-0.389471</td>\n",
       "    </tr>\n",
       "    <tr>\n",
       "      <th>33</th>\n",
       "      <td>Kelana Jaya</td>\n",
       "      <td>1341</td>\n",
       "      <td>0.506219</td>\n",
       "    </tr>\n",
       "    <tr>\n",
       "      <th>34</th>\n",
       "      <td>Kuching</td>\n",
       "      <td>866</td>\n",
       "      <td>1.349980</td>\n",
       "    </tr>\n",
       "    <tr>\n",
       "      <th>35</th>\n",
       "      <td>Pasir Mas</td>\n",
       "      <td>994</td>\n",
       "      <td>0.857537</td>\n",
       "    </tr>\n",
       "    <tr>\n",
       "      <th>36</th>\n",
       "      <td>Kuala Lumpur</td>\n",
       "      <td>674</td>\n",
       "      <td>-1.486657</td>\n",
       "    </tr>\n",
       "    <tr>\n",
       "      <th>37</th>\n",
       "      <td>Petaling Jaya</td>\n",
       "      <td>1262</td>\n",
       "      <td>1.242012</td>\n",
       "    </tr>\n",
       "    <tr>\n",
       "      <th>38</th>\n",
       "      <td>Seremban</td>\n",
       "      <td>997</td>\n",
       "      <td>0.241277</td>\n",
       "    </tr>\n",
       "    <tr>\n",
       "      <th>39</th>\n",
       "      <td>Alor Gajah</td>\n",
       "      <td>1461</td>\n",
       "      <td>-0.718263</td>\n",
       "    </tr>\n",
       "    <tr>\n",
       "      <th>40</th>\n",
       "      <td>Johor Bahru</td>\n",
       "      <td>985</td>\n",
       "      <td>-0.782545</td>\n",
       "    </tr>\n",
       "    <tr>\n",
       "      <th>41</th>\n",
       "      <td>Kuantan</td>\n",
       "      <td>1402</td>\n",
       "      <td>-1.237578</td>\n",
       "    </tr>\n",
       "    <tr>\n",
       "      <th>42</th>\n",
       "      <td>Kota Kinabalu</td>\n",
       "      <td>1436</td>\n",
       "      <td>2.054239</td>\n",
       "    </tr>\n",
       "    <tr>\n",
       "      <th>43</th>\n",
       "      <td>Bayan Lepas</td>\n",
       "      <td>568</td>\n",
       "      <td>0.663648</td>\n",
       "    </tr>\n",
       "    <tr>\n",
       "      <th>44</th>\n",
       "      <td>Bintulu</td>\n",
       "      <td>1446</td>\n",
       "      <td>0.690493</td>\n",
       "    </tr>\n",
       "    <tr>\n",
       "      <th>45</th>\n",
       "      <td>Batu Cave</td>\n",
       "      <td>1498</td>\n",
       "      <td>0.603139</td>\n",
       "    </tr>\n",
       "    <tr>\n",
       "      <th>46</th>\n",
       "      <td>Kuantan</td>\n",
       "      <td>809</td>\n",
       "      <td>-0.927832</td>\n",
       "    </tr>\n",
       "    <tr>\n",
       "      <th>47</th>\n",
       "      <td>Kulai</td>\n",
       "      <td>1002</td>\n",
       "      <td>-0.050651</td>\n",
       "    </tr>\n",
       "    <tr>\n",
       "      <th>48</th>\n",
       "      <td>Johor Bahru</td>\n",
       "      <td>1050</td>\n",
       "      <td>-0.677905</td>\n",
       "    </tr>\n",
       "    <tr>\n",
       "      <th>49</th>\n",
       "      <td>Kuala Lumpur</td>\n",
       "      <td>604</td>\n",
       "      <td>0.855698</td>\n",
       "    </tr>\n",
       "    <tr>\n",
       "      <th>50</th>\n",
       "      <td>Muar</td>\n",
       "      <td>705</td>\n",
       "      <td>-1.069332</td>\n",
       "    </tr>\n",
       "    <tr>\n",
       "      <th>51</th>\n",
       "      <td>Seremban</td>\n",
       "      <td>893</td>\n",
       "      <td>0.792474</td>\n",
       "    </tr>\n",
       "    <tr>\n",
       "      <th>52</th>\n",
       "      <td>Nilai</td>\n",
       "      <td>942</td>\n",
       "      <td>-0.769623</td>\n",
       "    </tr>\n",
       "    <tr>\n",
       "      <th>53</th>\n",
       "      <td>Kluang</td>\n",
       "      <td>1063</td>\n",
       "      <td>1.472783</td>\n",
       "    </tr>\n",
       "    <tr>\n",
       "      <th>54</th>\n",
       "      <td>Miri</td>\n",
       "      <td>826</td>\n",
       "      <td>0.900581</td>\n",
       "    </tr>\n",
       "    <tr>\n",
       "      <th>55</th>\n",
       "      <td>Butterworth</td>\n",
       "      <td>990</td>\n",
       "      <td>0.897417</td>\n",
       "    </tr>\n",
       "    <tr>\n",
       "      <th>56</th>\n",
       "      <td>Teluk Intan</td>\n",
       "      <td>777</td>\n",
       "      <td>1.318965</td>\n",
       "    </tr>\n",
       "    <tr>\n",
       "      <th>57</th>\n",
       "      <td>Temerloh</td>\n",
       "      <td>849</td>\n",
       "      <td>-1.439794</td>\n",
       "    </tr>\n",
       "    <tr>\n",
       "      <th>58</th>\n",
       "      <td>Kuala Terengganu</td>\n",
       "      <td>985</td>\n",
       "      <td>0.090893</td>\n",
       "    </tr>\n",
       "    <tr>\n",
       "      <th>59</th>\n",
       "      <td>Kuala Lumpur</td>\n",
       "      <td>793</td>\n",
       "      <td>0.562100</td>\n",
       "    </tr>\n",
       "  </tbody>\n",
       "</table>\n",
       "</div>"
      ],
      "text/plain": [
       "                      city  patients   ratings\n",
       "0           Bukit Mertajam       624 -0.223430\n",
       "1                  Taiping      1344 -1.086681\n",
       "2              Bandar Lela       879  1.103169\n",
       "3            Sungai Petani       782 -0.388172\n",
       "4     Bandar Seri Iskandar      1238 -1.142906\n",
       "5              Johor Bahru       804  0.678344\n",
       "6         Bandar Sri Indah       777 -1.102639\n",
       "7                   Melaka      1489 -0.735501\n",
       "8                 Seremban      1397  0.265003\n",
       "9               Alor Gajah      1378  0.646661\n",
       "10             Johor Bahru      1061  0.931324\n",
       "11  Seberang Perai Selatan       833  0.021163\n",
       "12                    Jeli       960  0.322556\n",
       "13                    Ipoh      1027  1.798214\n",
       "14                 Kemaman       536  1.707814\n",
       "15         Bukit Beruntung       725 -0.873302\n",
       "16                  Melaka       610 -0.917660\n",
       "17                  Marang      1380  1.880192\n",
       "18           Hulu Selangor      1017 -0.263342\n",
       "19               Penampang       560 -0.145786\n",
       "20          Kuala Selangor      1364  0.015792\n",
       "21            Kuala Lumpur       697  0.007286\n",
       "22                 Kuantan      1083 -1.673237\n",
       "23              Kota Bharu      1483  0.004396\n",
       "24    Bandar Seri Iskandar      1215 -0.000666\n",
       "25            Kuala Lumpur      1436 -0.446416\n",
       "26                    Sibu      1220  1.775607\n",
       "27                  Bachok       841 -1.049130\n",
       "28              Georgetown       705  1.401280\n",
       "29                  Kangar      1319  0.751836\n",
       "30                 Kuantan      1399 -0.331850\n",
       "31              Kota Bharu       614  0.766839\n",
       "32                   Kulim      1025 -0.389471\n",
       "33             Kelana Jaya      1341  0.506219\n",
       "34                 Kuching       866  1.349980\n",
       "35               Pasir Mas       994  0.857537\n",
       "36            Kuala Lumpur       674 -1.486657\n",
       "37           Petaling Jaya      1262  1.242012\n",
       "38                Seremban       997  0.241277\n",
       "39              Alor Gajah      1461 -0.718263\n",
       "40             Johor Bahru       985 -0.782545\n",
       "41                 Kuantan      1402 -1.237578\n",
       "42           Kota Kinabalu      1436  2.054239\n",
       "43             Bayan Lepas       568  0.663648\n",
       "44                 Bintulu      1446  0.690493\n",
       "45               Batu Cave      1498  0.603139\n",
       "46                 Kuantan       809 -0.927832\n",
       "47                   Kulai      1002 -0.050651\n",
       "48             Johor Bahru      1050 -0.677905\n",
       "49            Kuala Lumpur       604  0.855698\n",
       "50                    Muar       705 -1.069332\n",
       "51                Seremban       893  0.792474\n",
       "52                   Nilai       942 -0.769623\n",
       "53                  Kluang      1063  1.472783\n",
       "54                    Miri       826  0.900581\n",
       "55             Butterworth       990  0.897417\n",
       "56             Teluk Intan       777  1.318965\n",
       "57                Temerloh       849 -1.439794\n",
       "58        Kuala Terengganu       985  0.090893\n",
       "59            Kuala Lumpur       793  0.562100"
      ]
     },
     "execution_count": 58,
     "metadata": {},
     "output_type": "execute_result"
    }
   ],
   "source": [
    "fr"
   ]
  },
  {
   "cell_type": "markdown",
   "metadata": {
    "id": "h4wScGfyoNu3"
   },
   "source": [
    "We can remove rows and columns from a Dataframe using the `drop` function. To remove rows, just specify which rows (in a list) that you want it dropped. "
   ]
  },
  {
   "cell_type": "code",
   "execution_count": 59,
   "metadata": {
    "colab": {
     "base_uri": "https://localhost:8080/",
     "height": 1000
    },
    "executionInfo": {
     "elapsed": 689,
     "status": "ok",
     "timestamp": 1606967514586,
     "user": {
      "displayName": "John See",
      "photoUrl": "https://lh3.googleusercontent.com/a-/AOh14GiT4VyFFZRUvkpbrIX_L0tIFUuWgOHNse2TN30A=s64",
      "userId": "10345508966486365390"
     },
     "user_tz": -480
    },
    "id": "w6XSlJLGoNu4",
    "outputId": "9eea0265-3c88-4ace-e250-0a9a5c859fca"
   },
   "outputs": [
    {
     "data": {
      "text/html": [
       "<div>\n",
       "<style scoped>\n",
       "    .dataframe tbody tr th:only-of-type {\n",
       "        vertical-align: middle;\n",
       "    }\n",
       "\n",
       "    .dataframe tbody tr th {\n",
       "        vertical-align: top;\n",
       "    }\n",
       "\n",
       "    .dataframe thead th {\n",
       "        text-align: right;\n",
       "    }\n",
       "</style>\n",
       "<table border=\"1\" class=\"dataframe\">\n",
       "  <thead>\n",
       "    <tr style=\"text-align: right;\">\n",
       "      <th></th>\n",
       "      <th>city</th>\n",
       "      <th>patients</th>\n",
       "      <th>ratings</th>\n",
       "    </tr>\n",
       "  </thead>\n",
       "  <tbody>\n",
       "    <tr>\n",
       "      <th>0</th>\n",
       "      <td>Bukit Mertajam</td>\n",
       "      <td>624</td>\n",
       "      <td>-0.223430</td>\n",
       "    </tr>\n",
       "    <tr>\n",
       "      <th>1</th>\n",
       "      <td>Taiping</td>\n",
       "      <td>1344</td>\n",
       "      <td>-1.086681</td>\n",
       "    </tr>\n",
       "    <tr>\n",
       "      <th>2</th>\n",
       "      <td>Bandar Lela</td>\n",
       "      <td>879</td>\n",
       "      <td>1.103169</td>\n",
       "    </tr>\n",
       "    <tr>\n",
       "      <th>3</th>\n",
       "      <td>Sungai Petani</td>\n",
       "      <td>782</td>\n",
       "      <td>-0.388172</td>\n",
       "    </tr>\n",
       "    <tr>\n",
       "      <th>4</th>\n",
       "      <td>Bandar Seri Iskandar</td>\n",
       "      <td>1238</td>\n",
       "      <td>-1.142906</td>\n",
       "    </tr>\n",
       "    <tr>\n",
       "      <th>5</th>\n",
       "      <td>Johor Bahru</td>\n",
       "      <td>804</td>\n",
       "      <td>0.678344</td>\n",
       "    </tr>\n",
       "    <tr>\n",
       "      <th>6</th>\n",
       "      <td>Bandar Sri Indah</td>\n",
       "      <td>777</td>\n",
       "      <td>-1.102639</td>\n",
       "    </tr>\n",
       "    <tr>\n",
       "      <th>7</th>\n",
       "      <td>Melaka</td>\n",
       "      <td>1489</td>\n",
       "      <td>-0.735501</td>\n",
       "    </tr>\n",
       "    <tr>\n",
       "      <th>8</th>\n",
       "      <td>Seremban</td>\n",
       "      <td>1397</td>\n",
       "      <td>0.265003</td>\n",
       "    </tr>\n",
       "    <tr>\n",
       "      <th>9</th>\n",
       "      <td>Alor Gajah</td>\n",
       "      <td>1378</td>\n",
       "      <td>0.646661</td>\n",
       "    </tr>\n",
       "    <tr>\n",
       "      <th>10</th>\n",
       "      <td>Johor Bahru</td>\n",
       "      <td>1061</td>\n",
       "      <td>0.931324</td>\n",
       "    </tr>\n",
       "    <tr>\n",
       "      <th>11</th>\n",
       "      <td>Seberang Perai Selatan</td>\n",
       "      <td>833</td>\n",
       "      <td>0.021163</td>\n",
       "    </tr>\n",
       "    <tr>\n",
       "      <th>12</th>\n",
       "      <td>Jeli</td>\n",
       "      <td>960</td>\n",
       "      <td>0.322556</td>\n",
       "    </tr>\n",
       "    <tr>\n",
       "      <th>13</th>\n",
       "      <td>Ipoh</td>\n",
       "      <td>1027</td>\n",
       "      <td>1.798214</td>\n",
       "    </tr>\n",
       "    <tr>\n",
       "      <th>14</th>\n",
       "      <td>Kemaman</td>\n",
       "      <td>536</td>\n",
       "      <td>1.707814</td>\n",
       "    </tr>\n",
       "    <tr>\n",
       "      <th>15</th>\n",
       "      <td>Bukit Beruntung</td>\n",
       "      <td>725</td>\n",
       "      <td>-0.873302</td>\n",
       "    </tr>\n",
       "    <tr>\n",
       "      <th>16</th>\n",
       "      <td>Melaka</td>\n",
       "      <td>610</td>\n",
       "      <td>-0.917660</td>\n",
       "    </tr>\n",
       "    <tr>\n",
       "      <th>17</th>\n",
       "      <td>Marang</td>\n",
       "      <td>1380</td>\n",
       "      <td>1.880192</td>\n",
       "    </tr>\n",
       "    <tr>\n",
       "      <th>18</th>\n",
       "      <td>Hulu Selangor</td>\n",
       "      <td>1017</td>\n",
       "      <td>-0.263342</td>\n",
       "    </tr>\n",
       "    <tr>\n",
       "      <th>19</th>\n",
       "      <td>Penampang</td>\n",
       "      <td>560</td>\n",
       "      <td>-0.145786</td>\n",
       "    </tr>\n",
       "    <tr>\n",
       "      <th>20</th>\n",
       "      <td>Kuala Selangor</td>\n",
       "      <td>1364</td>\n",
       "      <td>0.015792</td>\n",
       "    </tr>\n",
       "    <tr>\n",
       "      <th>21</th>\n",
       "      <td>Kuala Lumpur</td>\n",
       "      <td>697</td>\n",
       "      <td>0.007286</td>\n",
       "    </tr>\n",
       "    <tr>\n",
       "      <th>22</th>\n",
       "      <td>Kuantan</td>\n",
       "      <td>1083</td>\n",
       "      <td>-1.673237</td>\n",
       "    </tr>\n",
       "    <tr>\n",
       "      <th>23</th>\n",
       "      <td>Kota Bharu</td>\n",
       "      <td>1483</td>\n",
       "      <td>0.004396</td>\n",
       "    </tr>\n",
       "    <tr>\n",
       "      <th>24</th>\n",
       "      <td>Bandar Seri Iskandar</td>\n",
       "      <td>1215</td>\n",
       "      <td>-0.000666</td>\n",
       "    </tr>\n",
       "    <tr>\n",
       "      <th>25</th>\n",
       "      <td>Kuala Lumpur</td>\n",
       "      <td>1436</td>\n",
       "      <td>-0.446416</td>\n",
       "    </tr>\n",
       "    <tr>\n",
       "      <th>26</th>\n",
       "      <td>Sibu</td>\n",
       "      <td>1220</td>\n",
       "      <td>1.775607</td>\n",
       "    </tr>\n",
       "    <tr>\n",
       "      <th>27</th>\n",
       "      <td>Bachok</td>\n",
       "      <td>841</td>\n",
       "      <td>-1.049130</td>\n",
       "    </tr>\n",
       "    <tr>\n",
       "      <th>28</th>\n",
       "      <td>Georgetown</td>\n",
       "      <td>705</td>\n",
       "      <td>1.401280</td>\n",
       "    </tr>\n",
       "    <tr>\n",
       "      <th>29</th>\n",
       "      <td>Kangar</td>\n",
       "      <td>1319</td>\n",
       "      <td>0.751836</td>\n",
       "    </tr>\n",
       "    <tr>\n",
       "      <th>30</th>\n",
       "      <td>Kuantan</td>\n",
       "      <td>1399</td>\n",
       "      <td>-0.331850</td>\n",
       "    </tr>\n",
       "    <tr>\n",
       "      <th>31</th>\n",
       "      <td>Kota Bharu</td>\n",
       "      <td>614</td>\n",
       "      <td>0.766839</td>\n",
       "    </tr>\n",
       "    <tr>\n",
       "      <th>32</th>\n",
       "      <td>Kulim</td>\n",
       "      <td>1025</td>\n",
       "      <td>-0.389471</td>\n",
       "    </tr>\n",
       "    <tr>\n",
       "      <th>33</th>\n",
       "      <td>Kelana Jaya</td>\n",
       "      <td>1341</td>\n",
       "      <td>0.506219</td>\n",
       "    </tr>\n",
       "    <tr>\n",
       "      <th>34</th>\n",
       "      <td>Kuching</td>\n",
       "      <td>866</td>\n",
       "      <td>1.349980</td>\n",
       "    </tr>\n",
       "    <tr>\n",
       "      <th>35</th>\n",
       "      <td>Pasir Mas</td>\n",
       "      <td>994</td>\n",
       "      <td>0.857537</td>\n",
       "    </tr>\n",
       "    <tr>\n",
       "      <th>36</th>\n",
       "      <td>Kuala Lumpur</td>\n",
       "      <td>674</td>\n",
       "      <td>-1.486657</td>\n",
       "    </tr>\n",
       "    <tr>\n",
       "      <th>37</th>\n",
       "      <td>Petaling Jaya</td>\n",
       "      <td>1262</td>\n",
       "      <td>1.242012</td>\n",
       "    </tr>\n",
       "    <tr>\n",
       "      <th>38</th>\n",
       "      <td>Seremban</td>\n",
       "      <td>997</td>\n",
       "      <td>0.241277</td>\n",
       "    </tr>\n",
       "    <tr>\n",
       "      <th>39</th>\n",
       "      <td>Alor Gajah</td>\n",
       "      <td>1461</td>\n",
       "      <td>-0.718263</td>\n",
       "    </tr>\n",
       "    <tr>\n",
       "      <th>40</th>\n",
       "      <td>Johor Bahru</td>\n",
       "      <td>985</td>\n",
       "      <td>-0.782545</td>\n",
       "    </tr>\n",
       "    <tr>\n",
       "      <th>41</th>\n",
       "      <td>Kuantan</td>\n",
       "      <td>1402</td>\n",
       "      <td>-1.237578</td>\n",
       "    </tr>\n",
       "    <tr>\n",
       "      <th>42</th>\n",
       "      <td>Kota Kinabalu</td>\n",
       "      <td>1436</td>\n",
       "      <td>2.054239</td>\n",
       "    </tr>\n",
       "    <tr>\n",
       "      <th>43</th>\n",
       "      <td>Bayan Lepas</td>\n",
       "      <td>568</td>\n",
       "      <td>0.663648</td>\n",
       "    </tr>\n",
       "    <tr>\n",
       "      <th>44</th>\n",
       "      <td>Bintulu</td>\n",
       "      <td>1446</td>\n",
       "      <td>0.690493</td>\n",
       "    </tr>\n",
       "    <tr>\n",
       "      <th>45</th>\n",
       "      <td>Batu Cave</td>\n",
       "      <td>1498</td>\n",
       "      <td>0.603139</td>\n",
       "    </tr>\n",
       "    <tr>\n",
       "      <th>46</th>\n",
       "      <td>Kuantan</td>\n",
       "      <td>809</td>\n",
       "      <td>-0.927832</td>\n",
       "    </tr>\n",
       "    <tr>\n",
       "      <th>47</th>\n",
       "      <td>Kulai</td>\n",
       "      <td>1002</td>\n",
       "      <td>-0.050651</td>\n",
       "    </tr>\n",
       "    <tr>\n",
       "      <th>48</th>\n",
       "      <td>Johor Bahru</td>\n",
       "      <td>1050</td>\n",
       "      <td>-0.677905</td>\n",
       "    </tr>\n",
       "    <tr>\n",
       "      <th>49</th>\n",
       "      <td>Kuala Lumpur</td>\n",
       "      <td>604</td>\n",
       "      <td>0.855698</td>\n",
       "    </tr>\n",
       "    <tr>\n",
       "      <th>52</th>\n",
       "      <td>Nilai</td>\n",
       "      <td>942</td>\n",
       "      <td>-0.769623</td>\n",
       "    </tr>\n",
       "    <tr>\n",
       "      <th>53</th>\n",
       "      <td>Kluang</td>\n",
       "      <td>1063</td>\n",
       "      <td>1.472783</td>\n",
       "    </tr>\n",
       "    <tr>\n",
       "      <th>54</th>\n",
       "      <td>Miri</td>\n",
       "      <td>826</td>\n",
       "      <td>0.900581</td>\n",
       "    </tr>\n",
       "    <tr>\n",
       "      <th>55</th>\n",
       "      <td>Butterworth</td>\n",
       "      <td>990</td>\n",
       "      <td>0.897417</td>\n",
       "    </tr>\n",
       "    <tr>\n",
       "      <th>56</th>\n",
       "      <td>Teluk Intan</td>\n",
       "      <td>777</td>\n",
       "      <td>1.318965</td>\n",
       "    </tr>\n",
       "    <tr>\n",
       "      <th>57</th>\n",
       "      <td>Temerloh</td>\n",
       "      <td>849</td>\n",
       "      <td>-1.439794</td>\n",
       "    </tr>\n",
       "    <tr>\n",
       "      <th>58</th>\n",
       "      <td>Kuala Terengganu</td>\n",
       "      <td>985</td>\n",
       "      <td>0.090893</td>\n",
       "    </tr>\n",
       "    <tr>\n",
       "      <th>59</th>\n",
       "      <td>Kuala Lumpur</td>\n",
       "      <td>793</td>\n",
       "      <td>0.562100</td>\n",
       "    </tr>\n",
       "  </tbody>\n",
       "</table>\n",
       "</div>"
      ],
      "text/plain": [
       "                      city  patients   ratings\n",
       "0           Bukit Mertajam       624 -0.223430\n",
       "1                  Taiping      1344 -1.086681\n",
       "2              Bandar Lela       879  1.103169\n",
       "3            Sungai Petani       782 -0.388172\n",
       "4     Bandar Seri Iskandar      1238 -1.142906\n",
       "5              Johor Bahru       804  0.678344\n",
       "6         Bandar Sri Indah       777 -1.102639\n",
       "7                   Melaka      1489 -0.735501\n",
       "8                 Seremban      1397  0.265003\n",
       "9               Alor Gajah      1378  0.646661\n",
       "10             Johor Bahru      1061  0.931324\n",
       "11  Seberang Perai Selatan       833  0.021163\n",
       "12                    Jeli       960  0.322556\n",
       "13                    Ipoh      1027  1.798214\n",
       "14                 Kemaman       536  1.707814\n",
       "15         Bukit Beruntung       725 -0.873302\n",
       "16                  Melaka       610 -0.917660\n",
       "17                  Marang      1380  1.880192\n",
       "18           Hulu Selangor      1017 -0.263342\n",
       "19               Penampang       560 -0.145786\n",
       "20          Kuala Selangor      1364  0.015792\n",
       "21            Kuala Lumpur       697  0.007286\n",
       "22                 Kuantan      1083 -1.673237\n",
       "23              Kota Bharu      1483  0.004396\n",
       "24    Bandar Seri Iskandar      1215 -0.000666\n",
       "25            Kuala Lumpur      1436 -0.446416\n",
       "26                    Sibu      1220  1.775607\n",
       "27                  Bachok       841 -1.049130\n",
       "28              Georgetown       705  1.401280\n",
       "29                  Kangar      1319  0.751836\n",
       "30                 Kuantan      1399 -0.331850\n",
       "31              Kota Bharu       614  0.766839\n",
       "32                   Kulim      1025 -0.389471\n",
       "33             Kelana Jaya      1341  0.506219\n",
       "34                 Kuching       866  1.349980\n",
       "35               Pasir Mas       994  0.857537\n",
       "36            Kuala Lumpur       674 -1.486657\n",
       "37           Petaling Jaya      1262  1.242012\n",
       "38                Seremban       997  0.241277\n",
       "39              Alor Gajah      1461 -0.718263\n",
       "40             Johor Bahru       985 -0.782545\n",
       "41                 Kuantan      1402 -1.237578\n",
       "42           Kota Kinabalu      1436  2.054239\n",
       "43             Bayan Lepas       568  0.663648\n",
       "44                 Bintulu      1446  0.690493\n",
       "45               Batu Cave      1498  0.603139\n",
       "46                 Kuantan       809 -0.927832\n",
       "47                   Kulai      1002 -0.050651\n",
       "48             Johor Bahru      1050 -0.677905\n",
       "49            Kuala Lumpur       604  0.855698\n",
       "52                   Nilai       942 -0.769623\n",
       "53                  Kluang      1063  1.472783\n",
       "54                    Miri       826  0.900581\n",
       "55             Butterworth       990  0.897417\n",
       "56             Teluk Intan       777  1.318965\n",
       "57                Temerloh       849 -1.439794\n",
       "58        Kuala Terengganu       985  0.090893\n",
       "59            Kuala Lumpur       793  0.562100"
      ]
     },
     "execution_count": 59,
     "metadata": {},
     "output_type": "execute_result"
    }
   ],
   "source": [
    "fr2 = fr.drop([50, 51])\n",
    "fr2\n",
    "\n",
    "#fr.drop([50, 51], inplace=True)    # to make it permanent in fr"
   ]
  },
  {
   "cell_type": "markdown",
   "metadata": {
    "id": "9EynfQzLoNu8"
   },
   "source": [
    "Rows with index 50 and 51 have now been removed. Now, data removal can be a very serious thing and if you happened to make a mistake, it might be costly. Pandas operate in a safe way by not allowing changes to be made directly to the original dataframe that is being accessed. Notice that the rows were only dropped in the new dataframe `fr2`. The original dataframe `fr` remains the same."
   ]
  },
  {
   "cell_type": "code",
   "execution_count": 60,
   "metadata": {
    "colab": {
     "base_uri": "https://localhost:8080/",
     "height": 1000
    },
    "executionInfo": {
     "elapsed": 961,
     "status": "ok",
     "timestamp": 1606967538497,
     "user": {
      "displayName": "John See",
      "photoUrl": "https://lh3.googleusercontent.com/a-/AOh14GiT4VyFFZRUvkpbrIX_L0tIFUuWgOHNse2TN30A=s64",
      "userId": "10345508966486365390"
     },
     "user_tz": -480
    },
    "id": "FJ-c0slroNu8",
    "outputId": "fe38c24d-92b0-4447-eb97-1bbd4c518464"
   },
   "outputs": [
    {
     "data": {
      "text/html": [
       "<div>\n",
       "<style scoped>\n",
       "    .dataframe tbody tr th:only-of-type {\n",
       "        vertical-align: middle;\n",
       "    }\n",
       "\n",
       "    .dataframe tbody tr th {\n",
       "        vertical-align: top;\n",
       "    }\n",
       "\n",
       "    .dataframe thead th {\n",
       "        text-align: right;\n",
       "    }\n",
       "</style>\n",
       "<table border=\"1\" class=\"dataframe\">\n",
       "  <thead>\n",
       "    <tr style=\"text-align: right;\">\n",
       "      <th></th>\n",
       "      <th>city</th>\n",
       "      <th>patients</th>\n",
       "      <th>ratings</th>\n",
       "    </tr>\n",
       "  </thead>\n",
       "  <tbody>\n",
       "    <tr>\n",
       "      <th>0</th>\n",
       "      <td>Bukit Mertajam</td>\n",
       "      <td>624</td>\n",
       "      <td>-0.223430</td>\n",
       "    </tr>\n",
       "    <tr>\n",
       "      <th>1</th>\n",
       "      <td>Taiping</td>\n",
       "      <td>1344</td>\n",
       "      <td>-1.086681</td>\n",
       "    </tr>\n",
       "    <tr>\n",
       "      <th>2</th>\n",
       "      <td>Bandar Lela</td>\n",
       "      <td>879</td>\n",
       "      <td>1.103169</td>\n",
       "    </tr>\n",
       "    <tr>\n",
       "      <th>3</th>\n",
       "      <td>Sungai Petani</td>\n",
       "      <td>782</td>\n",
       "      <td>-0.388172</td>\n",
       "    </tr>\n",
       "    <tr>\n",
       "      <th>4</th>\n",
       "      <td>Bandar Seri Iskandar</td>\n",
       "      <td>1238</td>\n",
       "      <td>-1.142906</td>\n",
       "    </tr>\n",
       "    <tr>\n",
       "      <th>5</th>\n",
       "      <td>Johor Bahru</td>\n",
       "      <td>804</td>\n",
       "      <td>0.678344</td>\n",
       "    </tr>\n",
       "    <tr>\n",
       "      <th>6</th>\n",
       "      <td>Bandar Sri Indah</td>\n",
       "      <td>777</td>\n",
       "      <td>-1.102639</td>\n",
       "    </tr>\n",
       "    <tr>\n",
       "      <th>7</th>\n",
       "      <td>Melaka</td>\n",
       "      <td>1489</td>\n",
       "      <td>-0.735501</td>\n",
       "    </tr>\n",
       "    <tr>\n",
       "      <th>8</th>\n",
       "      <td>Seremban</td>\n",
       "      <td>1397</td>\n",
       "      <td>0.265003</td>\n",
       "    </tr>\n",
       "    <tr>\n",
       "      <th>9</th>\n",
       "      <td>Alor Gajah</td>\n",
       "      <td>1378</td>\n",
       "      <td>0.646661</td>\n",
       "    </tr>\n",
       "    <tr>\n",
       "      <th>10</th>\n",
       "      <td>Johor Bahru</td>\n",
       "      <td>1061</td>\n",
       "      <td>0.931324</td>\n",
       "    </tr>\n",
       "    <tr>\n",
       "      <th>11</th>\n",
       "      <td>Seberang Perai Selatan</td>\n",
       "      <td>833</td>\n",
       "      <td>0.021163</td>\n",
       "    </tr>\n",
       "    <tr>\n",
       "      <th>12</th>\n",
       "      <td>Jeli</td>\n",
       "      <td>960</td>\n",
       "      <td>0.322556</td>\n",
       "    </tr>\n",
       "    <tr>\n",
       "      <th>13</th>\n",
       "      <td>Ipoh</td>\n",
       "      <td>1027</td>\n",
       "      <td>1.798214</td>\n",
       "    </tr>\n",
       "    <tr>\n",
       "      <th>14</th>\n",
       "      <td>Kemaman</td>\n",
       "      <td>536</td>\n",
       "      <td>1.707814</td>\n",
       "    </tr>\n",
       "    <tr>\n",
       "      <th>15</th>\n",
       "      <td>Bukit Beruntung</td>\n",
       "      <td>725</td>\n",
       "      <td>-0.873302</td>\n",
       "    </tr>\n",
       "    <tr>\n",
       "      <th>16</th>\n",
       "      <td>Melaka</td>\n",
       "      <td>610</td>\n",
       "      <td>-0.917660</td>\n",
       "    </tr>\n",
       "    <tr>\n",
       "      <th>17</th>\n",
       "      <td>Marang</td>\n",
       "      <td>1380</td>\n",
       "      <td>1.880192</td>\n",
       "    </tr>\n",
       "    <tr>\n",
       "      <th>18</th>\n",
       "      <td>Hulu Selangor</td>\n",
       "      <td>1017</td>\n",
       "      <td>-0.263342</td>\n",
       "    </tr>\n",
       "    <tr>\n",
       "      <th>19</th>\n",
       "      <td>Penampang</td>\n",
       "      <td>560</td>\n",
       "      <td>-0.145786</td>\n",
       "    </tr>\n",
       "    <tr>\n",
       "      <th>20</th>\n",
       "      <td>Kuala Selangor</td>\n",
       "      <td>1364</td>\n",
       "      <td>0.015792</td>\n",
       "    </tr>\n",
       "    <tr>\n",
       "      <th>21</th>\n",
       "      <td>Kuala Lumpur</td>\n",
       "      <td>697</td>\n",
       "      <td>0.007286</td>\n",
       "    </tr>\n",
       "    <tr>\n",
       "      <th>22</th>\n",
       "      <td>Kuantan</td>\n",
       "      <td>1083</td>\n",
       "      <td>-1.673237</td>\n",
       "    </tr>\n",
       "    <tr>\n",
       "      <th>23</th>\n",
       "      <td>Kota Bharu</td>\n",
       "      <td>1483</td>\n",
       "      <td>0.004396</td>\n",
       "    </tr>\n",
       "    <tr>\n",
       "      <th>24</th>\n",
       "      <td>Bandar Seri Iskandar</td>\n",
       "      <td>1215</td>\n",
       "      <td>-0.000666</td>\n",
       "    </tr>\n",
       "    <tr>\n",
       "      <th>25</th>\n",
       "      <td>Kuala Lumpur</td>\n",
       "      <td>1436</td>\n",
       "      <td>-0.446416</td>\n",
       "    </tr>\n",
       "    <tr>\n",
       "      <th>26</th>\n",
       "      <td>Sibu</td>\n",
       "      <td>1220</td>\n",
       "      <td>1.775607</td>\n",
       "    </tr>\n",
       "    <tr>\n",
       "      <th>27</th>\n",
       "      <td>Bachok</td>\n",
       "      <td>841</td>\n",
       "      <td>-1.049130</td>\n",
       "    </tr>\n",
       "    <tr>\n",
       "      <th>28</th>\n",
       "      <td>Georgetown</td>\n",
       "      <td>705</td>\n",
       "      <td>1.401280</td>\n",
       "    </tr>\n",
       "    <tr>\n",
       "      <th>29</th>\n",
       "      <td>Kangar</td>\n",
       "      <td>1319</td>\n",
       "      <td>0.751836</td>\n",
       "    </tr>\n",
       "    <tr>\n",
       "      <th>30</th>\n",
       "      <td>Kuantan</td>\n",
       "      <td>1399</td>\n",
       "      <td>-0.331850</td>\n",
       "    </tr>\n",
       "    <tr>\n",
       "      <th>31</th>\n",
       "      <td>Kota Bharu</td>\n",
       "      <td>614</td>\n",
       "      <td>0.766839</td>\n",
       "    </tr>\n",
       "    <tr>\n",
       "      <th>32</th>\n",
       "      <td>Kulim</td>\n",
       "      <td>1025</td>\n",
       "      <td>-0.389471</td>\n",
       "    </tr>\n",
       "    <tr>\n",
       "      <th>33</th>\n",
       "      <td>Kelana Jaya</td>\n",
       "      <td>1341</td>\n",
       "      <td>0.506219</td>\n",
       "    </tr>\n",
       "    <tr>\n",
       "      <th>34</th>\n",
       "      <td>Kuching</td>\n",
       "      <td>866</td>\n",
       "      <td>1.349980</td>\n",
       "    </tr>\n",
       "    <tr>\n",
       "      <th>35</th>\n",
       "      <td>Pasir Mas</td>\n",
       "      <td>994</td>\n",
       "      <td>0.857537</td>\n",
       "    </tr>\n",
       "    <tr>\n",
       "      <th>36</th>\n",
       "      <td>Kuala Lumpur</td>\n",
       "      <td>674</td>\n",
       "      <td>-1.486657</td>\n",
       "    </tr>\n",
       "    <tr>\n",
       "      <th>37</th>\n",
       "      <td>Petaling Jaya</td>\n",
       "      <td>1262</td>\n",
       "      <td>1.242012</td>\n",
       "    </tr>\n",
       "    <tr>\n",
       "      <th>38</th>\n",
       "      <td>Seremban</td>\n",
       "      <td>997</td>\n",
       "      <td>0.241277</td>\n",
       "    </tr>\n",
       "    <tr>\n",
       "      <th>39</th>\n",
       "      <td>Alor Gajah</td>\n",
       "      <td>1461</td>\n",
       "      <td>-0.718263</td>\n",
       "    </tr>\n",
       "    <tr>\n",
       "      <th>40</th>\n",
       "      <td>Johor Bahru</td>\n",
       "      <td>985</td>\n",
       "      <td>-0.782545</td>\n",
       "    </tr>\n",
       "    <tr>\n",
       "      <th>41</th>\n",
       "      <td>Kuantan</td>\n",
       "      <td>1402</td>\n",
       "      <td>-1.237578</td>\n",
       "    </tr>\n",
       "    <tr>\n",
       "      <th>42</th>\n",
       "      <td>Kota Kinabalu</td>\n",
       "      <td>1436</td>\n",
       "      <td>2.054239</td>\n",
       "    </tr>\n",
       "    <tr>\n",
       "      <th>43</th>\n",
       "      <td>Bayan Lepas</td>\n",
       "      <td>568</td>\n",
       "      <td>0.663648</td>\n",
       "    </tr>\n",
       "    <tr>\n",
       "      <th>44</th>\n",
       "      <td>Bintulu</td>\n",
       "      <td>1446</td>\n",
       "      <td>0.690493</td>\n",
       "    </tr>\n",
       "    <tr>\n",
       "      <th>45</th>\n",
       "      <td>Batu Cave</td>\n",
       "      <td>1498</td>\n",
       "      <td>0.603139</td>\n",
       "    </tr>\n",
       "    <tr>\n",
       "      <th>46</th>\n",
       "      <td>Kuantan</td>\n",
       "      <td>809</td>\n",
       "      <td>-0.927832</td>\n",
       "    </tr>\n",
       "    <tr>\n",
       "      <th>47</th>\n",
       "      <td>Kulai</td>\n",
       "      <td>1002</td>\n",
       "      <td>-0.050651</td>\n",
       "    </tr>\n",
       "    <tr>\n",
       "      <th>48</th>\n",
       "      <td>Johor Bahru</td>\n",
       "      <td>1050</td>\n",
       "      <td>-0.677905</td>\n",
       "    </tr>\n",
       "    <tr>\n",
       "      <th>49</th>\n",
       "      <td>Kuala Lumpur</td>\n",
       "      <td>604</td>\n",
       "      <td>0.855698</td>\n",
       "    </tr>\n",
       "    <tr>\n",
       "      <th>50</th>\n",
       "      <td>Muar</td>\n",
       "      <td>705</td>\n",
       "      <td>-1.069332</td>\n",
       "    </tr>\n",
       "    <tr>\n",
       "      <th>51</th>\n",
       "      <td>Seremban</td>\n",
       "      <td>893</td>\n",
       "      <td>0.792474</td>\n",
       "    </tr>\n",
       "    <tr>\n",
       "      <th>52</th>\n",
       "      <td>Nilai</td>\n",
       "      <td>942</td>\n",
       "      <td>-0.769623</td>\n",
       "    </tr>\n",
       "    <tr>\n",
       "      <th>53</th>\n",
       "      <td>Kluang</td>\n",
       "      <td>1063</td>\n",
       "      <td>1.472783</td>\n",
       "    </tr>\n",
       "    <tr>\n",
       "      <th>54</th>\n",
       "      <td>Miri</td>\n",
       "      <td>826</td>\n",
       "      <td>0.900581</td>\n",
       "    </tr>\n",
       "    <tr>\n",
       "      <th>55</th>\n",
       "      <td>Butterworth</td>\n",
       "      <td>990</td>\n",
       "      <td>0.897417</td>\n",
       "    </tr>\n",
       "    <tr>\n",
       "      <th>56</th>\n",
       "      <td>Teluk Intan</td>\n",
       "      <td>777</td>\n",
       "      <td>1.318965</td>\n",
       "    </tr>\n",
       "    <tr>\n",
       "      <th>57</th>\n",
       "      <td>Temerloh</td>\n",
       "      <td>849</td>\n",
       "      <td>-1.439794</td>\n",
       "    </tr>\n",
       "    <tr>\n",
       "      <th>58</th>\n",
       "      <td>Kuala Terengganu</td>\n",
       "      <td>985</td>\n",
       "      <td>0.090893</td>\n",
       "    </tr>\n",
       "    <tr>\n",
       "      <th>59</th>\n",
       "      <td>Kuala Lumpur</td>\n",
       "      <td>793</td>\n",
       "      <td>0.562100</td>\n",
       "    </tr>\n",
       "  </tbody>\n",
       "</table>\n",
       "</div>"
      ],
      "text/plain": [
       "                      city  patients   ratings\n",
       "0           Bukit Mertajam       624 -0.223430\n",
       "1                  Taiping      1344 -1.086681\n",
       "2              Bandar Lela       879  1.103169\n",
       "3            Sungai Petani       782 -0.388172\n",
       "4     Bandar Seri Iskandar      1238 -1.142906\n",
       "5              Johor Bahru       804  0.678344\n",
       "6         Bandar Sri Indah       777 -1.102639\n",
       "7                   Melaka      1489 -0.735501\n",
       "8                 Seremban      1397  0.265003\n",
       "9               Alor Gajah      1378  0.646661\n",
       "10             Johor Bahru      1061  0.931324\n",
       "11  Seberang Perai Selatan       833  0.021163\n",
       "12                    Jeli       960  0.322556\n",
       "13                    Ipoh      1027  1.798214\n",
       "14                 Kemaman       536  1.707814\n",
       "15         Bukit Beruntung       725 -0.873302\n",
       "16                  Melaka       610 -0.917660\n",
       "17                  Marang      1380  1.880192\n",
       "18           Hulu Selangor      1017 -0.263342\n",
       "19               Penampang       560 -0.145786\n",
       "20          Kuala Selangor      1364  0.015792\n",
       "21            Kuala Lumpur       697  0.007286\n",
       "22                 Kuantan      1083 -1.673237\n",
       "23              Kota Bharu      1483  0.004396\n",
       "24    Bandar Seri Iskandar      1215 -0.000666\n",
       "25            Kuala Lumpur      1436 -0.446416\n",
       "26                    Sibu      1220  1.775607\n",
       "27                  Bachok       841 -1.049130\n",
       "28              Georgetown       705  1.401280\n",
       "29                  Kangar      1319  0.751836\n",
       "30                 Kuantan      1399 -0.331850\n",
       "31              Kota Bharu       614  0.766839\n",
       "32                   Kulim      1025 -0.389471\n",
       "33             Kelana Jaya      1341  0.506219\n",
       "34                 Kuching       866  1.349980\n",
       "35               Pasir Mas       994  0.857537\n",
       "36            Kuala Lumpur       674 -1.486657\n",
       "37           Petaling Jaya      1262  1.242012\n",
       "38                Seremban       997  0.241277\n",
       "39              Alor Gajah      1461 -0.718263\n",
       "40             Johor Bahru       985 -0.782545\n",
       "41                 Kuantan      1402 -1.237578\n",
       "42           Kota Kinabalu      1436  2.054239\n",
       "43             Bayan Lepas       568  0.663648\n",
       "44                 Bintulu      1446  0.690493\n",
       "45               Batu Cave      1498  0.603139\n",
       "46                 Kuantan       809 -0.927832\n",
       "47                   Kulai      1002 -0.050651\n",
       "48             Johor Bahru      1050 -0.677905\n",
       "49            Kuala Lumpur       604  0.855698\n",
       "50                    Muar       705 -1.069332\n",
       "51                Seremban       893  0.792474\n",
       "52                   Nilai       942 -0.769623\n",
       "53                  Kluang      1063  1.472783\n",
       "54                    Miri       826  0.900581\n",
       "55             Butterworth       990  0.897417\n",
       "56             Teluk Intan       777  1.318965\n",
       "57                Temerloh       849 -1.439794\n",
       "58        Kuala Terengganu       985  0.090893\n",
       "59            Kuala Lumpur       793  0.562100"
      ]
     },
     "execution_count": 60,
     "metadata": {},
     "output_type": "execute_result"
    }
   ],
   "source": [
    "fr"
   ]
  },
  {
   "cell_type": "markdown",
   "metadata": {
    "id": "MTYHgOXEoNu-"
   },
   "source": [
    "If you ever need to make permanent changes (overwriting the original data), you can use the parameter `inplace=True` to perform this [drop](https://pandas.pydata.org/pandas-docs/stable/reference/api/pandas.DataFrame.drop.html) operation \"in place\", in the original dataframe.\n",
    "\n",
    "**Q2**: Write the code (one line only!) to drop the \"patients\" column from DataFrame `fr2`. Ensure that the modification is done on the original dataframe. "
   ]
  },
  {
   "cell_type": "code",
   "execution_count": 61,
   "metadata": {
    "executionInfo": {
     "elapsed": 842,
     "status": "ok",
     "timestamp": 1606967833518,
     "user": {
      "displayName": "John See",
      "photoUrl": "https://lh3.googleusercontent.com/a-/AOh14GiT4VyFFZRUvkpbrIX_L0tIFUuWgOHNse2TN30A=s64",
      "userId": "10345508966486365390"
     },
     "user_tz": -480
    },
    "id": "pD6Tk_76oNu-"
   },
   "outputs": [],
   "source": [
    "# fill in here\n",
    "fr2.drop(columns='patients', inplace=True)"
   ]
  },
  {
   "cell_type": "code",
   "execution_count": 62,
   "metadata": {
    "colab": {
     "base_uri": "https://localhost:8080/",
     "height": 1000
    },
    "executionInfo": {
     "elapsed": 902,
     "status": "ok",
     "timestamp": 1606967841637,
     "user": {
      "displayName": "John See",
      "photoUrl": "https://lh3.googleusercontent.com/a-/AOh14GiT4VyFFZRUvkpbrIX_L0tIFUuWgOHNse2TN30A=s64",
      "userId": "10345508966486365390"
     },
     "user_tz": -480
    },
    "id": "y3VPMoOPoNvE",
    "outputId": "57e67556-2410-4e53-ffd3-3e5fc440a468"
   },
   "outputs": [
    {
     "data": {
      "text/html": [
       "<div>\n",
       "<style scoped>\n",
       "    .dataframe tbody tr th:only-of-type {\n",
       "        vertical-align: middle;\n",
       "    }\n",
       "\n",
       "    .dataframe tbody tr th {\n",
       "        vertical-align: top;\n",
       "    }\n",
       "\n",
       "    .dataframe thead th {\n",
       "        text-align: right;\n",
       "    }\n",
       "</style>\n",
       "<table border=\"1\" class=\"dataframe\">\n",
       "  <thead>\n",
       "    <tr style=\"text-align: right;\">\n",
       "      <th></th>\n",
       "      <th>city</th>\n",
       "      <th>ratings</th>\n",
       "    </tr>\n",
       "  </thead>\n",
       "  <tbody>\n",
       "    <tr>\n",
       "      <th>0</th>\n",
       "      <td>Bukit Mertajam</td>\n",
       "      <td>-0.223430</td>\n",
       "    </tr>\n",
       "    <tr>\n",
       "      <th>1</th>\n",
       "      <td>Taiping</td>\n",
       "      <td>-1.086681</td>\n",
       "    </tr>\n",
       "    <tr>\n",
       "      <th>2</th>\n",
       "      <td>Bandar Lela</td>\n",
       "      <td>1.103169</td>\n",
       "    </tr>\n",
       "    <tr>\n",
       "      <th>3</th>\n",
       "      <td>Sungai Petani</td>\n",
       "      <td>-0.388172</td>\n",
       "    </tr>\n",
       "    <tr>\n",
       "      <th>4</th>\n",
       "      <td>Bandar Seri Iskandar</td>\n",
       "      <td>-1.142906</td>\n",
       "    </tr>\n",
       "    <tr>\n",
       "      <th>5</th>\n",
       "      <td>Johor Bahru</td>\n",
       "      <td>0.678344</td>\n",
       "    </tr>\n",
       "    <tr>\n",
       "      <th>6</th>\n",
       "      <td>Bandar Sri Indah</td>\n",
       "      <td>-1.102639</td>\n",
       "    </tr>\n",
       "    <tr>\n",
       "      <th>7</th>\n",
       "      <td>Melaka</td>\n",
       "      <td>-0.735501</td>\n",
       "    </tr>\n",
       "    <tr>\n",
       "      <th>8</th>\n",
       "      <td>Seremban</td>\n",
       "      <td>0.265003</td>\n",
       "    </tr>\n",
       "    <tr>\n",
       "      <th>9</th>\n",
       "      <td>Alor Gajah</td>\n",
       "      <td>0.646661</td>\n",
       "    </tr>\n",
       "    <tr>\n",
       "      <th>10</th>\n",
       "      <td>Johor Bahru</td>\n",
       "      <td>0.931324</td>\n",
       "    </tr>\n",
       "    <tr>\n",
       "      <th>11</th>\n",
       "      <td>Seberang Perai Selatan</td>\n",
       "      <td>0.021163</td>\n",
       "    </tr>\n",
       "    <tr>\n",
       "      <th>12</th>\n",
       "      <td>Jeli</td>\n",
       "      <td>0.322556</td>\n",
       "    </tr>\n",
       "    <tr>\n",
       "      <th>13</th>\n",
       "      <td>Ipoh</td>\n",
       "      <td>1.798214</td>\n",
       "    </tr>\n",
       "    <tr>\n",
       "      <th>14</th>\n",
       "      <td>Kemaman</td>\n",
       "      <td>1.707814</td>\n",
       "    </tr>\n",
       "    <tr>\n",
       "      <th>15</th>\n",
       "      <td>Bukit Beruntung</td>\n",
       "      <td>-0.873302</td>\n",
       "    </tr>\n",
       "    <tr>\n",
       "      <th>16</th>\n",
       "      <td>Melaka</td>\n",
       "      <td>-0.917660</td>\n",
       "    </tr>\n",
       "    <tr>\n",
       "      <th>17</th>\n",
       "      <td>Marang</td>\n",
       "      <td>1.880192</td>\n",
       "    </tr>\n",
       "    <tr>\n",
       "      <th>18</th>\n",
       "      <td>Hulu Selangor</td>\n",
       "      <td>-0.263342</td>\n",
       "    </tr>\n",
       "    <tr>\n",
       "      <th>19</th>\n",
       "      <td>Penampang</td>\n",
       "      <td>-0.145786</td>\n",
       "    </tr>\n",
       "    <tr>\n",
       "      <th>20</th>\n",
       "      <td>Kuala Selangor</td>\n",
       "      <td>0.015792</td>\n",
       "    </tr>\n",
       "    <tr>\n",
       "      <th>21</th>\n",
       "      <td>Kuala Lumpur</td>\n",
       "      <td>0.007286</td>\n",
       "    </tr>\n",
       "    <tr>\n",
       "      <th>22</th>\n",
       "      <td>Kuantan</td>\n",
       "      <td>-1.673237</td>\n",
       "    </tr>\n",
       "    <tr>\n",
       "      <th>23</th>\n",
       "      <td>Kota Bharu</td>\n",
       "      <td>0.004396</td>\n",
       "    </tr>\n",
       "    <tr>\n",
       "      <th>24</th>\n",
       "      <td>Bandar Seri Iskandar</td>\n",
       "      <td>-0.000666</td>\n",
       "    </tr>\n",
       "    <tr>\n",
       "      <th>25</th>\n",
       "      <td>Kuala Lumpur</td>\n",
       "      <td>-0.446416</td>\n",
       "    </tr>\n",
       "    <tr>\n",
       "      <th>26</th>\n",
       "      <td>Sibu</td>\n",
       "      <td>1.775607</td>\n",
       "    </tr>\n",
       "    <tr>\n",
       "      <th>27</th>\n",
       "      <td>Bachok</td>\n",
       "      <td>-1.049130</td>\n",
       "    </tr>\n",
       "    <tr>\n",
       "      <th>28</th>\n",
       "      <td>Georgetown</td>\n",
       "      <td>1.401280</td>\n",
       "    </tr>\n",
       "    <tr>\n",
       "      <th>29</th>\n",
       "      <td>Kangar</td>\n",
       "      <td>0.751836</td>\n",
       "    </tr>\n",
       "    <tr>\n",
       "      <th>30</th>\n",
       "      <td>Kuantan</td>\n",
       "      <td>-0.331850</td>\n",
       "    </tr>\n",
       "    <tr>\n",
       "      <th>31</th>\n",
       "      <td>Kota Bharu</td>\n",
       "      <td>0.766839</td>\n",
       "    </tr>\n",
       "    <tr>\n",
       "      <th>32</th>\n",
       "      <td>Kulim</td>\n",
       "      <td>-0.389471</td>\n",
       "    </tr>\n",
       "    <tr>\n",
       "      <th>33</th>\n",
       "      <td>Kelana Jaya</td>\n",
       "      <td>0.506219</td>\n",
       "    </tr>\n",
       "    <tr>\n",
       "      <th>34</th>\n",
       "      <td>Kuching</td>\n",
       "      <td>1.349980</td>\n",
       "    </tr>\n",
       "    <tr>\n",
       "      <th>35</th>\n",
       "      <td>Pasir Mas</td>\n",
       "      <td>0.857537</td>\n",
       "    </tr>\n",
       "    <tr>\n",
       "      <th>36</th>\n",
       "      <td>Kuala Lumpur</td>\n",
       "      <td>-1.486657</td>\n",
       "    </tr>\n",
       "    <tr>\n",
       "      <th>37</th>\n",
       "      <td>Petaling Jaya</td>\n",
       "      <td>1.242012</td>\n",
       "    </tr>\n",
       "    <tr>\n",
       "      <th>38</th>\n",
       "      <td>Seremban</td>\n",
       "      <td>0.241277</td>\n",
       "    </tr>\n",
       "    <tr>\n",
       "      <th>39</th>\n",
       "      <td>Alor Gajah</td>\n",
       "      <td>-0.718263</td>\n",
       "    </tr>\n",
       "    <tr>\n",
       "      <th>40</th>\n",
       "      <td>Johor Bahru</td>\n",
       "      <td>-0.782545</td>\n",
       "    </tr>\n",
       "    <tr>\n",
       "      <th>41</th>\n",
       "      <td>Kuantan</td>\n",
       "      <td>-1.237578</td>\n",
       "    </tr>\n",
       "    <tr>\n",
       "      <th>42</th>\n",
       "      <td>Kota Kinabalu</td>\n",
       "      <td>2.054239</td>\n",
       "    </tr>\n",
       "    <tr>\n",
       "      <th>43</th>\n",
       "      <td>Bayan Lepas</td>\n",
       "      <td>0.663648</td>\n",
       "    </tr>\n",
       "    <tr>\n",
       "      <th>44</th>\n",
       "      <td>Bintulu</td>\n",
       "      <td>0.690493</td>\n",
       "    </tr>\n",
       "    <tr>\n",
       "      <th>45</th>\n",
       "      <td>Batu Cave</td>\n",
       "      <td>0.603139</td>\n",
       "    </tr>\n",
       "    <tr>\n",
       "      <th>46</th>\n",
       "      <td>Kuantan</td>\n",
       "      <td>-0.927832</td>\n",
       "    </tr>\n",
       "    <tr>\n",
       "      <th>47</th>\n",
       "      <td>Kulai</td>\n",
       "      <td>-0.050651</td>\n",
       "    </tr>\n",
       "    <tr>\n",
       "      <th>48</th>\n",
       "      <td>Johor Bahru</td>\n",
       "      <td>-0.677905</td>\n",
       "    </tr>\n",
       "    <tr>\n",
       "      <th>49</th>\n",
       "      <td>Kuala Lumpur</td>\n",
       "      <td>0.855698</td>\n",
       "    </tr>\n",
       "    <tr>\n",
       "      <th>52</th>\n",
       "      <td>Nilai</td>\n",
       "      <td>-0.769623</td>\n",
       "    </tr>\n",
       "    <tr>\n",
       "      <th>53</th>\n",
       "      <td>Kluang</td>\n",
       "      <td>1.472783</td>\n",
       "    </tr>\n",
       "    <tr>\n",
       "      <th>54</th>\n",
       "      <td>Miri</td>\n",
       "      <td>0.900581</td>\n",
       "    </tr>\n",
       "    <tr>\n",
       "      <th>55</th>\n",
       "      <td>Butterworth</td>\n",
       "      <td>0.897417</td>\n",
       "    </tr>\n",
       "    <tr>\n",
       "      <th>56</th>\n",
       "      <td>Teluk Intan</td>\n",
       "      <td>1.318965</td>\n",
       "    </tr>\n",
       "    <tr>\n",
       "      <th>57</th>\n",
       "      <td>Temerloh</td>\n",
       "      <td>-1.439794</td>\n",
       "    </tr>\n",
       "    <tr>\n",
       "      <th>58</th>\n",
       "      <td>Kuala Terengganu</td>\n",
       "      <td>0.090893</td>\n",
       "    </tr>\n",
       "    <tr>\n",
       "      <th>59</th>\n",
       "      <td>Kuala Lumpur</td>\n",
       "      <td>0.562100</td>\n",
       "    </tr>\n",
       "  </tbody>\n",
       "</table>\n",
       "</div>"
      ],
      "text/plain": [
       "                      city   ratings\n",
       "0           Bukit Mertajam -0.223430\n",
       "1                  Taiping -1.086681\n",
       "2              Bandar Lela  1.103169\n",
       "3            Sungai Petani -0.388172\n",
       "4     Bandar Seri Iskandar -1.142906\n",
       "5              Johor Bahru  0.678344\n",
       "6         Bandar Sri Indah -1.102639\n",
       "7                   Melaka -0.735501\n",
       "8                 Seremban  0.265003\n",
       "9               Alor Gajah  0.646661\n",
       "10             Johor Bahru  0.931324\n",
       "11  Seberang Perai Selatan  0.021163\n",
       "12                    Jeli  0.322556\n",
       "13                    Ipoh  1.798214\n",
       "14                 Kemaman  1.707814\n",
       "15         Bukit Beruntung -0.873302\n",
       "16                  Melaka -0.917660\n",
       "17                  Marang  1.880192\n",
       "18           Hulu Selangor -0.263342\n",
       "19               Penampang -0.145786\n",
       "20          Kuala Selangor  0.015792\n",
       "21            Kuala Lumpur  0.007286\n",
       "22                 Kuantan -1.673237\n",
       "23              Kota Bharu  0.004396\n",
       "24    Bandar Seri Iskandar -0.000666\n",
       "25            Kuala Lumpur -0.446416\n",
       "26                    Sibu  1.775607\n",
       "27                  Bachok -1.049130\n",
       "28              Georgetown  1.401280\n",
       "29                  Kangar  0.751836\n",
       "30                 Kuantan -0.331850\n",
       "31              Kota Bharu  0.766839\n",
       "32                   Kulim -0.389471\n",
       "33             Kelana Jaya  0.506219\n",
       "34                 Kuching  1.349980\n",
       "35               Pasir Mas  0.857537\n",
       "36            Kuala Lumpur -1.486657\n",
       "37           Petaling Jaya  1.242012\n",
       "38                Seremban  0.241277\n",
       "39              Alor Gajah -0.718263\n",
       "40             Johor Bahru -0.782545\n",
       "41                 Kuantan -1.237578\n",
       "42           Kota Kinabalu  2.054239\n",
       "43             Bayan Lepas  0.663648\n",
       "44                 Bintulu  0.690493\n",
       "45               Batu Cave  0.603139\n",
       "46                 Kuantan -0.927832\n",
       "47                   Kulai -0.050651\n",
       "48             Johor Bahru -0.677905\n",
       "49            Kuala Lumpur  0.855698\n",
       "52                   Nilai -0.769623\n",
       "53                  Kluang  1.472783\n",
       "54                    Miri  0.900581\n",
       "55             Butterworth  0.897417\n",
       "56             Teluk Intan  1.318965\n",
       "57                Temerloh -1.439794\n",
       "58        Kuala Terengganu  0.090893\n",
       "59            Kuala Lumpur  0.562100"
      ]
     },
     "execution_count": 62,
     "metadata": {},
     "output_type": "execute_result"
    }
   ],
   "source": [
    "fr2"
   ]
  },
  {
   "cell_type": "markdown",
   "metadata": {
    "id": "T0QmihrVoNvJ"
   },
   "source": [
    "We can also explore the data (getting some summary of statistics) by using the `describe` method:"
   ]
  },
  {
   "cell_type": "code",
   "execution_count": 63,
   "metadata": {
    "id": "zIQVpFHEoNvL"
   },
   "outputs": [
    {
     "name": "stdout",
     "output_type": "stream",
     "text": [
      "              id   state_id      postcode  website  email  latitude  \\\n",
      "count  60.000000  60.000000     60.000000      0.0    0.0      60.0   \n",
      "mean   30.500000   7.350000  50157.850000      NaN    NaN       0.0   \n",
      "std    17.464249   4.165333  29760.682202      NaN    NaN       0.0   \n",
      "min     1.000000   1.000000   1000.000000      NaN    NaN       0.0   \n",
      "25%    15.750000   4.000000  23350.000000      NaN    NaN       0.0   \n",
      "50%    30.500000   7.000000  48000.000000      NaN    NaN       0.0   \n",
      "75%    45.250000  11.000000  78757.500000      NaN    NaN       0.0   \n",
      "max    60.000000  14.000000  97000.000000      NaN    NaN       0.0   \n",
      "\n",
      "       longitude  likes  rating  \n",
      "count       60.0   60.0    60.0  \n",
      "mean         0.0    0.0     0.0  \n",
      "std          0.0    0.0     0.0  \n",
      "min          0.0    0.0     0.0  \n",
      "25%          0.0    0.0     0.0  \n",
      "50%          0.0    0.0     0.0  \n",
      "75%          0.0    0.0     0.0  \n",
      "max          0.0    0.0     0.0  \n"
     ]
    }
   ],
   "source": [
    "print(df.describe())"
   ]
  },
  {
   "cell_type": "markdown",
   "metadata": {
    "id": "PVYA9gzRoNvO"
   },
   "source": [
    "Becareful with using `describe()` if your data has not been cleaned yet! They can often give you incorrect results.\n",
    "\n",
    "That's all for now. We will do more handling and manipulation of data in the next lab."
   ]
  },
  {
   "cell_type": "markdown",
   "metadata": {
    "id": "7Jv5Ln70A86Y"
   },
   "source": [
    "## Additional Exercises:\n",
    "\n",
    "**AE1**: Multiply A with B, and then multiply A with C. Observe the outcome of two multiplication of Numpy arrays."
   ]
  },
  {
   "cell_type": "code",
   "execution_count": 64,
   "metadata": {},
   "outputs": [],
   "source": [
    "import numpy as np"
   ]
  },
  {
   "cell_type": "code",
   "execution_count": 65,
   "metadata": {
    "id": "oLhN4s3iC8YH"
   },
   "outputs": [
    {
     "name": "stdout",
     "output_type": "stream",
     "text": [
      "(2, 3)\n",
      "(3,)\n",
      "(2, 2)\n"
     ]
    }
   ],
   "source": [
    "A = np.array([[1,3,5],[2,4,6]])   \n",
    "B = np.array([9, 8, 7])\n",
    "C = np.array([[0,1],[1,0]])\n",
    "print(A.shape)\n",
    "print(B.shape)\n",
    "print(C.shape)"
   ]
  },
  {
   "cell_type": "markdown",
   "metadata": {
    "id": "hFdWkzfiEnpm"
   },
   "source": [
    "**AE2**: Using the \"clinic1M.csv\" data file, count the number of clinics in each city. "
   ]
  },
  {
   "cell_type": "code",
   "execution_count": 69,
   "metadata": {},
   "outputs": [
    {
     "data": {
      "text/plain": [
       "city\n",
       "Alor Gajah                1\n",
       "Bachok                    1\n",
       "Bandar Lela               1\n",
       "Bandar Seri Iskandar      1\n",
       "Bandar Sri Indah          1\n",
       "Batu Cave                 1\n",
       "Bayan Lepas               1\n",
       "Bintulu                   1\n",
       "Bukit Beruntung           1\n",
       "Bukit Mertajam            1\n",
       "Butterworth               1\n",
       "Georgetown                1\n",
       "Hulu Selangor             1\n",
       "Ipoh                      1\n",
       "Jeli                      1\n",
       "Johor Bahru               3\n",
       "Kangar                    1\n",
       "Kelana Jaya               1\n",
       "Kemaman                   1\n",
       "Kluang                    1\n",
       "Kota Bharu                1\n",
       "Kota Kinabalu             1\n",
       "Kuala Lumpur              5\n",
       "Kuala Selangor            1\n",
       "Kuala Terengganu          1\n",
       "Kuantan                   2\n",
       "Kuching                   1\n",
       "Kulai                     1\n",
       "Kulim                     1\n",
       "Marang                    1\n",
       "Melaka                    2\n",
       "Miri                      1\n",
       "Muar                      1\n",
       "Nilai                     1\n",
       "Pasir Mas                 1\n",
       "Penampang                 1\n",
       "Petaling Jaya             1\n",
       "Seberang Perai Selatan    1\n",
       "Seremban                  2\n",
       "Sibu                      1\n",
       "Sungai Petani             1\n",
       "Taiping                   1\n",
       "Teluk Intan               1\n",
       "Temerloh                  1\n",
       "Name: name, dtype: int64"
      ]
     },
     "execution_count": 69,
     "metadata": {},
     "output_type": "execute_result"
    }
   ],
   "source": [
    "unique_clinics = df.groupby('city')['name'].nunique()\n",
    "unique_clinics"
   ]
  }
 ],
 "metadata": {
  "colab": {
   "collapsed_sections": [],
   "name": "lab02.ipynb",
   "provenance": [],
   "toc_visible": true
  },
  "kernelspec": {
   "display_name": "env",
   "language": "python",
   "name": "env"
  },
  "language_info": {
   "codemirror_mode": {
    "name": "ipython",
    "version": 3
   },
   "file_extension": ".py",
   "mimetype": "text/x-python",
   "name": "python",
   "nbconvert_exporter": "python",
   "pygments_lexer": "ipython3",
   "version": "3.10.1"
  }
 },
 "nbformat": 4,
 "nbformat_minor": 1
}
